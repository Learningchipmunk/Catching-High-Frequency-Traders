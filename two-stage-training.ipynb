{
 "cells": [
  {
   "cell_type": "code",
   "execution_count": 8,
   "metadata": {},
   "outputs": [],
   "source": [
    "import numpy as np\n",
    "import pandas as pd\n",
    "import lightgbm as lgb\n",
    "import seaborn as sns\n",
    "\n",
    "from sklearn.metrics import accuracy_score\n",
    "from sklearn.metrics import confusion_matrix\n",
    "from sklearn.metrics import classification_report"
   ]
  },
  {
   "cell_type": "code",
   "execution_count": 66,
   "metadata": {},
   "outputs": [],
   "source": [
    "from Preprocessing.preprocessing import match\n",
    "from tqdm import tqdm"
   ]
  },
  {
   "cell_type": "markdown",
   "metadata": {},
   "source": [
    "##### Warning: two stage preprocessing must have been carried out to successfully run this notebook (see *preprocessing-pipeline.ipynb*)"
   ]
  },
  {
   "cell_type": "code",
   "execution_count": 2,
   "metadata": {},
   "outputs": [],
   "source": [
    "preprocessed_data_path = 'Processed_data/'\n",
    "two_stage_folder = preprocessed_data_path+'two_stage/'\n",
    "stage_1_folder = two_stage_folder+'stage_1/'\n",
    "stage_2_folder = two_stage_folder+'stage_2/'"
   ]
  },
  {
   "cell_type": "markdown",
   "metadata": {},
   "source": [
    "### Stage 1:"
   ]
  },
  {
   "cell_type": "markdown",
   "metadata": {},
   "source": [
    "First, let's load stage 1 data"
   ]
  },
  {
   "cell_type": "code",
   "execution_count": 4,
   "metadata": {},
   "outputs": [],
   "source": [
    "# filenames\n",
    "X_train_stage1_filename = \"X_train_stage1.pkl\"\n",
    "y_train_stage1_filename = \"y_train_stage1.pkl\"\n",
    "\n",
    "X_test_stage1_filename = \"X_test_stage1.pkl\"\n",
    "y_test_stage1_filename = \"y_test_stage1.pkl\"\n",
    "\n",
    "# load data\n",
    "X_train_stage1 = pd.read_pickle(stage_1_folder+X_train_stage1_filename)\n",
    "y_train_stage1 = pd.read_pickle(stage_1_folder+y_train_stage1_filename)\n",
    "\n",
    "X_test_stage1 = pd.read_pickle(stage_1_folder+X_test_stage1_filename)\n",
    "y_test_stage1 = pd.read_pickle(stage_1_folder+y_test_stage1_filename)"
   ]
  },
  {
   "cell_type": "markdown",
   "metadata": {},
   "source": [
    "Then one uses gradient boosting technique to classify 'HFT' and 'NON-HFT' traders."
   ]
  },
  {
   "cell_type": "code",
   "execution_count": 7,
   "metadata": {},
   "outputs": [
    {
     "data": {
      "text/plain": [
       "LGBMClassifier()"
      ]
     },
     "execution_count": 7,
     "metadata": {},
     "output_type": "execute_result"
    }
   ],
   "source": [
    "clf = lgb.LGBMClassifier(boosting_type='gbdt')\n",
    "clf.fit(X_train_stage1, y_train_stage1)"
   ]
  },
  {
   "cell_type": "markdown",
   "metadata": {},
   "source": [
    "Now, let's compare train and test set accuracy"
   ]
  },
  {
   "cell_type": "code",
   "execution_count": 12,
   "metadata": {},
   "outputs": [
    {
     "name": "stdout",
     "output_type": "stream",
     "text": [
      "Training set score: 1.0000\n",
      "Test set score: 0.9995\n"
     ]
    }
   ],
   "source": [
    "print('Training set score: {:.4f}'.format(clf.score(X_train_stage1, y_train_stage1)))\n",
    "\n",
    "print('Test set score: {:.4f}'.format(clf.score(X_test_stage1, y_test_stage1)))"
   ]
  },
  {
   "cell_type": "markdown",
   "metadata": {},
   "source": [
    "Plot confusion matrix"
   ]
  },
  {
   "cell_type": "code",
   "execution_count": 15,
   "metadata": {},
   "outputs": [
    {
     "data": {
      "text/plain": [
       "array([[2642,    2],\n",
       "       [   2, 6147]])"
      ]
     },
     "execution_count": 15,
     "metadata": {},
     "output_type": "execute_result"
    }
   ],
   "source": [
    "y_pred=clf.predict(X_test_stage1)\n",
    "cm = confusion_matrix(y_test_stage1, y_pred)\n",
    "cm"
   ]
  },
  {
   "cell_type": "code",
   "execution_count": 17,
   "metadata": {},
   "outputs": [
    {
     "data": {
      "text/plain": [
       "<AxesSubplot:>"
      ]
     },
     "execution_count": 17,
     "metadata": {},
     "output_type": "execute_result"
    },
    {
     "data": {
      "image/png": "[encoded data removed]",
      "text/plain": [
       "<Figure size 432x288 with 2 Axes>"
      ]
     },
     "metadata": {
      "needs_background": "light"
     },
     "output_type": "display_data"
    }
   ],
   "source": [
    "cm_matrix = pd.DataFrame(data=cm, columns=['Actual NON HFT', 'Actual HFT'], \n",
    "                                 index=['Predict NON HFT', 'Predict HFT'])\n",
    "\n",
    "sns.heatmap(cm_matrix, annot=True, fmt='d', cmap='YlGnBu')"
   ]
  },
  {
   "cell_type": "code",
   "execution_count": 37,
   "metadata": {},
   "outputs": [
    {
     "data": {
      "text/plain": [
       "{0, 2}"
      ]
     },
     "execution_count": 37,
     "metadata": {},
     "output_type": "execute_result"
    }
   ],
   "source": [
    "set(y_pred)"
   ]
  },
  {
   "cell_type": "markdown",
   "metadata": {},
   "source": [
    "### Stage 2:"
   ]
  },
  {
   "cell_type": "code",
   "execution_count": 18,
   "metadata": {},
   "outputs": [],
   "source": [
    "# filenames\n",
    "X_train_stage2_filename = \"X_train_stage2.pkl\"\n",
    "y_train_stage2_filename = \"y_train_stage2.pkl\"\n",
    "\n",
    "X_test_stage2_filename = \"X_test_stage2.pkl\"\n",
    "y_test_stage2_filename = \"y_test_stage2.pkl\"\n",
    "\n",
    "# load data\n",
    "X_train_stage2 = pd.read_pickle(stage_2_folder+X_train_stage2_filename)\n",
    "y_train_stage2 = pd.read_pickle(stage_2_folder+y_train_stage2_filename)\n",
    "\n",
    "X_test_stage2 = pd.read_pickle(stage_2_folder+X_test_stage2_filename)\n",
    "y_test_stage2 = pd.read_pickle(stage_2_folder+y_test_stage2_filename)"
   ]
  },
  {
   "cell_type": "code",
   "execution_count": 34,
   "metadata": {},
   "outputs": [
    {
     "data": {
      "text/plain": [
       "dtype('int64')"
      ]
     },
     "execution_count": 34,
     "metadata": {},
     "output_type": "execute_result"
    }
   ],
   "source": [
    "if(X_train_stage2['type'].dtype == 'O'):\n",
    "    X_train_stage2['type'] = X_train_stage2['type'].apply(match)\n",
    "\n",
    "if(X_test_stage2['type'].dtype == 'O'):\n",
    "    X_test_stage2['type'] = X_test_stage2['type'].apply(match)"
   ]
  },
  {
   "cell_type": "markdown",
   "metadata": {},
   "source": [
    "Let's make a vote on the train set, using previously trained classifier"
   ]
  },
  {
   "cell_type": "code",
   "execution_count": 94,
   "metadata": {},
   "outputs": [],
   "source": [
    "def deduce_type_from_vote(score, lower_bound=0.05, upper_bound=0.95):\n",
    "    '''\n",
    "    score: average of predicted type values\n",
    "        over all rows of one trader's block\n",
    "    lower_bound: if HFT percentage is lower than this bound, trader\n",
    "        will be classified as NON-HFT\n",
    "    upper_bound: if HFT percentage is bigger than this bound, trader\n",
    "        will be classified as HFT\n",
    "    '''\n",
    "    \n",
    "    HFT = 2\n",
    "    if(score < lower_bound * HFT):\n",
    "        return 0\n",
    "    elif(score < upper_bound * HFT):\n",
    "        return 1\n",
    "    else:\n",
    "        return 2"
   ]
  },
  {
   "cell_type": "code",
   "execution_count": 79,
   "metadata": {},
   "outputs": [],
   "source": [
    "def zero_one_loss(cm):\n",
    "    '''\n",
    "    cm: confusion matrix\n",
    "    \n",
    "    returns the number of misclassified traders\n",
    "    '''\n",
    "    return np.sum(cm) - np.trace(cm)"
   ]
  },
  {
   "cell_type": "code",
   "execution_count": 126,
   "metadata": {},
   "outputs": [],
   "source": [
    "def compute_cm_s2(X, lower_bound, upper_bound, stage1_m):\n",
    "    '''\n",
    "    X: traders data\n",
    "    lower_bound, upper_bound: parameters of deduce_type_from_vote\n",
    "    stage1_m: model trained at stage 1\n",
    "    \n",
    "    computes the confusion matrix, after a vote using stage 1 model on\n",
    "    each line of X\n",
    "    '''\n",
    "    traders = list(set(X['Trader']))\n",
    "    \n",
    "    cm = np.zeros((3,3))\n",
    "\n",
    "    for trader in traders:\n",
    "        # isolate data related to one trader\n",
    "        trader_block = X[X['Trader'] == trader]\n",
    "        real_type = trader_block['type'].iloc[0] \n",
    "\n",
    "        # drop columns so as to use the stage 1 model\n",
    "        trader_block.drop('Trader', axis=1, inplace=True)\n",
    "        trader_block.drop('type', axis=1, inplace=True)\n",
    "\n",
    "        # predict types using a vote\n",
    "        pred_type_lines = stage1_m.predict(trader_block)\n",
    "        score = np.mean(pred_type_lines)\n",
    "        pred_type = deduce_type_from_vote(score, lower_bound=lower_bound,\n",
    "                                          upper_bound=upper_bound)\n",
    "\n",
    "        cm[real_type][pred_type] += 1\n",
    "\n",
    "    return cm"
   ]
  },
  {
   "cell_type": "markdown",
   "metadata": {},
   "source": [
    "We will use a grid search to optimize 'lower_bound' and 'upper_bound' parameters"
   ]
  },
  {
   "cell_type": "code",
   "execution_count": 103,
   "metadata": {},
   "outputs": [],
   "source": [
    "def grid_search(X, stage1_m, max_NON_HFT_bound=0.1, min_HFT_bound=0.9, num=10):\n",
    "    '''\n",
    "    X: traders data\n",
    "    max_NON_HFT_bound, min_HFT_bound: bounds for the grid search\n",
    "    num: number of points on each axis of the grid\n",
    "    stage1_m: model trained at stage 1\n",
    "    \n",
    "    grid search to optimize the bounds used by deduce_type_from_vote\n",
    "    '''\n",
    "    \n",
    "    # define the grid\n",
    "    NON_HFT_bounds = np.linspace(0., max_NON_HFT_bound, num=num)\n",
    "    HFT_bounds = np.linspace(min_HFT_bound, 1., num=num)\n",
    "    \n",
    "    opt_bounds = np.zeros(2)\n",
    "    min_loss = len(set(X['Trader'])) + 1 # total number of traders\n",
    "    \n",
    "    for non_hft_b in tqdm(NON_HFT_bounds):\n",
    "        for hft_b in HFT_bounds:\n",
    "            cm = compute_cm_s2(X, non_hft_b, hft_b, stage1_m)\n",
    "            loss = zero_one_loss(cm)\n",
    "            if(loss < min_loss):\n",
    "                opt_bounds[0], opt_bounds[1] = non_hft_b, hft_b\n",
    "                min_loss = loss\n",
    "    \n",
    "    return opt_bounds\n"
   ]
  },
  {
   "cell_type": "code",
   "execution_count": 104,
   "metadata": {},
   "outputs": [
    {
     "name": "stderr",
     "output_type": "stream",
     "text": [
      "100%|██████████| 15/15 [00:38<00:00,  2.60s/it]\n"
     ]
    }
   ],
   "source": [
    "opt_low, opt_up = grid_search(X_train_stage2, clf, num=15)"
   ]
  },
  {
   "cell_type": "code",
   "execution_count": 105,
   "metadata": {},
   "outputs": [
    {
     "name": "stdout",
     "output_type": "stream",
     "text": [
      "0.014285714285714287 1.0\n"
     ]
    }
   ],
   "source": [
    "print(opt_low, opt_up)"
   ]
  },
  {
   "cell_type": "code",
   "execution_count": 107,
   "metadata": {},
   "outputs": [
    {
     "name": "stdout",
     "output_type": "stream",
     "text": [
      "Training loss: 0.20833333333333334\n"
     ]
    }
   ],
   "source": [
    "cm = compute_cm_s2(X_train_stage2, opt_low, opt_up, clf)\n",
    "print(\"Training loss:\", zero_one_loss(cm)/np.sum(cm))"
   ]
  },
  {
   "cell_type": "markdown",
   "metadata": {},
   "source": [
    "Apply on test set"
   ]
  },
  {
   "cell_type": "code",
   "execution_count": 110,
   "metadata": {},
   "outputs": [
    {
     "name": "stdout",
     "output_type": "stream",
     "text": [
      "Test loss: 0.0\n"
     ]
    }
   ],
   "source": [
    "cm_test = compute_cm_s2(X_test_stage2, opt_low, opt_up, clf)\n",
    "print(\"Test loss:\", zero_one_loss(cm_test)/np.sum(cm_test))"
   ]
  },
  {
   "cell_type": "markdown",
   "metadata": {},
   "source": [
    "### Build a prediction"
   ]
  },
  {
   "cell_type": "code",
   "execution_count": 137,
   "metadata": {},
   "outputs": [],
   "source": [
    "from TestingPipeline.TestModel import *"
   ]
  },
  {
   "cell_type": "markdown",
   "metadata": {},
   "source": [
    "Stage 1 training"
   ]
  },
  {
   "cell_type": "code",
   "execution_count": 98,
   "metadata": {},
   "outputs": [],
   "source": [
    "X_s1 = X_train_stage1.append(X_test_stage1, ignore_index=True)\n",
    "y_s1 = y_train_stage1.append(y_test_stage1, ignore_index=True)"
   ]
  },
  {
   "cell_type": "code",
   "execution_count": 113,
   "metadata": {},
   "outputs": [
    {
     "data": {
      "text/plain": [
       "LGBMClassifier()"
      ]
     },
     "execution_count": 113,
     "metadata": {},
     "output_type": "execute_result"
    }
   ],
   "source": [
    "clf_final = lgb.LGBMClassifier(boosting_type='gbdt')\n",
    "clf_final.fit(X_s1, y_s1)"
   ]
  },
  {
   "cell_type": "code",
   "execution_count": 114,
   "metadata": {},
   "outputs": [
    {
     "name": "stdout",
     "output_type": "stream",
     "text": [
      "Training set score: 1.0000\n"
     ]
    }
   ],
   "source": [
    "print('Training set score: {:.4f}'.format(clf_final.score(X_s1, y_s1)))"
   ]
  },
  {
   "cell_type": "markdown",
   "metadata": {},
   "source": [
    "Stage 2 training"
   ]
  },
  {
   "cell_type": "code",
   "execution_count": 115,
   "metadata": {},
   "outputs": [],
   "source": [
    "X_s2 = X_train_stage2.append(X_test_stage2, ignore_index=True)\n",
    "y_s2 = y_train_stage2.append(y_test_stage2, ignore_index=True)"
   ]
  },
  {
   "cell_type": "code",
   "execution_count": 116,
   "metadata": {},
   "outputs": [
    {
     "name": "stderr",
     "output_type": "stream",
     "text": [
      "100%|██████████| 15/15 [01:12<00:00,  4.82s/it]\n"
     ]
    }
   ],
   "source": [
    "opt_low_final, opt_up_final = grid_search(X_s2, clf_final, num=15)"
   ]
  },
  {
   "cell_type": "code",
   "execution_count": 148,
   "metadata": {},
   "outputs": [
    {
     "name": "stdout",
     "output_type": "stream",
     "text": [
      "0.014285714285714287 1.0\n"
     ]
    }
   ],
   "source": [
    "print(opt_low_final, opt_up_final)"
   ]
  },
  {
   "cell_type": "code",
   "execution_count": 117,
   "metadata": {},
   "outputs": [
    {
     "name": "stdout",
     "output_type": "stream",
     "text": [
      "Training loss: 0.14285714285714285\n"
     ]
    }
   ],
   "source": [
    "cm = compute_cm_s2(X_s2, opt_low_final, opt_up_final, clf_final)\n",
    "print(\"Training loss:\", zero_one_loss(cm)/np.sum(cm))"
   ]
  },
  {
   "cell_type": "code",
   "execution_count": 121,
   "metadata": {},
   "outputs": [],
   "source": [
    "X_test = pd.read_csv('Processed_data/X_test_preprocessed.csv')"
   ]
  },
  {
   "cell_type": "code",
   "execution_count": 125,
   "metadata": {},
   "outputs": [
    {
     "data": {
      "text/plain": [
       "20"
      ]
     },
     "execution_count": 125,
     "metadata": {},
     "output_type": "execute_result"
    }
   ],
   "source": [
    "X_s2.shape[1]"
   ]
  },
  {
   "cell_type": "code",
   "execution_count": 123,
   "metadata": {},
   "outputs": [
    {
     "data": {
      "text/plain": [
       "(19,)"
      ]
     },
     "execution_count": 123,
     "metadata": {},
     "output_type": "execute_result"
    }
   ],
   "source": [
    "X_test.columns.shape"
   ]
  },
  {
   "cell_type": "code",
   "execution_count": 127,
   "metadata": {},
   "outputs": [],
   "source": [
    "def match_inv(x):\n",
    "    if x == 0:\n",
    "        return 'NON HFT'\n",
    "    elif x == 1:\n",
    "        return 'MIX'\n",
    "    elif x == 2:\n",
    "        return 'HFT'\n",
    "    else:\n",
    "        return 'WTF'"
   ]
  },
  {
   "cell_type": "code",
   "execution_count": 130,
   "metadata": {},
   "outputs": [],
   "source": [
    "def predict_label(X_test, lower_bound, upper_bound, stage1_m):\n",
    "    '''\n",
    "    X_test: traders test data\n",
    "    lower_bound, upper_bound: parameters of deduce_type_from_vote\n",
    "    stage1_m: model trained at stage 1\n",
    "    \n",
    "    returns the predicted type label for each trader\n",
    "    '''\n",
    "    traders = list(set(X_test['Trader']))\n",
    "    \n",
    "    pred_traders = {}\n",
    "    cm = np.zeros((3,3))\n",
    "\n",
    "    for trader in traders:\n",
    "        # isolate data related to one trader\n",
    "        trader_block = X_test[X_test['Trader'] == trader]\n",
    "\n",
    "        # drop columns so as to use the stage 1 model\n",
    "        trader_block.drop('Trader', axis=1, inplace=True)\n",
    "\n",
    "        # predict types using a vote\n",
    "        pred_type_lines = stage1_m.predict(trader_block)\n",
    "        score = np.mean(pred_type_lines)\n",
    "        pred_type = deduce_type_from_vote(score, lower_bound=lower_bound,\n",
    "                                          upper_bound=upper_bound)\n",
    "        \n",
    "        pred_traders[trader] = match_inv(pred_type)\n",
    "        \n",
    "    return pred_traders"
   ]
  },
  {
   "cell_type": "code",
   "execution_count": 131,
   "metadata": {},
   "outputs": [],
   "source": [
    "y_pred = predict_label(X_test, opt_low_final, opt_up_final, clf_final)"
   ]
  },
  {
   "cell_type": "code",
   "execution_count": 139,
   "metadata": {},
   "outputs": [
    {
     "name": "stdout",
     "output_type": "stream",
     "text": [
      "Help on dict object:\n",
      "\n",
      "class dict(object)\n",
      " |  dict() -> new empty dictionary\n",
      " |  dict(mapping) -> new dictionary initialized from a mapping object's\n",
      " |      (key, value) pairs\n",
      " |  dict(iterable) -> new dictionary initialized as if via:\n",
      " |      d = {}\n",
      " |      for k, v in iterable:\n",
      " |          d[k] = v\n",
      " |  dict(**kwargs) -> new dictionary initialized with the name=value pairs\n",
      " |      in the keyword argument list.  For example:  dict(one=1, two=2)\n",
      " |  \n",
      " |  Built-in subclasses:\n",
      " |      StgDict\n",
      " |  \n",
      " |  Methods defined here:\n",
      " |  \n",
      " |  __contains__(self, key, /)\n",
      " |      True if the dictionary has the specified key, else False.\n",
      " |  \n",
      " |  __delitem__(self, key, /)\n",
      " |      Delete self[key].\n",
      " |  \n",
      " |  __eq__(self, value, /)\n",
      " |      Return self==value.\n",
      " |  \n",
      " |  __ge__(self, value, /)\n",
      " |      Return self>=value.\n",
      " |  \n",
      " |  __getattribute__(self, name, /)\n",
      " |      Return getattr(self, name).\n",
      " |  \n",
      " |  __getitem__(...)\n",
      " |      x.__getitem__(y) <==> x[y]\n",
      " |  \n",
      " |  __gt__(self, value, /)\n",
      " |      Return self>value.\n",
      " |  \n",
      " |  __init__(self, /, *args, **kwargs)\n",
      " |      Initialize self.  See help(type(self)) for accurate signature.\n",
      " |  \n",
      " |  __iter__(self, /)\n",
      " |      Implement iter(self).\n",
      " |  \n",
      " |  __le__(self, value, /)\n",
      " |      Return self<=value.\n",
      " |  \n",
      " |  __len__(self, /)\n",
      " |      Return len(self).\n",
      " |  \n",
      " |  __lt__(self, value, /)\n",
      " |      Return self<value.\n",
      " |  \n",
      " |  __ne__(self, value, /)\n",
      " |      Return self!=value.\n",
      " |  \n",
      " |  __repr__(self, /)\n",
      " |      Return repr(self).\n",
      " |  \n",
      " |  __reversed__(self, /)\n",
      " |      Return a reverse iterator over the dict keys.\n",
      " |  \n",
      " |  __setitem__(self, key, value, /)\n",
      " |      Set self[key] to value.\n",
      " |  \n",
      " |  __sizeof__(...)\n",
      " |      D.__sizeof__() -> size of D in memory, in bytes\n",
      " |  \n",
      " |  clear(...)\n",
      " |      D.clear() -> None.  Remove all items from D.\n",
      " |  \n",
      " |  copy(...)\n",
      " |      D.copy() -> a shallow copy of D\n",
      " |  \n",
      " |  get(self, key, default=None, /)\n",
      " |      Return the value for key if key is in the dictionary, else default.\n",
      " |  \n",
      " |  items(...)\n",
      " |      D.items() -> a set-like object providing a view on D's items\n",
      " |  \n",
      " |  keys(...)\n",
      " |      D.keys() -> a set-like object providing a view on D's keys\n",
      " |  \n",
      " |  pop(...)\n",
      " |      D.pop(k[,d]) -> v, remove specified key and return the corresponding value.\n",
      " |      If key is not found, d is returned if given, otherwise KeyError is raised\n",
      " |  \n",
      " |  popitem(self, /)\n",
      " |      Remove and return a (key, value) pair as a 2-tuple.\n",
      " |      \n",
      " |      Pairs are returned in LIFO (last-in, first-out) order.\n",
      " |      Raises KeyError if the dict is empty.\n",
      " |  \n",
      " |  setdefault(self, key, default=None, /)\n",
      " |      Insert key with a value of default if key is not in the dictionary.\n",
      " |      \n",
      " |      Return the value for key if key is in the dictionary, else default.\n",
      " |  \n",
      " |  update(...)\n",
      " |      D.update([E, ]**F) -> None.  Update D from dict/iterable E and F.\n",
      " |      If E is present and has a .keys() method, then does:  for k in E: D[k] = E[k]\n",
      " |      If E is present and lacks a .keys() method, then does:  for k, v in E: D[k] = v\n",
      " |      In either case, this is followed by: for k in F:  D[k] = F[k]\n",
      " |  \n",
      " |  values(...)\n",
      " |      D.values() -> an object providing a view on D's values\n",
      " |  \n",
      " |  ----------------------------------------------------------------------\n",
      " |  Class methods defined here:\n",
      " |  \n",
      " |  fromkeys(iterable, value=None, /) from builtins.type\n",
      " |      Create a new dictionary with keys from iterable and values set to value.\n",
      " |  \n",
      " |  ----------------------------------------------------------------------\n",
      " |  Static methods defined here:\n",
      " |  \n",
      " |  __new__(*args, **kwargs) from builtins.type\n",
      " |      Create and return a new object.  See help(type) for accurate signature.\n",
      " |  \n",
      " |  ----------------------------------------------------------------------\n",
      " |  Data and other attributes defined here:\n",
      " |  \n",
      " |  __hash__ = None\n",
      "\n"
     ]
    }
   ],
   "source": [
    "help(y_pred)"
   ]
  },
  {
   "cell_type": "code",
   "execution_count": 140,
   "metadata": {},
   "outputs": [
    {
     "data": {
      "text/plain": [
       "dict_values(['HFT', 'HFT', 'NON HFT', 'HFT', 'MIX', 'NON HFT', 'MIX', 'MIX', 'MIX', 'MIX', 'MIX', 'MIX', 'NON HFT', 'NON HFT', 'MIX', 'NON HFT', 'NON HFT', 'NON HFT', 'MIX', 'MIX', 'MIX', 'NON HFT', 'MIX', 'NON HFT', 'NON HFT', 'MIX', 'MIX', 'NON HFT', 'MIX', 'MIX', 'MIX', 'NON HFT', 'NON HFT', 'MIX', 'MIX', 'NON HFT', 'MIX', 'MIX', 'NON HFT', 'MIX', 'NON HFT', 'NON HFT', 'NON HFT', 'NON HFT', 'NON HFT', 'NON HFT', 'NON HFT', 'NON HFT', 'NON HFT', 'NON HFT', 'NON HFT', 'MIX', 'MIX', 'MIX', 'MIX', 'NON HFT', 'NON HFT', 'NON HFT', 'NON HFT', 'NON HFT', 'NON HFT', 'HFT', 'MIX', 'MIX', 'HFT', 'NON HFT', 'NON HFT', 'HFT', 'MIX', 'NON HFT', 'NON HFT', 'NON HFT', 'MIX', 'NON HFT', 'NON HFT', 'NON HFT', 'NON HFT', 'MIX', 'MIX', 'MIX', 'MIX', 'MIX', 'HFT', 'NON HFT', 'HFT'])"
      ]
     },
     "execution_count": 140,
     "metadata": {},
     "output_type": "execute_result"
    }
   ],
   "source": [
    "y_pred.values()"
   ]
  },
  {
   "cell_type": "code",
   "execution_count": 145,
   "metadata": {},
   "outputs": [
    {
     "data": {
      "text/html": [
       "<div>\n",
       "<style scoped>\n",
       "    .dataframe tbody tr th:only-of-type {\n",
       "        vertical-align: middle;\n",
       "    }\n",
       "\n",
       "    .dataframe tbody tr th {\n",
       "        vertical-align: top;\n",
       "    }\n",
       "\n",
       "    .dataframe thead th {\n",
       "        text-align: right;\n",
       "    }\n",
       "</style>\n",
       "<table border=\"1\" class=\"dataframe\">\n",
       "  <thead>\n",
       "    <tr style=\"text-align: right;\">\n",
       "      <th></th>\n",
       "      <th>Trader</th>\n",
       "      <th>type</th>\n",
       "    </tr>\n",
       "  </thead>\n",
       "  <tbody>\n",
       "    <tr>\n",
       "      <th>0</th>\n",
       "      <td>The Doorman</td>\n",
       "      <td>HFT</td>\n",
       "    </tr>\n",
       "    <tr>\n",
       "      <th>1</th>\n",
       "      <td>Alice</td>\n",
       "      <td>HFT</td>\n",
       "    </tr>\n",
       "    <tr>\n",
       "      <th>2</th>\n",
       "      <td>Dr. Delbert Doppler</td>\n",
       "      <td>NON HFT</td>\n",
       "    </tr>\n",
       "    <tr>\n",
       "      <th>3</th>\n",
       "      <td>Brudo Avarius</td>\n",
       "      <td>HFT</td>\n",
       "    </tr>\n",
       "    <tr>\n",
       "      <th>4</th>\n",
       "      <td>Dr. Facilier</td>\n",
       "      <td>MIX</td>\n",
       "    </tr>\n",
       "  </tbody>\n",
       "</table>\n",
       "</div>"
      ],
      "text/plain": [
       "                Trader     type\n",
       "0          The Doorman      HFT\n",
       "1                Alice      HFT\n",
       "2  Dr. Delbert Doppler  NON HFT\n",
       "3        Brudo Avarius      HFT\n",
       "4         Dr. Facilier      MIX"
      ]
     },
     "execution_count": 145,
     "metadata": {},
     "output_type": "execute_result"
    }
   ],
   "source": [
    "pred = pd.DataFrame()\n",
    "pred['Trader'] = y_pred.keys()\n",
    "pred['type'] = y_pred.values()\n",
    "pred.head()"
   ]
  },
  {
   "cell_type": "code",
   "execution_count": 147,
   "metadata": {},
   "outputs": [],
   "source": [
    "pred.to_csv('Prediction/pred_two_stage.csv', index =False)"
   ]
  },
  {
   "cell_type": "code",
   "execution_count": null,
   "metadata": {},
   "outputs": [],
   "source": []
  }
 ],
 "metadata": {
  "kernelspec": {
   "display_name": "Python 3",
   "language": "python",
   "name": "python3"
  },
  "language_info": {
   "codemirror_mode": {
    "name": "ipython",
    "version": 3
   },
   "file_extension": ".py",
   "mimetype": "text/x-python",
   "name": "python",
   "nbconvert_exporter": "python",
   "pygments_lexer": "ipython3",
   "version": "3.8.5"
  }
 },
 "nbformat": 4,
 "nbformat_minor": 4
}
