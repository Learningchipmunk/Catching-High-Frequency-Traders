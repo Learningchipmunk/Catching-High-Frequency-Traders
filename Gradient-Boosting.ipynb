{
 "cells": [
  {
   "cell_type": "markdown",
   "id": "connected-european",
   "metadata": {},
   "source": [
    "# In this notebook, we are going to build a gradient boosting algorithm:\n",
    "Inspired [by](https://www.kaggle.com/prashant111/lightgbm-classifier-in-python)"
   ]
  },
  {
   "cell_type": "code",
   "execution_count": 1,
   "id": "level-brain",
   "metadata": {},
   "outputs": [],
   "source": [
    "import pandas as pd\n",
    "import numpy as np\n",
    "import seaborn as sns\n",
    "#import lightgbm as lgb\n",
    "import pickle\n",
    "\n",
    "from sklearn.ensemble import GradientBoostingClassifier  #GBM algorithm\n",
    "from sklearn.model_selection  import cross_validate, GridSearchCV\n",
    "from sklearn  import metrics   #Additional scklearn functions\n",
    "from sklearn.metrics import accuracy_score, confusion_matrix, classification_report\n",
    "from verstack.stratified_continuous_split import scsplit\n",
    "\n",
    "import matplotlib.pylab as plt\n",
    "%matplotlib inline\n",
    "from matplotlib.pylab import rcParams"
   ]
  },
  {
   "cell_type": "markdown",
   "id": "muslim-windows",
   "metadata": {},
   "source": [
    "## Defining training function:"
   ]
  },
  {
   "cell_type": "markdown",
   "id": "environmental-preference",
   "metadata": {},
   "source": [
    "## Load the Data:"
   ]
  },
  {
   "cell_type": "code",
   "execution_count": 2,
   "id": "supported-english",
   "metadata": {},
   "outputs": [
    {
     "data": {
      "text/html": [
       "<div>\n",
       "<style scoped>\n",
       "    .dataframe tbody tr th:only-of-type {\n",
       "        vertical-align: middle;\n",
       "    }\n",
       "\n",
       "    .dataframe tbody tr th {\n",
       "        vertical-align: top;\n",
       "    }\n",
       "\n",
       "    .dataframe thead th {\n",
       "        text-align: right;\n",
       "    }\n",
       "</style>\n",
       "<table border=\"1\" class=\"dataframe\">\n",
       "  <thead>\n",
       "    <tr style=\"text-align: right;\">\n",
       "      <th></th>\n",
       "      <th>OTR</th>\n",
       "      <th>OCR</th>\n",
       "      <th>OMR</th>\n",
       "      <th>10_p_time_two_events</th>\n",
       "      <th>med_time_two_events</th>\n",
       "      <th>25_p_time_two_events</th>\n",
       "      <th>75_p_time_two_events</th>\n",
       "      <th>90_p_time_two_events</th>\n",
       "      <th>max_time_two_events</th>\n",
       "      <th>min_lifetime_cancel</th>\n",
       "      <th>med_lifetime_cancel</th>\n",
       "      <th>90_p_lifetime_cancel</th>\n",
       "      <th>NbTradeVenueMic</th>\n",
       "      <th>MaxNbTradesBySecond</th>\n",
       "      <th>MeanNbTradesBySecond</th>\n",
       "      <th>mean_dt_TV1</th>\n",
       "      <th>NbSecondWithAtLeatOneTrade</th>\n",
       "      <th>type</th>\n",
       "      <th>Nber_shares_same_day</th>\n",
       "    </tr>\n",
       "  </thead>\n",
       "  <tbody>\n",
       "    <tr>\n",
       "      <th>0</th>\n",
       "      <td>0.440000</td>\n",
       "      <td>0.120000</td>\n",
       "      <td>0.080000</td>\n",
       "      <td>0.000000</td>\n",
       "      <td>419.688500</td>\n",
       "      <td>10.722543</td>\n",
       "      <td>984.320560</td>\n",
       "      <td>23151.83800</td>\n",
       "      <td>25139.598</td>\n",
       "      <td>682.153260</td>\n",
       "      <td>984.32056</td>\n",
       "      <td>23151.8380</td>\n",
       "      <td>1</td>\n",
       "      <td>7</td>\n",
       "      <td>2.750000</td>\n",
       "      <td>9639.216031</td>\n",
       "      <td>4</td>\n",
       "      <td>0</td>\n",
       "      <td>5</td>\n",
       "    </tr>\n",
       "    <tr>\n",
       "      <th>1</th>\n",
       "      <td>0.589404</td>\n",
       "      <td>0.039735</td>\n",
       "      <td>0.046358</td>\n",
       "      <td>0.000074</td>\n",
       "      <td>0.003374</td>\n",
       "      <td>0.000204</td>\n",
       "      <td>8.768699</td>\n",
       "      <td>2671.48830</td>\n",
       "      <td>31278.357</td>\n",
       "      <td>11.866026</td>\n",
       "      <td>177.93991</td>\n",
       "      <td>21433.6840</td>\n",
       "      <td>1</td>\n",
       "      <td>17</td>\n",
       "      <td>5.933333</td>\n",
       "      <td>493.559196</td>\n",
       "      <td>15</td>\n",
       "      <td>0</td>\n",
       "      <td>5</td>\n",
       "    </tr>\n",
       "    <tr>\n",
       "      <th>2</th>\n",
       "      <td>0.674419</td>\n",
       "      <td>0.021142</td>\n",
       "      <td>0.008457</td>\n",
       "      <td>0.000071</td>\n",
       "      <td>0.000599</td>\n",
       "      <td>0.000129</td>\n",
       "      <td>5.725427</td>\n",
       "      <td>448.88360</td>\n",
       "      <td>30799.467</td>\n",
       "      <td>2.761036</td>\n",
       "      <td>187.99548</td>\n",
       "      <td>1953.6235</td>\n",
       "      <td>1</td>\n",
       "      <td>20</td>\n",
       "      <td>5.063492</td>\n",
       "      <td>163.954785</td>\n",
       "      <td>63</td>\n",
       "      <td>0</td>\n",
       "      <td>4</td>\n",
       "    </tr>\n",
       "    <tr>\n",
       "      <th>3</th>\n",
       "      <td>0.586207</td>\n",
       "      <td>0.068966</td>\n",
       "      <td>0.034483</td>\n",
       "      <td>0.000000</td>\n",
       "      <td>6.152666</td>\n",
       "      <td>0.000945</td>\n",
       "      <td>62.444176</td>\n",
       "      <td>19187.71900</td>\n",
       "      <td>19187.719</td>\n",
       "      <td>286.019320</td>\n",
       "      <td>286.01932</td>\n",
       "      <td>19187.7190</td>\n",
       "      <td>1</td>\n",
       "      <td>8</td>\n",
       "      <td>4.250000</td>\n",
       "      <td>1232.562133</td>\n",
       "      <td>4</td>\n",
       "      <td>0</td>\n",
       "      <td>3</td>\n",
       "    </tr>\n",
       "    <tr>\n",
       "      <th>4</th>\n",
       "      <td>0.658879</td>\n",
       "      <td>0.037383</td>\n",
       "      <td>0.000000</td>\n",
       "      <td>0.000071</td>\n",
       "      <td>0.001364</td>\n",
       "      <td>0.000146</td>\n",
       "      <td>2.225420</td>\n",
       "      <td>273.45676</td>\n",
       "      <td>23164.514</td>\n",
       "      <td>2.798452</td>\n",
       "      <td>1345.95280</td>\n",
       "      <td>23164.5140</td>\n",
       "      <td>1</td>\n",
       "      <td>19</td>\n",
       "      <td>3.710526</td>\n",
       "      <td>248.073927</td>\n",
       "      <td>38</td>\n",
       "      <td>0</td>\n",
       "      <td>1</td>\n",
       "    </tr>\n",
       "  </tbody>\n",
       "</table>\n",
       "</div>"
      ],
      "text/plain": [
       "        OTR       OCR       OMR  10_p_time_two_events  med_time_two_events  \\\n",
       "0  0.440000  0.120000  0.080000              0.000000           419.688500   \n",
       "1  0.589404  0.039735  0.046358              0.000074             0.003374   \n",
       "2  0.674419  0.021142  0.008457              0.000071             0.000599   \n",
       "3  0.586207  0.068966  0.034483              0.000000             6.152666   \n",
       "4  0.658879  0.037383  0.000000              0.000071             0.001364   \n",
       "\n",
       "   25_p_time_two_events  75_p_time_two_events  90_p_time_two_events  \\\n",
       "0             10.722543            984.320560           23151.83800   \n",
       "1              0.000204              8.768699            2671.48830   \n",
       "2              0.000129              5.725427             448.88360   \n",
       "3              0.000945             62.444176           19187.71900   \n",
       "4              0.000146              2.225420             273.45676   \n",
       "\n",
       "   max_time_two_events  min_lifetime_cancel  med_lifetime_cancel  \\\n",
       "0            25139.598           682.153260            984.32056   \n",
       "1            31278.357            11.866026            177.93991   \n",
       "2            30799.467             2.761036            187.99548   \n",
       "3            19187.719           286.019320            286.01932   \n",
       "4            23164.514             2.798452           1345.95280   \n",
       "\n",
       "   90_p_lifetime_cancel  NbTradeVenueMic  MaxNbTradesBySecond  \\\n",
       "0            23151.8380                1                    7   \n",
       "1            21433.6840                1                   17   \n",
       "2             1953.6235                1                   20   \n",
       "3            19187.7190                1                    8   \n",
       "4            23164.5140                1                   19   \n",
       "\n",
       "   MeanNbTradesBySecond  mean_dt_TV1  NbSecondWithAtLeatOneTrade  type  \\\n",
       "0              2.750000  9639.216031                           4     0   \n",
       "1              5.933333   493.559196                          15     0   \n",
       "2              5.063492   163.954785                          63     0   \n",
       "3              4.250000  1232.562133                           4     0   \n",
       "4              3.710526   248.073927                          38     0   \n",
       "\n",
       "   Nber_shares_same_day  \n",
       "0                     5  \n",
       "1                     5  \n",
       "2                     4  \n",
       "3                     3  \n",
       "4                     1  "
      ]
     },
     "execution_count": 2,
     "metadata": {},
     "output_type": "execute_result"
    }
   ],
   "source": [
    "very_light_data            = pd.read_csv(\"Data/inverted_OCR.csv\")\n",
    "very_light_data            = very_light_data.drop(columns = ['Index'])\n",
    "#print(very_light_data.columns)\n",
    "very_light_data.head()"
   ]
  },
  {
   "cell_type": "markdown",
   "id": "stylish-banking",
   "metadata": {},
   "source": [
    "## Train the model on all the data:"
   ]
  },
  {
   "cell_type": "markdown",
   "id": "infinite-nomination",
   "metadata": {},
   "source": [
    "#### Splitting the data:"
   ]
  },
  {
   "cell_type": "code",
   "execution_count": 3,
   "id": "afraid-priority",
   "metadata": {},
   "outputs": [],
   "source": [
    "X_train, X_test, y_train, y_test = scsplit(very_light_data.drop(columns=\"type\"), very_light_data['type'],\n",
    "                                           stratify=very_light_data['type'],\n",
    "                                           train_size=0.8, test_size=0.2,\n",
    "                                            continuous = False) # tested"
   ]
  },
  {
   "cell_type": "code",
   "execution_count": 4,
   "id": "brave-spectacular",
   "metadata": {},
   "outputs": [
    {
     "data": {
      "text/plain": [
       "GridSearchCV(cv=5,\n",
       "             estimator=GradientBoostingClassifier(max_features='sqrt',\n",
       "                                                  random_state=10,\n",
       "                                                  subsample=0.8),\n",
       "             n_jobs=4,\n",
       "             param_grid={'max_depth': [8], 'min_samples_leaf': [20],\n",
       "                         'min_samples_split': [20], 'n_estimators': [700]},\n",
       "             scoring='f1_weighted')"
      ]
     },
     "execution_count": 4,
     "metadata": {},
     "output_type": "execute_result"
    }
   ],
   "source": [
    "param_test1 = {\n",
    "    'n_estimators': [700],#range(300, 701, 100),\n",
    "    'max_depth': [8],#range(4, 9, 2),\n",
    "    'min_samples_leaf': [20],#range(10, 31, 10),\n",
    "    'min_samples_split': [20]#range(20, 51, 10)\n",
    "}\n",
    "gsearch1 = GridSearchCV(estimator = GradientBoostingClassifier(learning_rate=0.1,max_features='sqrt',subsample=0.8,random_state=10),# min_samples_split=500,min_samples_leaf=50 \n",
    "param_grid = param_test1, scoring='f1_weighted',n_jobs=4, cv=5)\n",
    "gsearch1.fit(X_train,y_train)"
   ]
  },
  {
   "cell_type": "code",
   "execution_count": 5,
   "id": "fitted-south",
   "metadata": {},
   "outputs": [
    {
     "data": {
      "text/plain": [
       "0.9927506819479683"
      ]
     },
     "execution_count": 5,
     "metadata": {},
     "output_type": "execute_result"
    }
   ],
   "source": [
    "gsearch1.best_score_#gsearch1.cv_results_, gsearch1.best_params_, "
   ]
  },
  {
   "cell_type": "code",
   "execution_count": 6,
   "id": "corporate-chase",
   "metadata": {},
   "outputs": [],
   "source": [
    "best_model = gsearch1.best_estimator_"
   ]
  },
  {
   "cell_type": "markdown",
   "id": "adjacent-prairie",
   "metadata": {},
   "source": [
    "#### Parameter analysis:"
   ]
  },
  {
   "cell_type": "code",
   "execution_count": 20,
   "id": "mathematical-dublin",
   "metadata": {},
   "outputs": [
    {
     "data": {
      "text/plain": [
       "{'max_depth': 8,\n",
       " 'min_samples_leaf': 20,\n",
       " 'min_samples_split': 20,\n",
       " 'n_estimators': 700}"
      ]
     },
     "execution_count": 20,
     "metadata": {},
     "output_type": "execute_result"
    }
   ],
   "source": [
    "best_params_gbm = gsearch1.best_params_\n",
    "best_params_gbm"
   ]
  },
  {
   "cell_type": "code",
   "execution_count": 8,
   "id": "fewer-kidney",
   "metadata": {},
   "outputs": [
    {
     "name": "stdout",
     "output_type": "stream",
     "text": [
      "Maximum number of parameters in our best model: 89600\n"
     ]
    }
   ],
   "source": [
    "print(\"Maximum number of parameters in our best model: {}\".format(best_model.n_estimators_*2**(best_model.max_depth-1)))"
   ]
  },
  {
   "cell_type": "markdown",
   "id": "auburn-basis",
   "metadata": {},
   "source": [
    "#### Performance analysis on test set:"
   ]
  },
  {
   "cell_type": "code",
   "execution_count": 9,
   "id": "popular-scanner",
   "metadata": {},
   "outputs": [
    {
     "data": {
      "text/plain": [
       "array([ 1, -1, -1, ..., -1, -1,  1])"
      ]
     },
     "execution_count": 9,
     "metadata": {},
     "output_type": "execute_result"
    }
   ],
   "source": [
    "y_pred=best_model.predict(X_test)\n",
    "y_pred"
   ]
  },
  {
   "cell_type": "code",
   "execution_count": 10,
   "id": "cheap-width",
   "metadata": {},
   "outputs": [
    {
     "name": "stdout",
     "output_type": "stream",
     "text": [
      "LightGBM Model accuracy score: 0.9936\n"
     ]
    }
   ],
   "source": [
    "accuracy=accuracy_score(y_pred, y_test)\n",
    "print('LightGBM Model accuracy score: {0:0.4f}'.format(accuracy_score(y_test, y_pred)))"
   ]
  },
  {
   "cell_type": "code",
   "execution_count": 11,
   "id": "critical-defensive",
   "metadata": {},
   "outputs": [
    {
     "data": {
      "text/plain": [
       "Text(0, 0.5, 'Feature Importance Score')"
      ]
     },
     "execution_count": 11,
     "metadata": {},
     "output_type": "execute_result"
    },
    {
     "data": {
      "image/png": "[encoded data removed]",
      "text/plain": [
       "<Figure size 432x288 with 1 Axes>"
      ]
     },
     "metadata": {
      "needs_background": "light"
     },
     "output_type": "display_data"
    }
   ],
   "source": [
    "feat_imp = pd.Series(best_model.feature_importances_, X_train.columns).sort_values(ascending=False)\n",
    "feat_imp.plot(kind='bar', title='Feature Importances')\n",
    "plt.ylabel('Feature Importance Score')"
   ]
  },
  {
   "cell_type": "markdown",
   "id": "appreciated-capital",
   "metadata": {},
   "source": [
    "### Plot confusion matrix:"
   ]
  },
  {
   "cell_type": "code",
   "execution_count": 12,
   "id": "exciting-affiliate",
   "metadata": {},
   "outputs": [],
   "source": [
    "cm = confusion_matrix(y_test, y_pred)"
   ]
  },
  {
   "cell_type": "code",
   "execution_count": 13,
   "id": "productive-tuner",
   "metadata": {},
   "outputs": [
    {
     "name": "stdout",
     "output_type": "stream",
     "text": [
      "Confusion matrix\n",
      "\n",
      " [[10234    49    14]\n",
      " [   16  4451     3]\n",
      " [   41    13  6336]]\n"
     ]
    }
   ],
   "source": [
    "print('Confusion matrix\\n\\n', cm)"
   ]
  },
  {
   "cell_type": "code",
   "execution_count": 14,
   "id": "spiritual-degree",
   "metadata": {},
   "outputs": [
    {
     "data": {
      "text/plain": [
       "<AxesSubplot:>"
      ]
     },
     "execution_count": 14,
     "metadata": {},
     "output_type": "execute_result"
    },
    {
     "data": {
      "image/png": "[encoded data removed]",
      "text/plain": [
       "<Figure size 432x288 with 2 Axes>"
      ]
     },
     "metadata": {
      "needs_background": "light"
     },
     "output_type": "display_data"
    }
   ],
   "source": [
    "# visualize confusion matrix with seaborn heatmap\n",
    "\n",
    "cm_matrix = pd.DataFrame(data=cm, columns=['Actual MIX:-1', 'Actual NON HTFT:0', 'Actual HTFT:1'], \n",
    "                                 index=['Predict MIX:-1', 'Predict NON HTFT:0', 'Predict HTFT:1'])\n",
    "\n",
    "sns.heatmap(cm_matrix, annot=True, fmt='d', cmap='YlGnBu')"
   ]
  },
  {
   "cell_type": "code",
   "execution_count": 15,
   "id": "italian-tolerance",
   "metadata": {},
   "outputs": [
    {
     "name": "stdout",
     "output_type": "stream",
     "text": [
      "              precision    recall  f1-score   support\n",
      "\n",
      "          -1       0.99      0.99      0.99     10297\n",
      "           0       0.99      1.00      0.99      4470\n",
      "           1       1.00      0.99      0.99      6390\n",
      "\n",
      "    accuracy                           0.99     21157\n",
      "   macro avg       0.99      0.99      0.99     21157\n",
      "weighted avg       0.99      0.99      0.99     21157\n",
      "\n"
     ]
    }
   ],
   "source": [
    "print(classification_report(y_test, y_pred))"
   ]
  },
  {
   "cell_type": "markdown",
   "id": "alone-framing",
   "metadata": {},
   "source": [
    "#### Save best model:"
   ]
  },
  {
   "cell_type": "code",
   "execution_count": 16,
   "id": "utility-equality",
   "metadata": {},
   "outputs": [],
   "source": [
    "pickle.dump(best_model, open(\"models/18_features_gridsearch2.pkl\", \"wb\"))"
   ]
  },
  {
   "cell_type": "code",
   "execution_count": 17,
   "id": "excessive-astrology",
   "metadata": {},
   "outputs": [
    {
     "data": {
      "text/plain": [
       "GradientBoostingClassifier(max_depth=8, max_features='sqrt',\n",
       "                           min_samples_leaf=20, min_samples_split=20,\n",
       "                           n_estimators=700, random_state=10, subsample=0.8)"
      ]
     },
     "execution_count": 17,
     "metadata": {},
     "output_type": "execute_result"
    }
   ],
   "source": [
    "best_model = pickle.load(open(\"models/18_features_gridsearch2.pkl\", \"rb\"))\n",
    "best_model"
   ]
  },
  {
   "cell_type": "markdown",
   "id": "false-fortune",
   "metadata": {},
   "source": [
    "## Train the model on reduced data (PCA analysis):"
   ]
  },
  {
   "cell_type": "code",
   "execution_count": 18,
   "id": "demanding-covering",
   "metadata": {},
   "outputs": [
    {
     "data": {
      "text/html": [
       "<div>\n",
       "<style scoped>\n",
       "    .dataframe tbody tr th:only-of-type {\n",
       "        vertical-align: middle;\n",
       "    }\n",
       "\n",
       "    .dataframe tbody tr th {\n",
       "        vertical-align: top;\n",
       "    }\n",
       "\n",
       "    .dataframe thead th {\n",
       "        text-align: right;\n",
       "    }\n",
       "</style>\n",
       "<table border=\"1\" class=\"dataframe\">\n",
       "  <thead>\n",
       "    <tr style=\"text-align: right;\">\n",
       "      <th></th>\n",
       "      <th>OTR</th>\n",
       "      <th>OCR</th>\n",
       "      <th>OMR</th>\n",
       "      <th>min_lifetime_cancel</th>\n",
       "      <th>Nber_shares_same_day</th>\n",
       "      <th>NbTradeVenueMic</th>\n",
       "      <th>90_p_time_two_events</th>\n",
       "      <th>max_time_two_events</th>\n",
       "      <th>med_lifetime_cancel</th>\n",
       "      <th>90_p_lifetime_cancel</th>\n",
       "    </tr>\n",
       "  </thead>\n",
       "  <tbody>\n",
       "    <tr>\n",
       "      <th>0</th>\n",
       "      <td>0.440000</td>\n",
       "      <td>0.120000</td>\n",
       "      <td>0.080000</td>\n",
       "      <td>682.153260</td>\n",
       "      <td>5</td>\n",
       "      <td>1</td>\n",
       "      <td>23151.83800</td>\n",
       "      <td>25139.598</td>\n",
       "      <td>984.32056</td>\n",
       "      <td>23151.8380</td>\n",
       "    </tr>\n",
       "    <tr>\n",
       "      <th>1</th>\n",
       "      <td>0.589404</td>\n",
       "      <td>0.039735</td>\n",
       "      <td>0.046358</td>\n",
       "      <td>11.866026</td>\n",
       "      <td>5</td>\n",
       "      <td>1</td>\n",
       "      <td>2671.48830</td>\n",
       "      <td>31278.357</td>\n",
       "      <td>177.93991</td>\n",
       "      <td>21433.6840</td>\n",
       "    </tr>\n",
       "    <tr>\n",
       "      <th>2</th>\n",
       "      <td>0.674419</td>\n",
       "      <td>0.021142</td>\n",
       "      <td>0.008457</td>\n",
       "      <td>2.761036</td>\n",
       "      <td>4</td>\n",
       "      <td>1</td>\n",
       "      <td>448.88360</td>\n",
       "      <td>30799.467</td>\n",
       "      <td>187.99548</td>\n",
       "      <td>1953.6235</td>\n",
       "    </tr>\n",
       "    <tr>\n",
       "      <th>3</th>\n",
       "      <td>0.586207</td>\n",
       "      <td>0.068966</td>\n",
       "      <td>0.034483</td>\n",
       "      <td>286.019320</td>\n",
       "      <td>3</td>\n",
       "      <td>1</td>\n",
       "      <td>19187.71900</td>\n",
       "      <td>19187.719</td>\n",
       "      <td>286.01932</td>\n",
       "      <td>19187.7190</td>\n",
       "    </tr>\n",
       "    <tr>\n",
       "      <th>4</th>\n",
       "      <td>0.658879</td>\n",
       "      <td>0.037383</td>\n",
       "      <td>0.000000</td>\n",
       "      <td>2.798452</td>\n",
       "      <td>1</td>\n",
       "      <td>1</td>\n",
       "      <td>273.45676</td>\n",
       "      <td>23164.514</td>\n",
       "      <td>1345.95280</td>\n",
       "      <td>23164.5140</td>\n",
       "    </tr>\n",
       "  </tbody>\n",
       "</table>\n",
       "</div>"
      ],
      "text/plain": [
       "        OTR       OCR       OMR  min_lifetime_cancel  Nber_shares_same_day  \\\n",
       "0  0.440000  0.120000  0.080000           682.153260                     5   \n",
       "1  0.589404  0.039735  0.046358            11.866026                     5   \n",
       "2  0.674419  0.021142  0.008457             2.761036                     4   \n",
       "3  0.586207  0.068966  0.034483           286.019320                     3   \n",
       "4  0.658879  0.037383  0.000000             2.798452                     1   \n",
       "\n",
       "   NbTradeVenueMic  90_p_time_two_events  max_time_two_events  \\\n",
       "0                1           23151.83800            25139.598   \n",
       "1                1            2671.48830            31278.357   \n",
       "2                1             448.88360            30799.467   \n",
       "3                1           19187.71900            19187.719   \n",
       "4                1             273.45676            23164.514   \n",
       "\n",
       "   med_lifetime_cancel  90_p_lifetime_cancel  \n",
       "0            984.32056            23151.8380  \n",
       "1            177.93991            21433.6840  \n",
       "2            187.99548             1953.6235  \n",
       "3            286.01932            19187.7190  \n",
       "4           1345.95280            23164.5140  "
      ]
     },
     "execution_count": 18,
     "metadata": {},
     "output_type": "execute_result"
    }
   ],
   "source": [
    "X = very_light_data.drop(columns = 'type').iloc[:, [0,1,2,9,17,12,7,8,10,11]]\n",
    "X.head()"
   ]
  },
  {
   "cell_type": "code",
   "execution_count": 19,
   "id": "needed-browser",
   "metadata": {},
   "outputs": [],
   "source": [
    "X_train2, X_test2, y_train2, y_test2 = scsplit(X, very_light_data['type'],\n",
    "                                           stratify=very_light_data['type'],\n",
    "                                           train_size=0.8, test_size=0.2,\n",
    "                                            continuous = False) # tested"
   ]
  },
  {
   "cell_type": "markdown",
   "id": "structured-devon",
   "metadata": {},
   "source": [
    "#### Fetching parameters:"
   ]
  },
  {
   "cell_type": "code",
   "execution_count": 35,
   "id": "available-scholarship",
   "metadata": {},
   "outputs": [
    {
     "name": "stdout",
     "output_type": "stream",
     "text": [
      "{'max_depth': 8, 'min_samples_leaf': 20, 'min_samples_split': 20, 'n_estimators': 700}\n"
     ]
    }
   ],
   "source": [
    "try:\n",
    "    best_params_gbm\n",
    "except NameError:\n",
    "    best_params_gbm = {'max_depth': 8,\n",
    "                       'min_samples_leaf': 20,\n",
    "                       'min_samples_split': 20,\n",
    "                       'n_estimators': 700}\n",
    "    print(best_params_gbm)\n",
    "else:\n",
    "    print(best_params_gbm)\n"
   ]
  },
  {
   "cell_type": "markdown",
   "id": "conscious-jewelry",
   "metadata": {},
   "source": [
    "#### Defining the model:"
   ]
  },
  {
   "cell_type": "markdown",
   "id": "flying-retail",
   "metadata": {},
   "source": [
    "GradientBoostingClassifier(*, loss='deviance', learning_rate=0.1, n_estimators=100, subsample=1.0, criterion='friedman_mse', min_samples_split=2, min_samples_leaf=1, min_weight_fraction_leaf=0.0, max_depth=3, min_impurity_decrease=0.0, min_impurity_split=None, init=None, random_state=None, max_features=None, verbose=0, max_leaf_nodes=None, warm_start=False, validation_fraction=0.1, n_iter_no_change=None, tol=0.0001, ccp_alpha=0.0)"
   ]
  },
  {
   "cell_type": "code",
   "execution_count": 22,
   "id": "cutting-baseline",
   "metadata": {},
   "outputs": [
    {
     "data": {
      "text/plain": [
       "GradientBoostingClassifier(max_depth=8, max_features='sqrt',\n",
       "                           min_samples_leaf=20, min_samples_split=700,\n",
       "                           n_estimators=700, random_state=10, subsample=0.8)"
      ]
     },
     "execution_count": 22,
     "metadata": {},
     "output_type": "execute_result"
    }
   ],
   "source": [
    "clf2 = GradientBoostingClassifier(learning_rate=0.1, n_estimators=best_params_gbm['n_estimators'], min_samples_split=best_params_gbm['n_estimators'], min_samples_leaf= best_params_gbm['min_samples_leaf'], max_depth=best_params_gbm['max_depth'], max_features='sqrt',subsample=0.8,random_state=10)\n",
    "clf2.fit(X_train2, y_train2)"
   ]
  },
  {
   "cell_type": "code",
   "execution_count": 23,
   "id": "cooked-curtis",
   "metadata": {},
   "outputs": [
    {
     "data": {
      "text/plain": [
       "array([-1, -1, -1, ...,  0, -1,  0])"
      ]
     },
     "execution_count": 23,
     "metadata": {},
     "output_type": "execute_result"
    }
   ],
   "source": [
    "y_pred2=clf2.predict(X_test2)\n",
    "y_pred2"
   ]
  },
  {
   "cell_type": "code",
   "execution_count": 24,
   "id": "varying-paper",
   "metadata": {},
   "outputs": [
    {
     "name": "stdout",
     "output_type": "stream",
     "text": [
      "GBM Model accuracy score: 0.9905\n"
     ]
    }
   ],
   "source": [
    "accuracy=accuracy_score(y_pred2, y_test2)\n",
    "print('GBM Model accuracy score: {0:0.4f}'.format(accuracy_score(y_test2, y_pred2)))"
   ]
  },
  {
   "cell_type": "markdown",
   "id": "automatic-score",
   "metadata": {},
   "source": [
    "#### Training accuracy:"
   ]
  },
  {
   "cell_type": "code",
   "execution_count": 25,
   "id": "mature-study",
   "metadata": {},
   "outputs": [],
   "source": [
    "# predict the results\n",
    "y_pred_train2 = clf2.predict(X_train2)\n",
    "#print('Training-set accuracy score: {0:0.4f}'. format(accuracy_score(y_train2, y_pred_train2)))"
   ]
  },
  {
   "cell_type": "markdown",
   "id": "small-bloom",
   "metadata": {},
   "source": [
    "#### Compare train and test set accuracy"
   ]
  },
  {
   "cell_type": "code",
   "execution_count": 26,
   "id": "unusual-delay",
   "metadata": {},
   "outputs": [
    {
     "name": "stdout",
     "output_type": "stream",
     "text": [
      "Training set score: 1.0000\n",
      "Test set score: 0.9905\n"
     ]
    }
   ],
   "source": [
    "print('Training set score: {:.4f}'.format(clf2.score(X_train2, y_train2)))\n",
    "\n",
    "print('Test set score: {:.4f}'.format(clf2.score(X_test2, y_test2)))"
   ]
  },
  {
   "cell_type": "markdown",
   "id": "specific-monday",
   "metadata": {},
   "source": [
    "### Plot confusion matrix:"
   ]
  },
  {
   "cell_type": "code",
   "execution_count": 27,
   "id": "mediterranean-mongolia",
   "metadata": {},
   "outputs": [],
   "source": [
    "cm2 = confusion_matrix(y_test2, y_pred2)"
   ]
  },
  {
   "cell_type": "code",
   "execution_count": 28,
   "id": "executed-bidding",
   "metadata": {},
   "outputs": [
    {
     "name": "stdout",
     "output_type": "stream",
     "text": [
      "Confusion matrix\n",
      "\n",
      " [[10203    66    28]\n",
      " [   27  4431    12]\n",
      " [   47    20  6323]]\n"
     ]
    }
   ],
   "source": [
    "print('Confusion matrix\\n\\n', cm2)"
   ]
  },
  {
   "cell_type": "code",
   "execution_count": 29,
   "id": "fossil-newport",
   "metadata": {},
   "outputs": [
    {
     "data": {
      "text/plain": [
       "<AxesSubplot:>"
      ]
     },
     "execution_count": 29,
     "metadata": {},
     "output_type": "execute_result"
    },
    {
     "data": {
      "image/png": "[encoded data removed]",
      "text/plain": [
       "<Figure size 432x288 with 2 Axes>"
      ]
     },
     "metadata": {
      "needs_background": "light"
     },
     "output_type": "display_data"
    }
   ],
   "source": [
    "# visualize confusion matrix with seaborn heatmap\n",
    "\n",
    "cm_matrix = pd.DataFrame(data=cm2, columns=['Actual MIX:-1', 'Actual NON HTFT:0', 'Actual HTFT:1'], \n",
    "                                 index=['Predict MIX:-1', 'Predict NON HTFT:0', 'Predict HTFT:1'])\n",
    "\n",
    "sns.heatmap(cm_matrix, annot=True, fmt='d', cmap='YlGnBu')"
   ]
  },
  {
   "cell_type": "code",
   "execution_count": 30,
   "id": "guided-carolina",
   "metadata": {},
   "outputs": [
    {
     "name": "stdout",
     "output_type": "stream",
     "text": [
      "              precision    recall  f1-score   support\n",
      "\n",
      "          -1       0.99      0.99      0.99     10297\n",
      "           0       0.98      0.99      0.99      4470\n",
      "           1       0.99      0.99      0.99      6390\n",
      "\n",
      "    accuracy                           0.99     21157\n",
      "   macro avg       0.99      0.99      0.99     21157\n",
      "weighted avg       0.99      0.99      0.99     21157\n",
      "\n"
     ]
    }
   ],
   "source": [
    "print(classification_report(y_test2, y_pred2))"
   ]
  },
  {
   "cell_type": "markdown",
   "id": "independent-means",
   "metadata": {},
   "source": [
    "#### Saving the data:"
   ]
  },
  {
   "cell_type": "code",
   "execution_count": 31,
   "id": "clean-garage",
   "metadata": {},
   "outputs": [],
   "source": [
    "pickle.dump(clf2, open(\"models/10_features_gridsearch.pkl\", \"wb\"))"
   ]
  },
  {
   "cell_type": "code",
   "execution_count": 32,
   "id": "coral-environment",
   "metadata": {},
   "outputs": [],
   "source": [
    "clf2 = pickle.load(open(\"models/10_features_gridsearch.pkl\", \"rb\"))"
   ]
  },
  {
   "cell_type": "markdown",
   "id": "hairy-surface",
   "metadata": {},
   "source": [
    "## Train the model on reduced data and seperated traders:"
   ]
  },
  {
   "cell_type": "code",
   "execution_count": 189,
   "id": "strong-cliff",
   "metadata": {},
   "outputs": [],
   "source": [
    "X_train3, X_test3, y_train3, y_test3 = pd.read_pickle(\"Processed_data/X_train_evenly_splitted_traders.pkl\"), pd.read_pickle(\"Processed_data/X_test_evenly_splitted_traders.pkl\"), pd.read_pickle(\"Processed_data/y_train_evenly_splitted_traders.pkl\"), pd.read_pickle(\"Processed_data/y_test_evenly_splitted_traders.pkl\")"
   ]
  },
  {
   "cell_type": "code",
   "execution_count": 190,
   "id": "excellent-sheriff",
   "metadata": {},
   "outputs": [
    {
     "data": {
      "text/html": [
       "<div>\n",
       "<style scoped>\n",
       "    .dataframe tbody tr th:only-of-type {\n",
       "        vertical-align: middle;\n",
       "    }\n",
       "\n",
       "    .dataframe tbody tr th {\n",
       "        vertical-align: top;\n",
       "    }\n",
       "\n",
       "    .dataframe thead th {\n",
       "        text-align: right;\n",
       "    }\n",
       "</style>\n",
       "<table border=\"1\" class=\"dataframe\">\n",
       "  <thead>\n",
       "    <tr style=\"text-align: right;\">\n",
       "      <th></th>\n",
       "      <th>OTR</th>\n",
       "      <th>OCR</th>\n",
       "      <th>OMR</th>\n",
       "      <th>10_p_time_two_events</th>\n",
       "      <th>med_time_two_events</th>\n",
       "      <th>25_p_time_two_events</th>\n",
       "      <th>75_p_time_two_events</th>\n",
       "      <th>90_p_time_two_events</th>\n",
       "      <th>max_time_two_events</th>\n",
       "      <th>min_lifetime_cancel</th>\n",
       "      <th>med_lifetime_cancel</th>\n",
       "      <th>90_p_lifetime_cancel</th>\n",
       "      <th>NbTradeVenueMic</th>\n",
       "      <th>MaxNbTradesBySecond</th>\n",
       "      <th>MeanNbTradesBySecond</th>\n",
       "      <th>mean_dt_TV1</th>\n",
       "      <th>NbSecondWithAtLeatOneTrade</th>\n",
       "      <th>Nber_shares_same_day</th>\n",
       "    </tr>\n",
       "  </thead>\n",
       "  <tbody>\n",
       "    <tr>\n",
       "      <th>0</th>\n",
       "      <td>0.440000</td>\n",
       "      <td>0.120000</td>\n",
       "      <td>0.080000</td>\n",
       "      <td>0.000000</td>\n",
       "      <td>419.688500</td>\n",
       "      <td>10.722543</td>\n",
       "      <td>984.320560</td>\n",
       "      <td>23151.83800</td>\n",
       "      <td>25139.598</td>\n",
       "      <td>682.153260</td>\n",
       "      <td>984.32056</td>\n",
       "      <td>23151.8380</td>\n",
       "      <td>1</td>\n",
       "      <td>7</td>\n",
       "      <td>2.750000</td>\n",
       "      <td>9639.216031</td>\n",
       "      <td>4</td>\n",
       "      <td>5</td>\n",
       "    </tr>\n",
       "    <tr>\n",
       "      <th>1</th>\n",
       "      <td>0.589404</td>\n",
       "      <td>0.039735</td>\n",
       "      <td>0.046358</td>\n",
       "      <td>0.000074</td>\n",
       "      <td>0.003374</td>\n",
       "      <td>0.000204</td>\n",
       "      <td>8.768699</td>\n",
       "      <td>2671.48830</td>\n",
       "      <td>31278.357</td>\n",
       "      <td>11.866026</td>\n",
       "      <td>177.93991</td>\n",
       "      <td>21433.6840</td>\n",
       "      <td>1</td>\n",
       "      <td>17</td>\n",
       "      <td>5.933333</td>\n",
       "      <td>493.559196</td>\n",
       "      <td>15</td>\n",
       "      <td>5</td>\n",
       "    </tr>\n",
       "    <tr>\n",
       "      <th>2</th>\n",
       "      <td>0.674419</td>\n",
       "      <td>0.021142</td>\n",
       "      <td>0.008457</td>\n",
       "      <td>0.000071</td>\n",
       "      <td>0.000599</td>\n",
       "      <td>0.000129</td>\n",
       "      <td>5.725427</td>\n",
       "      <td>448.88360</td>\n",
       "      <td>30799.467</td>\n",
       "      <td>2.761036</td>\n",
       "      <td>187.99548</td>\n",
       "      <td>1953.6235</td>\n",
       "      <td>1</td>\n",
       "      <td>20</td>\n",
       "      <td>5.063492</td>\n",
       "      <td>163.954785</td>\n",
       "      <td>63</td>\n",
       "      <td>4</td>\n",
       "    </tr>\n",
       "    <tr>\n",
       "      <th>3</th>\n",
       "      <td>0.586207</td>\n",
       "      <td>0.068966</td>\n",
       "      <td>0.034483</td>\n",
       "      <td>0.000000</td>\n",
       "      <td>6.152666</td>\n",
       "      <td>0.000945</td>\n",
       "      <td>62.444176</td>\n",
       "      <td>19187.71900</td>\n",
       "      <td>19187.719</td>\n",
       "      <td>286.019320</td>\n",
       "      <td>286.01932</td>\n",
       "      <td>19187.7190</td>\n",
       "      <td>1</td>\n",
       "      <td>8</td>\n",
       "      <td>4.250000</td>\n",
       "      <td>1232.562133</td>\n",
       "      <td>4</td>\n",
       "      <td>3</td>\n",
       "    </tr>\n",
       "    <tr>\n",
       "      <th>4</th>\n",
       "      <td>0.658879</td>\n",
       "      <td>0.037383</td>\n",
       "      <td>0.000000</td>\n",
       "      <td>0.000071</td>\n",
       "      <td>0.001364</td>\n",
       "      <td>0.000146</td>\n",
       "      <td>2.225420</td>\n",
       "      <td>273.45676</td>\n",
       "      <td>23164.514</td>\n",
       "      <td>2.798452</td>\n",
       "      <td>1345.95280</td>\n",
       "      <td>23164.5140</td>\n",
       "      <td>1</td>\n",
       "      <td>19</td>\n",
       "      <td>3.710526</td>\n",
       "      <td>248.073927</td>\n",
       "      <td>38</td>\n",
       "      <td>1</td>\n",
       "    </tr>\n",
       "  </tbody>\n",
       "</table>\n",
       "</div>"
      ],
      "text/plain": [
       "        OTR       OCR       OMR  10_p_time_two_events  med_time_two_events  \\\n",
       "0  0.440000  0.120000  0.080000              0.000000           419.688500   \n",
       "1  0.589404  0.039735  0.046358              0.000074             0.003374   \n",
       "2  0.674419  0.021142  0.008457              0.000071             0.000599   \n",
       "3  0.586207  0.068966  0.034483              0.000000             6.152666   \n",
       "4  0.658879  0.037383  0.000000              0.000071             0.001364   \n",
       "\n",
       "   25_p_time_two_events  75_p_time_two_events  90_p_time_two_events  \\\n",
       "0             10.722543            984.320560           23151.83800   \n",
       "1              0.000204              8.768699            2671.48830   \n",
       "2              0.000129              5.725427             448.88360   \n",
       "3              0.000945             62.444176           19187.71900   \n",
       "4              0.000146              2.225420             273.45676   \n",
       "\n",
       "   max_time_two_events  min_lifetime_cancel  med_lifetime_cancel  \\\n",
       "0            25139.598           682.153260            984.32056   \n",
       "1            31278.357            11.866026            177.93991   \n",
       "2            30799.467             2.761036            187.99548   \n",
       "3            19187.719           286.019320            286.01932   \n",
       "4            23164.514             2.798452           1345.95280   \n",
       "\n",
       "   90_p_lifetime_cancel  NbTradeVenueMic  MaxNbTradesBySecond  \\\n",
       "0            23151.8380                1                    7   \n",
       "1            21433.6840                1                   17   \n",
       "2             1953.6235                1                   20   \n",
       "3            19187.7190                1                    8   \n",
       "4            23164.5140                1                   19   \n",
       "\n",
       "   MeanNbTradesBySecond  mean_dt_TV1  NbSecondWithAtLeatOneTrade  \\\n",
       "0              2.750000  9639.216031                           4   \n",
       "1              5.933333   493.559196                          15   \n",
       "2              5.063492   163.954785                          63   \n",
       "3              4.250000  1232.562133                           4   \n",
       "4              3.710526   248.073927                          38   \n",
       "\n",
       "   Nber_shares_same_day  \n",
       "0                     5  \n",
       "1                     5  \n",
       "2                     4  \n",
       "3                     3  \n",
       "4                     1  "
      ]
     },
     "execution_count": 190,
     "metadata": {},
     "output_type": "execute_result"
    }
   ],
   "source": [
    "X_train3.head()"
   ]
  },
  {
   "cell_type": "code",
   "execution_count": 191,
   "id": "sustainable-brisbane",
   "metadata": {},
   "outputs": [],
   "source": [
    "X_train3 = X_train3[X_train2.columns]\n",
    "X_test3 = X_test3[X_train2.columns]"
   ]
  },
  {
   "cell_type": "markdown",
   "id": "smoking-movement",
   "metadata": {},
   "source": [
    "#### Defining the model:"
   ]
  },
  {
   "cell_type": "code",
   "execution_count": 192,
   "id": "terminal-geology",
   "metadata": {},
   "outputs": [
    {
     "data": {
      "text/plain": [
       "LGBMClassifier()"
      ]
     },
     "execution_count": 192,
     "metadata": {},
     "output_type": "execute_result"
    }
   ],
   "source": [
    "clf3 = lgb.LGBMClassifier(boosting_type='gbdt')\n",
    "clf3.fit(X_train3, y_train3)"
   ]
  },
  {
   "cell_type": "code",
   "execution_count": 193,
   "id": "laden-bonus",
   "metadata": {},
   "outputs": [
    {
     "data": {
      "text/plain": [
       "array([ 1,  1,  1, ..., -1, -1, -1])"
      ]
     },
     "execution_count": 193,
     "metadata": {},
     "output_type": "execute_result"
    }
   ],
   "source": [
    "y_pred3=clf3.predict(X_test3)\n",
    "y_pred3"
   ]
  },
  {
   "cell_type": "code",
   "execution_count": 194,
   "id": "described-liechtenstein",
   "metadata": {},
   "outputs": [
    {
     "name": "stdout",
     "output_type": "stream",
     "text": [
      "LightGBM Model accuracy score: 0.7565\n"
     ]
    }
   ],
   "source": [
    "\n",
    "accuracy=accuracy_score(y_pred3, y_test3)\n",
    "print('LightGBM Model accuracy score: {0:0.4f}'.format(accuracy_score(y_pred3, y_test3)))"
   ]
  },
  {
   "cell_type": "markdown",
   "id": "conscious-slave",
   "metadata": {},
   "source": [
    "#### Training accuracy:"
   ]
  },
  {
   "cell_type": "code",
   "execution_count": 195,
   "id": "serial-token",
   "metadata": {},
   "outputs": [],
   "source": [
    "# predict the results\n",
    "y_pred_train3 = clf3.predict(X_train3)\n",
    "#print('Training-set accuracy score: {0:0.4f}'. format(accuracy_score(y_train2, y_pred_train2)))"
   ]
  },
  {
   "cell_type": "markdown",
   "id": "dangerous-hygiene",
   "metadata": {},
   "source": [
    "#### Compare train and test set accuracy"
   ]
  },
  {
   "cell_type": "code",
   "execution_count": 196,
   "id": "decent-rings",
   "metadata": {},
   "outputs": [
    {
     "name": "stdout",
     "output_type": "stream",
     "text": [
      "Training set score: 0.9965\n",
      "Test set score: 0.7565\n"
     ]
    }
   ],
   "source": [
    "print('Training set score: {:.4f}'.format(clf3.score(X_train3, y_train3)))\n",
    "\n",
    "print('Test set score: {:.4f}'.format(clf3.score(X_test3, y_test3)))"
   ]
  },
  {
   "cell_type": "markdown",
   "id": "adverse-classroom",
   "metadata": {},
   "source": [
    "### Plot confusion matrix:"
   ]
  },
  {
   "cell_type": "code",
   "execution_count": 197,
   "id": "impossible-lincoln",
   "metadata": {},
   "outputs": [],
   "source": [
    "cm3 = confusion_matrix(y_test3, y_pred3)"
   ]
  },
  {
   "cell_type": "code",
   "execution_count": 198,
   "id": "consecutive-concentration",
   "metadata": {},
   "outputs": [
    {
     "name": "stdout",
     "output_type": "stream",
     "text": [
      "Confusion matrix\n",
      "\n",
      " [[8096  729 2045]\n",
      " [ 210 5423    3]\n",
      " [2526    1 3609]]\n"
     ]
    }
   ],
   "source": [
    "print('Confusion matrix\\n\\n', cm3)"
   ]
  },
  {
   "cell_type": "code",
   "execution_count": 199,
   "id": "essential-stuart",
   "metadata": {},
   "outputs": [
    {
     "data": {
      "text/plain": [
       "<AxesSubplot:>"
      ]
     },
     "execution_count": 199,
     "metadata": {},
     "output_type": "execute_result"
    },
    {
     "data": {
      "image/png": "[encoded data removed]",
      "text/plain": [
       "<Figure size 432x288 with 2 Axes>"
      ]
     },
     "metadata": {
      "needs_background": "light"
     },
     "output_type": "display_data"
    }
   ],
   "source": [
    "# visualize confusion matrix with seaborn heatmap\n",
    "\n",
    "cm_matrix = pd.DataFrame(data=cm3, columns=['Actual MIX:-1', 'Actual NON HTFT:0', 'Actual HTFT:1'], \n",
    "                                 index=['Predict MIX:-1', 'Predict NON HTFT:0', 'Predict HTFT:1'])\n",
    "\n",
    "sns.heatmap(cm_matrix, annot=True, fmt='d', cmap='YlGnBu')"
   ]
  },
  {
   "cell_type": "code",
   "execution_count": 200,
   "id": "equipped-learning",
   "metadata": {},
   "outputs": [
    {
     "name": "stdout",
     "output_type": "stream",
     "text": [
      "              precision    recall  f1-score   support\n",
      "\n",
      "          -1       0.75      0.74      0.75     10870\n",
      "           0       0.88      0.96      0.92      5636\n",
      "           1       0.64      0.59      0.61      6136\n",
      "\n",
      "    accuracy                           0.76     22642\n",
      "   macro avg       0.76      0.77      0.76     22642\n",
      "weighted avg       0.75      0.76      0.75     22642\n",
      "\n"
     ]
    }
   ],
   "source": [
    "print(classification_report(y_test3, y_pred3))"
   ]
  },
  {
   "cell_type": "markdown",
   "id": "pointed-bacon",
   "metadata": {},
   "source": [
    "#### Saving the data:"
   ]
  },
  {
   "cell_type": "code",
   "execution_count": 201,
   "id": "virgin-volleyball",
   "metadata": {},
   "outputs": [],
   "source": [
    "pickle.dump(clf3, open(\"models/10_feature_LGBM_seperated_traders.pkl\", \"wb\"))"
   ]
  },
  {
   "cell_type": "code",
   "execution_count": 179,
   "id": "noble-phenomenon",
   "metadata": {},
   "outputs": [],
   "source": [
    "#clf3 = pickle.load(open(\"models/10_feature_LGBM_seperated_traders.pkl\", \"rb\"))"
   ]
  }
 ],
 "metadata": {
  "kernelspec": {
   "display_name": "Python 3",
   "language": "python",
   "name": "python3"
  },
  "language_info": {
   "codemirror_mode": {
    "name": "ipython",
    "version": 3
   },
   "file_extension": ".py",
   "mimetype": "text/x-python",
   "name": "python",
   "nbconvert_exporter": "python",
   "pygments_lexer": "ipython3",
   "version": "3.8.8"
  }
 },
 "nbformat": 4,
 "nbformat_minor": 5
}
