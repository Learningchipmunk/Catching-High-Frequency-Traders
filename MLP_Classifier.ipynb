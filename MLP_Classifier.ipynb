{
 "cells": [
  {
   "cell_type": "markdown",
   "id": "textile-offer",
   "metadata": {},
   "source": [
    "# In this notebook, we are going to build a 1D CNN for classification:"
   ]
  },
  {
   "cell_type": "code",
   "execution_count": 1,
   "id": "living-export",
   "metadata": {},
   "outputs": [],
   "source": [
    "import pandas as pd\n",
    "import numpy as np\n",
    "import lightgbm as lgb\n",
    "import seaborn as sns\n",
    "import matplotlib.pyplot as plt\n",
    "\n",
    "## Tensorflow imports:\n",
    "import tensorflow as tf\n",
    "from tensorflow import keras\n",
    "from tensorflow.keras import layers\n",
    "from tensorflow.keras.utils import plot_model\n",
    "\n",
    "from verstack.stratified_continuous_split import scsplit\n",
    "from sklearn.metrics import accuracy_score\n",
    "from sklearn.metrics import confusion_matrix\n",
    "from sklearn.metrics import classification_report"
   ]
  },
  {
   "cell_type": "markdown",
   "id": "representative-password",
   "metadata": {},
   "source": [
    "## Load the Data:"
   ]
  },
  {
   "cell_type": "code",
   "execution_count": 2,
   "id": "little-bacteria",
   "metadata": {},
   "outputs": [
    {
     "data": {
      "text/html": [
       "<div>\n",
       "<style scoped>\n",
       "    .dataframe tbody tr th:only-of-type {\n",
       "        vertical-align: middle;\n",
       "    }\n",
       "\n",
       "    .dataframe tbody tr th {\n",
       "        vertical-align: top;\n",
       "    }\n",
       "\n",
       "    .dataframe thead th {\n",
       "        text-align: right;\n",
       "    }\n",
       "</style>\n",
       "<table border=\"1\" class=\"dataframe\">\n",
       "  <thead>\n",
       "    <tr style=\"text-align: right;\">\n",
       "      <th></th>\n",
       "      <th>OTR</th>\n",
       "      <th>OCR</th>\n",
       "      <th>OMR</th>\n",
       "      <th>10_p_time_two_events</th>\n",
       "      <th>med_time_two_events</th>\n",
       "      <th>25_p_time_two_events</th>\n",
       "      <th>75_p_time_two_events</th>\n",
       "      <th>90_p_time_two_events</th>\n",
       "      <th>max_time_two_events</th>\n",
       "      <th>min_lifetime_cancel</th>\n",
       "      <th>med_lifetime_cancel</th>\n",
       "      <th>90_p_lifetime_cancel</th>\n",
       "      <th>NbTradeVenueMic</th>\n",
       "      <th>MaxNbTradesBySecond</th>\n",
       "      <th>MeanNbTradesBySecond</th>\n",
       "      <th>mean_dt_TV1</th>\n",
       "      <th>NbSecondWithAtLeatOneTrade</th>\n",
       "      <th>type</th>\n",
       "      <th>Nber_shares_same_day</th>\n",
       "    </tr>\n",
       "  </thead>\n",
       "  <tbody>\n",
       "    <tr>\n",
       "      <th>0</th>\n",
       "      <td>0.440000</td>\n",
       "      <td>0.120000</td>\n",
       "      <td>0.080000</td>\n",
       "      <td>0.000000</td>\n",
       "      <td>419.688500</td>\n",
       "      <td>10.722543</td>\n",
       "      <td>984.320560</td>\n",
       "      <td>23151.83800</td>\n",
       "      <td>25139.598</td>\n",
       "      <td>682.153260</td>\n",
       "      <td>984.32056</td>\n",
       "      <td>23151.8380</td>\n",
       "      <td>1</td>\n",
       "      <td>7</td>\n",
       "      <td>2.750000</td>\n",
       "      <td>9639.216031</td>\n",
       "      <td>4</td>\n",
       "      <td>0</td>\n",
       "      <td>5</td>\n",
       "    </tr>\n",
       "    <tr>\n",
       "      <th>1</th>\n",
       "      <td>0.589404</td>\n",
       "      <td>0.039735</td>\n",
       "      <td>0.046358</td>\n",
       "      <td>0.000074</td>\n",
       "      <td>0.003374</td>\n",
       "      <td>0.000204</td>\n",
       "      <td>8.768699</td>\n",
       "      <td>2671.48830</td>\n",
       "      <td>31278.357</td>\n",
       "      <td>11.866026</td>\n",
       "      <td>177.93991</td>\n",
       "      <td>21433.6840</td>\n",
       "      <td>1</td>\n",
       "      <td>17</td>\n",
       "      <td>5.933333</td>\n",
       "      <td>493.559196</td>\n",
       "      <td>15</td>\n",
       "      <td>0</td>\n",
       "      <td>5</td>\n",
       "    </tr>\n",
       "    <tr>\n",
       "      <th>2</th>\n",
       "      <td>0.674419</td>\n",
       "      <td>0.021142</td>\n",
       "      <td>0.008457</td>\n",
       "      <td>0.000071</td>\n",
       "      <td>0.000599</td>\n",
       "      <td>0.000129</td>\n",
       "      <td>5.725427</td>\n",
       "      <td>448.88360</td>\n",
       "      <td>30799.467</td>\n",
       "      <td>2.761036</td>\n",
       "      <td>187.99548</td>\n",
       "      <td>1953.6235</td>\n",
       "      <td>1</td>\n",
       "      <td>20</td>\n",
       "      <td>5.063492</td>\n",
       "      <td>163.954785</td>\n",
       "      <td>63</td>\n",
       "      <td>0</td>\n",
       "      <td>4</td>\n",
       "    </tr>\n",
       "    <tr>\n",
       "      <th>3</th>\n",
       "      <td>0.586207</td>\n",
       "      <td>0.068966</td>\n",
       "      <td>0.034483</td>\n",
       "      <td>0.000000</td>\n",
       "      <td>6.152666</td>\n",
       "      <td>0.000945</td>\n",
       "      <td>62.444176</td>\n",
       "      <td>19187.71900</td>\n",
       "      <td>19187.719</td>\n",
       "      <td>286.019320</td>\n",
       "      <td>286.01932</td>\n",
       "      <td>19187.7190</td>\n",
       "      <td>1</td>\n",
       "      <td>8</td>\n",
       "      <td>4.250000</td>\n",
       "      <td>1232.562133</td>\n",
       "      <td>4</td>\n",
       "      <td>0</td>\n",
       "      <td>3</td>\n",
       "    </tr>\n",
       "    <tr>\n",
       "      <th>4</th>\n",
       "      <td>0.658879</td>\n",
       "      <td>0.037383</td>\n",
       "      <td>0.000000</td>\n",
       "      <td>0.000071</td>\n",
       "      <td>0.001364</td>\n",
       "      <td>0.000146</td>\n",
       "      <td>2.225420</td>\n",
       "      <td>273.45676</td>\n",
       "      <td>23164.514</td>\n",
       "      <td>2.798452</td>\n",
       "      <td>1345.95280</td>\n",
       "      <td>23164.5140</td>\n",
       "      <td>1</td>\n",
       "      <td>19</td>\n",
       "      <td>3.710526</td>\n",
       "      <td>248.073927</td>\n",
       "      <td>38</td>\n",
       "      <td>0</td>\n",
       "      <td>1</td>\n",
       "    </tr>\n",
       "  </tbody>\n",
       "</table>\n",
       "</div>"
      ],
      "text/plain": [
       "        OTR       OCR       OMR  10_p_time_two_events  med_time_two_events  \\\n",
       "0  0.440000  0.120000  0.080000              0.000000           419.688500   \n",
       "1  0.589404  0.039735  0.046358              0.000074             0.003374   \n",
       "2  0.674419  0.021142  0.008457              0.000071             0.000599   \n",
       "3  0.586207  0.068966  0.034483              0.000000             6.152666   \n",
       "4  0.658879  0.037383  0.000000              0.000071             0.001364   \n",
       "\n",
       "   25_p_time_two_events  75_p_time_two_events  90_p_time_two_events  \\\n",
       "0             10.722543            984.320560           23151.83800   \n",
       "1              0.000204              8.768699            2671.48830   \n",
       "2              0.000129              5.725427             448.88360   \n",
       "3              0.000945             62.444176           19187.71900   \n",
       "4              0.000146              2.225420             273.45676   \n",
       "\n",
       "   max_time_two_events  min_lifetime_cancel  med_lifetime_cancel  \\\n",
       "0            25139.598           682.153260            984.32056   \n",
       "1            31278.357            11.866026            177.93991   \n",
       "2            30799.467             2.761036            187.99548   \n",
       "3            19187.719           286.019320            286.01932   \n",
       "4            23164.514             2.798452           1345.95280   \n",
       "\n",
       "   90_p_lifetime_cancel  NbTradeVenueMic  MaxNbTradesBySecond  \\\n",
       "0            23151.8380                1                    7   \n",
       "1            21433.6840                1                   17   \n",
       "2             1953.6235                1                   20   \n",
       "3            19187.7190                1                    8   \n",
       "4            23164.5140                1                   19   \n",
       "\n",
       "   MeanNbTradesBySecond  mean_dt_TV1  NbSecondWithAtLeatOneTrade  type  \\\n",
       "0              2.750000  9639.216031                           4     0   \n",
       "1              5.933333   493.559196                          15     0   \n",
       "2              5.063492   163.954785                          63     0   \n",
       "3              4.250000  1232.562133                           4     0   \n",
       "4              3.710526   248.073927                          38     0   \n",
       "\n",
       "   Nber_shares_same_day  \n",
       "0                     5  \n",
       "1                     5  \n",
       "2                     4  \n",
       "3                     3  \n",
       "4                     1  "
      ]
     },
     "execution_count": 2,
     "metadata": {},
     "output_type": "execute_result"
    }
   ],
   "source": [
    "very_light_data            = pd.read_csv(\"Data/inverted_OCR.csv\")\n",
    "very_light_data            = very_light_data.drop(columns = ['Index'])\n",
    "#print(very_light_data.columns)\n",
    "very_light_data.head()"
   ]
  },
  {
   "cell_type": "markdown",
   "id": "authentic-conservative",
   "metadata": {},
   "source": [
    "#### Splitting the data:"
   ]
  },
  {
   "cell_type": "code",
   "execution_count": 3,
   "id": "statistical-genre",
   "metadata": {},
   "outputs": [],
   "source": [
    "X_train, X_test, y_train, y_test = scsplit(very_light_data.drop(columns=\"type\"), very_light_data['type'],\n",
    "                                           stratify=very_light_data['type'],\n",
    "                                           train_size=0.8, test_size=0.2,\n",
    "                                            continuous = False) # tested"
   ]
  },
  {
   "cell_type": "markdown",
   "id": "chinese-ocean",
   "metadata": {},
   "source": [
    "## Defining the model:"
   ]
  },
  {
   "cell_type": "code",
   "execution_count": 4,
   "id": "focal-argentina",
   "metadata": {},
   "outputs": [
    {
     "data": {
      "text/plain": [
       "TensorShape([500, 14, 32])"
      ]
     },
     "execution_count": 4,
     "metadata": {},
     "output_type": "execute_result"
    }
   ],
   "source": [
    "input_shape = (500, X_train.shape[1], 1)\n",
    "x = tf.random.normal(input_shape)\n",
    "layers.Conv1D(32, 5, activation='relu', input_shape=input_shape[1:])(x).shape"
   ]
  },
  {
   "cell_type": "code",
   "execution_count": 5,
   "id": "variable-proposal",
   "metadata": {},
   "outputs": [],
   "source": [
    "y_train += 1\n",
    "y_test  += 1"
   ]
  },
  {
   "cell_type": "code",
   "execution_count": 6,
   "id": "earned-cancellation",
   "metadata": {},
   "outputs": [],
   "source": [
    "X_train = np.array(X_train)\n",
    "X_train = X_train.reshape(X_train.shape[0], X_train.shape[1], 1)\n",
    "\n",
    "X_test = np.array(X_test)\n",
    "X_test = X_test.reshape(X_test.shape[0], X_test.shape[1], 1)"
   ]
  },
  {
   "cell_type": "code",
   "execution_count": 7,
   "id": "favorite-nigeria",
   "metadata": {},
   "outputs": [],
   "source": [
    "cfg = {\n",
    "    'lr': .001, #initial learning rate\n",
    "    'optimizer': 'Adam', #type of optimizer, 'Adam', 'SGD', 'RMSprop'\n",
    "    'batch_size': 500,\n",
    "    'epochs': 60,\n",
    "    'input_size': X_train.shape[1],\n",
    "    'patience': 10,\n",
    "    'scheduler_patience': 4,\n",
    "    'scheduler_factor': 0.2\n",
    "    }\n",
    "\n",
    "model = tf.keras.Sequential([\n",
    "    #layers.Conv1D(32, 3, activation='relu', input_shape=(cfg['input_size'], 1)),\n",
    "    #layers.MaxPooling1D((2)),\n",
    "    #layers.Conv1D(64, 3, activation='relu'),\n",
    "    #layers.MaxPooling1D(2),    \n",
    "    layers.Flatten(),\n",
    "    layers.Dense(64, activation='relu'),\n",
    "    layers.BatchNormalization(),\n",
    "    layers.Dense(32, activation='relu'),\n",
    "    layers.BatchNormalization(),\n",
    "    layers.Dense(16, activation='relu'),\n",
    "    layers.BatchNormalization(),\n",
    "    layers.Dense(3)\n",
    "    ])\n",
    "\n",
    "optimizer = tf.keras.optimizers.RMSprop(cfg['lr'])\n",
    "\n",
    "model.compile(optimizer='adam',\n",
    "              loss=tf.keras.losses.SparseCategoricalCrossentropy(from_logits=True),\n",
    "              metrics=['accuracy'])"
   ]
  },
  {
   "cell_type": "code",
   "execution_count": 8,
   "id": "swiss-restoration",
   "metadata": {},
   "outputs": [
    {
     "name": "stdout",
     "output_type": "stream",
     "text": [
      "Epoch 1/60\n",
      "85/85 - 1s - loss: 0.8234 - accuracy: 0.6286 - val_loss: 0.8264 - val_accuracy: 0.6773 - lr: 0.0010\n",
      "Epoch 2/60\n",
      "85/85 - 2s - loss: 0.6085 - accuracy: 0.7445 - val_loss: 0.6741 - val_accuracy: 0.7065 - lr: 0.0010\n",
      "Epoch 3/60\n",
      "85/85 - 1s - loss: 0.5562 - accuracy: 0.7674 - val_loss: 0.6016 - val_accuracy: 0.7317 - lr: 0.0010\n",
      "Epoch 4/60\n",
      "85/85 - 1s - loss: 0.5237 - accuracy: 0.7819 - val_loss: 0.5857 - val_accuracy: 0.7190 - lr: 0.0010\n",
      "Epoch 5/60\n",
      "85/85 - 1s - loss: 0.4954 - accuracy: 0.7942 - val_loss: 0.6245 - val_accuracy: 0.6986 - lr: 0.0010\n",
      "Epoch 6/60\n",
      "85/85 - 1s - loss: 0.4694 - accuracy: 0.8067 - val_loss: 0.5606 - val_accuracy: 0.7167 - lr: 0.0010\n",
      "Epoch 7/60\n",
      "85/85 - 1s - loss: 0.4411 - accuracy: 0.8206 - val_loss: 0.5186 - val_accuracy: 0.7645 - lr: 0.0010\n",
      "Epoch 8/60\n",
      "85/85 - 1s - loss: 0.4116 - accuracy: 0.8342 - val_loss: 0.4484 - val_accuracy: 0.8129 - lr: 0.0010\n",
      "Epoch 9/60\n",
      "85/85 - 1s - loss: 0.3866 - accuracy: 0.8450 - val_loss: 0.4321 - val_accuracy: 0.8235 - lr: 0.0010\n",
      "Epoch 10/60\n",
      "85/85 - 1s - loss: 0.3693 - accuracy: 0.8538 - val_loss: 0.4420 - val_accuracy: 0.8245 - lr: 0.0010\n",
      "Epoch 11/60\n",
      "85/85 - 1s - loss: 0.3546 - accuracy: 0.8605 - val_loss: 0.3973 - val_accuracy: 0.8445 - lr: 0.0010\n",
      "Epoch 12/60\n",
      "85/85 - 1s - loss: 0.3466 - accuracy: 0.8629 - val_loss: 0.3561 - val_accuracy: 0.8554 - lr: 0.0010\n",
      "Epoch 13/60\n",
      "85/85 - 1s - loss: 0.3279 - accuracy: 0.8715 - val_loss: 0.3709 - val_accuracy: 0.8557 - lr: 0.0010\n",
      "Epoch 14/60\n",
      "85/85 - 1s - loss: 0.3262 - accuracy: 0.8710 - val_loss: 0.3998 - val_accuracy: 0.8392 - lr: 0.0010\n",
      "Epoch 15/60\n",
      "85/85 - 1s - loss: 0.3148 - accuracy: 0.8771 - val_loss: 0.3284 - val_accuracy: 0.8691 - lr: 0.0010\n",
      "Epoch 16/60\n",
      "85/85 - 1s - loss: 0.3032 - accuracy: 0.8809 - val_loss: 0.3107 - val_accuracy: 0.8742 - lr: 0.0010\n",
      "Epoch 17/60\n",
      "85/85 - 1s - loss: 0.3015 - accuracy: 0.8804 - val_loss: 0.3199 - val_accuracy: 0.8774 - lr: 0.0010\n",
      "Epoch 18/60\n",
      "85/85 - 1s - loss: 0.2969 - accuracy: 0.8828 - val_loss: 0.3147 - val_accuracy: 0.8784 - lr: 0.0010\n",
      "Epoch 19/60\n",
      "85/85 - 1s - loss: 0.2918 - accuracy: 0.8845 - val_loss: 0.2986 - val_accuracy: 0.8847 - lr: 0.0010\n",
      "Epoch 20/60\n",
      "85/85 - 1s - loss: 0.2868 - accuracy: 0.8863 - val_loss: 0.3170 - val_accuracy: 0.8689 - lr: 0.0010\n",
      "Epoch 21/60\n",
      "85/85 - 1s - loss: 0.2825 - accuracy: 0.8884 - val_loss: 0.2906 - val_accuracy: 0.8851 - lr: 0.0010\n",
      "Epoch 22/60\n",
      "85/85 - 1s - loss: 0.2767 - accuracy: 0.8902 - val_loss: 0.2942 - val_accuracy: 0.8797 - lr: 0.0010\n",
      "Epoch 23/60\n",
      "85/85 - 1s - loss: 0.2749 - accuracy: 0.8913 - val_loss: 0.3157 - val_accuracy: 0.8752 - lr: 0.0010\n",
      "Epoch 24/60\n",
      "85/85 - 1s - loss: 0.2711 - accuracy: 0.8939 - val_loss: 0.3058 - val_accuracy: 0.8713 - lr: 0.0010\n",
      "Epoch 25/60\n",
      "85/85 - 1s - loss: 0.2663 - accuracy: 0.8959 - val_loss: 0.2809 - val_accuracy: 0.8942 - lr: 0.0010\n",
      "Epoch 26/60\n",
      "85/85 - 1s - loss: 0.2627 - accuracy: 0.8975 - val_loss: 0.2866 - val_accuracy: 0.8840 - lr: 0.0010\n",
      "Epoch 27/60\n",
      "85/85 - 1s - loss: 0.2659 - accuracy: 0.8946 - val_loss: 0.2805 - val_accuracy: 0.8895 - lr: 0.0010\n",
      "Epoch 28/60\n",
      "85/85 - 1s - loss: 0.2539 - accuracy: 0.9033 - val_loss: 0.3090 - val_accuracy: 0.8785 - lr: 0.0010\n",
      "Epoch 29/60\n",
      "85/85 - 1s - loss: 0.2516 - accuracy: 0.9036 - val_loss: 0.2515 - val_accuracy: 0.9052 - lr: 0.0010\n",
      "Epoch 30/60\n",
      "85/85 - 1s - loss: 0.2546 - accuracy: 0.9021 - val_loss: 0.3118 - val_accuracy: 0.8812 - lr: 0.0010\n",
      "Epoch 31/60\n",
      "85/85 - 1s - loss: 0.2477 - accuracy: 0.9052 - val_loss: 0.2561 - val_accuracy: 0.9029 - lr: 0.0010\n",
      "Epoch 32/60\n",
      "85/85 - 1s - loss: 0.2464 - accuracy: 0.9059 - val_loss: 0.2562 - val_accuracy: 0.9049 - lr: 0.0010\n",
      "Epoch 33/60\n",
      "85/85 - 1s - loss: 0.2459 - accuracy: 0.9050 - val_loss: 0.2857 - val_accuracy: 0.8848 - lr: 0.0010\n",
      "Epoch 34/60\n",
      "85/85 - 1s - loss: 0.2343 - accuracy: 0.9117 - val_loss: 0.2323 - val_accuracy: 0.9144 - lr: 2.0000e-04\n",
      "Epoch 35/60\n",
      "85/85 - 1s - loss: 0.2307 - accuracy: 0.9129 - val_loss: 0.2342 - val_accuracy: 0.9140 - lr: 2.0000e-04\n",
      "Epoch 36/60\n",
      "85/85 - 1s - loss: 0.2304 - accuracy: 0.9134 - val_loss: 0.2330 - val_accuracy: 0.9144 - lr: 2.0000e-04\n",
      "Epoch 37/60\n",
      "85/85 - 1s - loss: 0.2305 - accuracy: 0.9125 - val_loss: 0.2314 - val_accuracy: 0.9139 - lr: 2.0000e-04\n",
      "Epoch 38/60\n",
      "85/85 - 1s - loss: 0.2296 - accuracy: 0.9137 - val_loss: 0.2354 - val_accuracy: 0.9087 - lr: 2.0000e-04\n",
      "Epoch 39/60\n",
      "85/85 - 1s - loss: 0.2277 - accuracy: 0.9147 - val_loss: 0.2385 - val_accuracy: 0.9058 - lr: 2.0000e-04\n",
      "Epoch 40/60\n",
      "85/85 - 1s - loss: 0.2273 - accuracy: 0.9148 - val_loss: 0.2310 - val_accuracy: 0.9128 - lr: 2.0000e-04\n",
      "Epoch 41/60\n",
      "85/85 - 1s - loss: 0.2265 - accuracy: 0.9146 - val_loss: 0.2300 - val_accuracy: 0.9144 - lr: 2.0000e-04\n",
      "Epoch 42/60\n",
      "85/85 - 1s - loss: 0.2263 - accuracy: 0.9155 - val_loss: 0.2297 - val_accuracy: 0.9142 - lr: 2.0000e-04\n",
      "Epoch 43/60\n",
      "85/85 - 1s - loss: 0.2262 - accuracy: 0.9153 - val_loss: 0.2292 - val_accuracy: 0.9155 - lr: 2.0000e-04\n",
      "Epoch 44/60\n",
      "85/85 - 1s - loss: 0.2260 - accuracy: 0.9154 - val_loss: 0.2279 - val_accuracy: 0.9156 - lr: 2.0000e-04\n",
      "Epoch 45/60\n",
      "85/85 - 1s - loss: 0.2266 - accuracy: 0.9156 - val_loss: 0.2273 - val_accuracy: 0.9159 - lr: 2.0000e-04\n",
      "Epoch 46/60\n",
      "85/85 - 1s - loss: 0.2235 - accuracy: 0.9166 - val_loss: 0.2345 - val_accuracy: 0.9092 - lr: 2.0000e-04\n",
      "Epoch 47/60\n",
      "85/85 - 1s - loss: 0.2237 - accuracy: 0.9170 - val_loss: 0.2281 - val_accuracy: 0.9149 - lr: 2.0000e-04\n",
      "Epoch 48/60\n",
      "85/85 - 1s - loss: 0.2226 - accuracy: 0.9173 - val_loss: 0.2238 - val_accuracy: 0.9160 - lr: 2.0000e-04\n",
      "Epoch 49/60\n",
      "85/85 - 1s - loss: 0.2249 - accuracy: 0.9153 - val_loss: 0.2269 - val_accuracy: 0.9146 - lr: 2.0000e-04\n",
      "Epoch 50/60\n",
      "85/85 - 1s - loss: 0.2229 - accuracy: 0.9165 - val_loss: 0.2250 - val_accuracy: 0.9170 - lr: 2.0000e-04\n",
      "Epoch 51/60\n",
      "85/85 - 1s - loss: 0.2218 - accuracy: 0.9178 - val_loss: 0.2295 - val_accuracy: 0.9112 - lr: 2.0000e-04\n",
      "Epoch 52/60\n",
      "85/85 - 1s - loss: 0.2211 - accuracy: 0.9177 - val_loss: 0.2252 - val_accuracy: 0.9157 - lr: 2.0000e-04\n",
      "Epoch 53/60\n",
      "85/85 - 1s - loss: 0.2194 - accuracy: 0.9178 - val_loss: 0.2218 - val_accuracy: 0.9180 - lr: 4.0000e-05\n",
      "Epoch 54/60\n",
      "85/85 - 1s - loss: 0.2180 - accuracy: 0.9187 - val_loss: 0.2213 - val_accuracy: 0.9183 - lr: 4.0000e-05\n",
      "Epoch 55/60\n",
      "85/85 - 1s - loss: 0.2176 - accuracy: 0.9192 - val_loss: 0.2215 - val_accuracy: 0.9175 - lr: 4.0000e-05\n",
      "Epoch 56/60\n",
      "85/85 - 1s - loss: 0.2186 - accuracy: 0.9188 - val_loss: 0.2214 - val_accuracy: 0.9175 - lr: 4.0000e-05\n",
      "Epoch 57/60\n",
      "85/85 - 1s - loss: 0.2181 - accuracy: 0.9192 - val_loss: 0.2215 - val_accuracy: 0.9169 - lr: 4.0000e-05\n",
      "Epoch 58/60\n",
      "85/85 - 1s - loss: 0.2185 - accuracy: 0.9193 - val_loss: 0.2211 - val_accuracy: 0.9179 - lr: 4.0000e-05\n",
      "Epoch 59/60\n",
      "85/85 - 1s - loss: 0.2175 - accuracy: 0.9197 - val_loss: 0.2209 - val_accuracy: 0.9187 - lr: 4.0000e-05\n",
      "Epoch 60/60\n",
      "85/85 - 1s - loss: 0.2173 - accuracy: 0.9199 - val_loss: 0.2206 - val_accuracy: 0.9196 - lr: 4.0000e-05\n",
      "662/662 - 1s - loss: 0.2206 - accuracy: 0.9196\n"
     ]
    }
   ],
   "source": [
    "# The patience parameter is number of epochs to check for improvement\n",
    "early_stop = tf.keras.callbacks.EarlyStopping(monitor='val_loss', patience=10)\n",
    "\n",
    "reduce_lr = keras.callbacks.ReduceLROnPlateau(monitor='val_loss', factor=cfg['scheduler_factor'],\n",
    "                              patience=cfg['scheduler_patience'], min_lr=0.00001)\n",
    "\n",
    "early_history = model.fit(X_train, y_train, \n",
    "                    epochs=cfg['epochs'], validation_split = 0.0, validation_data = (X_test, y_test), verbose=2, \n",
    "                    callbacks=[early_stop, reduce_lr], batch_size = 1000)\n",
    "\n",
    "loss, acc = model.evaluate(X_test, y_test, verbose=2)"
   ]
  },
  {
   "cell_type": "code",
   "execution_count": 23,
   "id": "respective-communist",
   "metadata": {},
   "outputs": [
    {
     "data": {
      "text/plain": [
       "<matplotlib.legend.Legend at 0x7f506441c8e0>"
      ]
     },
     "execution_count": 23,
     "metadata": {},
     "output_type": "execute_result"
    },
    {
     "data": {
      "image/png": "[encoded data removed]",
      "text/plain": [
       "<Figure size 432x288 with 1 Axes>"
      ]
     },
     "metadata": {
      "needs_background": "light"
     },
     "output_type": "display_data"
    }
   ],
   "source": [
    "plt.plot(early_history.history['accuracy'], label='accuracy')\n",
    "plt.plot(early_history.history['val_accuracy'], label = 'val_accuracy')\n",
    "plt.plot(early_history.history['val_loss'], label = 'val_loss')\n",
    "plt.plot(early_history.history['loss'], label = 'train_loss')\n",
    "plt.xlabel('Epoch')\n",
    "plt.ylabel('Accuracy')\n",
    "plt.ylim([0.2, 1])\n",
    "plt.legend(loc='lower right')\n"
   ]
  },
  {
   "cell_type": "code",
   "execution_count": 10,
   "id": "accepting-fence",
   "metadata": {},
   "outputs": [
    {
     "name": "stdout",
     "output_type": "stream",
     "text": [
      "Model: \"sequential\"\n",
      "_________________________________________________________________\n",
      "Layer (type)                 Output Shape              Param #   \n",
      "=================================================================\n",
      "flatten (Flatten)            multiple                  0         \n",
      "_________________________________________________________________\n",
      "dense (Dense)                multiple                  1216      \n",
      "_________________________________________________________________\n",
      "batch_normalization (BatchNo multiple                  256       \n",
      "_________________________________________________________________\n",
      "dense_1 (Dense)              multiple                  2080      \n",
      "_________________________________________________________________\n",
      "batch_normalization_1 (Batch multiple                  128       \n",
      "_________________________________________________________________\n",
      "dense_2 (Dense)              multiple                  528       \n",
      "_________________________________________________________________\n",
      "batch_normalization_2 (Batch multiple                  64        \n",
      "_________________________________________________________________\n",
      "dense_3 (Dense)              multiple                  51        \n",
      "=================================================================\n",
      "Total params: 4,323\n",
      "Trainable params: 4,099\n",
      "Non-trainable params: 224\n",
      "_________________________________________________________________\n"
     ]
    }
   ],
   "source": [
    "model.summary()"
   ]
  },
  {
   "cell_type": "code",
   "execution_count": 11,
   "id": "minimal-wealth",
   "metadata": {},
   "outputs": [],
   "source": [
    "y_pred = model.predict(X_test).argmax(axis =1)"
   ]
  },
  {
   "cell_type": "markdown",
   "id": "veterinary-sucking",
   "metadata": {},
   "source": [
    "#### Confusion matrix:"
   ]
  },
  {
   "cell_type": "code",
   "execution_count": 12,
   "id": "incoming-square",
   "metadata": {},
   "outputs": [
    {
     "data": {
      "text/plain": [
       "array([[9655,  241,  401],\n",
       "       [ 230, 4141,   99],\n",
       "       [ 629,  101, 5660]])"
      ]
     },
     "execution_count": 12,
     "metadata": {},
     "output_type": "execute_result"
    }
   ],
   "source": [
    "cm = confusion_matrix(y_test, y_pred)\n",
    "cm"
   ]
  },
  {
   "cell_type": "code",
   "execution_count": 13,
   "id": "handmade-background",
   "metadata": {},
   "outputs": [
    {
     "data": {
      "text/plain": [
       "<AxesSubplot:>"
      ]
     },
     "execution_count": 13,
     "metadata": {},
     "output_type": "execute_result"
    },
    {
     "data": {
      "image/png": "[encoded data removed]",
      "text/plain": [
       "<Figure size 432x288 with 2 Axes>"
      ]
     },
     "metadata": {
      "needs_background": "light"
     },
     "output_type": "display_data"
    }
   ],
   "source": [
    "cm_matrix = pd.DataFrame(data=cm, columns=['Actual MIX:-1', 'Actual NON HTFT:0', 'Actual HTFT:1'], \n",
    "                                 index=['Predict MIX:-1', 'Predict NON HTFT:0', 'Predict HTFT:1'])\n",
    "\n",
    "sns.heatmap(cm_matrix, annot=True, fmt='d', cmap='YlGnBu')"
   ]
  },
  {
   "cell_type": "code",
   "execution_count": 14,
   "id": "great-lincoln",
   "metadata": {},
   "outputs": [
    {
     "name": "stdout",
     "output_type": "stream",
     "text": [
      "              precision    recall  f1-score   support\n",
      "\n",
      "           0       0.92      0.94      0.93     10297\n",
      "           1       0.92      0.93      0.93      4470\n",
      "           2       0.92      0.89      0.90      6390\n",
      "\n",
      "    accuracy                           0.92     21157\n",
      "   macro avg       0.92      0.92      0.92     21157\n",
      "weighted avg       0.92      0.92      0.92     21157\n",
      "\n"
     ]
    }
   ],
   "source": [
    "print(classification_report(y_test, y_pred))"
   ]
  },
  {
   "cell_type": "markdown",
   "id": "requested-studio",
   "metadata": {},
   "source": [
    "### Save model:"
   ]
  },
  {
   "cell_type": "code",
   "execution_count": 15,
   "id": "gorgeous-bernard",
   "metadata": {},
   "outputs": [
    {
     "name": "stdout",
     "output_type": "stream",
     "text": [
      "WARNING:tensorflow:From /Data/pls_do_not_delete/miniconda3/envs/inf554/lib/python3.8/site-packages/tensorflow/python/ops/resource_variable_ops.py:1813: calling BaseResourceVariable.__init__ (from tensorflow.python.ops.resource_variable_ops) with constraint is deprecated and will be removed in a future version.\n",
      "Instructions for updating:\n",
      "If using Keras pass *_constraint arguments to layers.\n",
      "INFO:tensorflow:Assets written to: models/MLP_Batchnorm_2Hidden/assets\n"
     ]
    }
   ],
   "source": [
    "model.save(\"models/MLP_Batchnorm_2Hidden\")"
   ]
  },
  {
   "cell_type": "code",
   "execution_count": 16,
   "id": "divine-lease",
   "metadata": {},
   "outputs": [],
   "source": [
    "#loaded_model = keras.models.load_model(\"models/MLP_Batchnorm_2Hidden\")\n",
    "#loaded_model.summary()"
   ]
  },
  {
   "cell_type": "markdown",
   "id": "forty-damages",
   "metadata": {},
   "source": [
    "## With Dropout traders:"
   ]
  },
  {
   "cell_type": "code",
   "execution_count": 50,
   "id": "finished-fourth",
   "metadata": {},
   "outputs": [
    {
     "name": "stdout",
     "output_type": "stream",
     "text": [
      "Epoch 1/120\n",
      "85/85 - 1s - loss: 1.1133 - accuracy: 0.5449 - val_loss: 0.8060 - val_accuracy: 0.6773 - lr: 0.0010\n",
      "Epoch 2/120\n",
      "85/85 - 1s - loss: 0.8579 - accuracy: 0.6196 - val_loss: 0.7191 - val_accuracy: 0.7068 - lr: 0.0010\n",
      "Epoch 3/120\n",
      "85/85 - 1s - loss: 0.7846 - accuracy: 0.6449 - val_loss: 0.6705 - val_accuracy: 0.7105 - lr: 0.0010\n",
      "Epoch 4/120\n",
      "85/85 - 1s - loss: 0.7406 - accuracy: 0.6622 - val_loss: 0.6518 - val_accuracy: 0.7158 - lr: 0.0010\n",
      "Epoch 5/120\n",
      "85/85 - 1s - loss: 0.7163 - accuracy: 0.6750 - val_loss: 0.6367 - val_accuracy: 0.7229 - lr: 0.0010\n",
      "Epoch 6/120\n",
      "85/85 - 1s - loss: 0.6879 - accuracy: 0.6909 - val_loss: 0.6196 - val_accuracy: 0.7277 - lr: 0.0010\n",
      "Epoch 7/120\n",
      "85/85 - 1s - loss: 0.6566 - accuracy: 0.7082 - val_loss: 0.6043 - val_accuracy: 0.7341 - lr: 0.0010\n",
      "Epoch 8/120\n",
      "85/85 - 1s - loss: 0.6331 - accuracy: 0.7244 - val_loss: 0.5745 - val_accuracy: 0.7542 - lr: 0.0010\n",
      "Epoch 9/120\n",
      "85/85 - 1s - loss: 0.6136 - accuracy: 0.7355 - val_loss: 0.5514 - val_accuracy: 0.7727 - lr: 0.0010\n",
      "Epoch 10/120\n",
      "85/85 - 1s - loss: 0.5965 - accuracy: 0.7430 - val_loss: 0.5302 - val_accuracy: 0.7879 - lr: 0.0010\n",
      "Epoch 11/120\n",
      "85/85 - 1s - loss: 0.5744 - accuracy: 0.7530 - val_loss: 0.4999 - val_accuracy: 0.7896 - lr: 0.0010\n",
      "Epoch 12/120\n",
      "85/85 - 1s - loss: 0.5481 - accuracy: 0.7673 - val_loss: 0.4843 - val_accuracy: 0.8119 - lr: 0.0010\n",
      "Epoch 13/120\n",
      "85/85 - 1s - loss: 0.5303 - accuracy: 0.7753 - val_loss: 0.4430 - val_accuracy: 0.8233 - lr: 0.0010\n",
      "Epoch 14/120\n",
      "85/85 - 1s - loss: 0.5204 - accuracy: 0.7821 - val_loss: 0.4199 - val_accuracy: 0.8336 - lr: 0.0010\n",
      "Epoch 15/120\n",
      "85/85 - 1s - loss: 0.5083 - accuracy: 0.7881 - val_loss: 0.4221 - val_accuracy: 0.8299 - lr: 0.0010\n",
      "Epoch 16/120\n",
      "85/85 - 1s - loss: 0.4998 - accuracy: 0.7947 - val_loss: 0.3922 - val_accuracy: 0.8448 - lr: 0.0010\n",
      "Epoch 17/120\n",
      "85/85 - 1s - loss: 0.4948 - accuracy: 0.7974 - val_loss: 0.3921 - val_accuracy: 0.8450 - lr: 0.0010\n",
      "Epoch 18/120\n",
      "85/85 - 1s - loss: 0.4831 - accuracy: 0.8043 - val_loss: 0.3874 - val_accuracy: 0.8452 - lr: 0.0010\n",
      "Epoch 19/120\n",
      "85/85 - 1s - loss: 0.4759 - accuracy: 0.8075 - val_loss: 0.3874 - val_accuracy: 0.8461 - lr: 0.0010\n",
      "Epoch 20/120\n",
      "85/85 - 1s - loss: 0.4697 - accuracy: 0.8090 - val_loss: 0.3773 - val_accuracy: 0.8501 - lr: 0.0010\n",
      "Epoch 21/120\n",
      "85/85 - 1s - loss: 0.4621 - accuracy: 0.8146 - val_loss: 0.3821 - val_accuracy: 0.8471 - lr: 0.0010\n",
      "Epoch 22/120\n",
      "85/85 - 1s - loss: 0.4558 - accuracy: 0.8164 - val_loss: 0.3814 - val_accuracy: 0.8462 - lr: 0.0010\n",
      "Epoch 23/120\n",
      "85/85 - 1s - loss: 0.4472 - accuracy: 0.8203 - val_loss: 0.3690 - val_accuracy: 0.8524 - lr: 0.0010\n",
      "Epoch 24/120\n",
      "85/85 - 1s - loss: 0.4495 - accuracy: 0.8207 - val_loss: 0.3697 - val_accuracy: 0.8515 - lr: 0.0010\n",
      "Epoch 25/120\n",
      "85/85 - 1s - loss: 0.4403 - accuracy: 0.8238 - val_loss: 0.3612 - val_accuracy: 0.8532 - lr: 0.0010\n",
      "Epoch 26/120\n",
      "85/85 - 1s - loss: 0.4358 - accuracy: 0.8264 - val_loss: 0.3643 - val_accuracy: 0.8518 - lr: 0.0010\n",
      "Epoch 27/120\n",
      "85/85 - 1s - loss: 0.4365 - accuracy: 0.8264 - val_loss: 0.3657 - val_accuracy: 0.8539 - lr: 0.0010\n",
      "Epoch 28/120\n",
      "85/85 - 1s - loss: 0.4260 - accuracy: 0.8305 - val_loss: 0.3844 - val_accuracy: 0.8444 - lr: 0.0010\n",
      "Epoch 29/120\n",
      "85/85 - 1s - loss: 0.4261 - accuracy: 0.8298 - val_loss: 0.3445 - val_accuracy: 0.8615 - lr: 0.0010\n",
      "Epoch 30/120\n",
      "85/85 - 1s - loss: 0.4207 - accuracy: 0.8318 - val_loss: 0.3465 - val_accuracy: 0.8566 - lr: 0.0010\n",
      "Epoch 31/120\n",
      "85/85 - 1s - loss: 0.4181 - accuracy: 0.8328 - val_loss: 0.3377 - val_accuracy: 0.8628 - lr: 0.0010\n",
      "Epoch 32/120\n",
      "85/85 - 1s - loss: 0.4122 - accuracy: 0.8343 - val_loss: 0.3365 - val_accuracy: 0.8625 - lr: 0.0010\n",
      "Epoch 33/120\n",
      "85/85 - 1s - loss: 0.4126 - accuracy: 0.8350 - val_loss: 0.3359 - val_accuracy: 0.8645 - lr: 0.0010\n",
      "Epoch 34/120\n",
      "85/85 - 1s - loss: 0.4081 - accuracy: 0.8376 - val_loss: 0.3369 - val_accuracy: 0.8641 - lr: 0.0010\n",
      "Epoch 35/120\n",
      "85/85 - 1s - loss: 0.4079 - accuracy: 0.8366 - val_loss: 0.3323 - val_accuracy: 0.8625 - lr: 0.0010\n",
      "Epoch 36/120\n",
      "85/85 - 1s - loss: 0.4019 - accuracy: 0.8398 - val_loss: 0.3333 - val_accuracy: 0.8603 - lr: 0.0010\n",
      "Epoch 37/120\n",
      "85/85 - 1s - loss: 0.4031 - accuracy: 0.8375 - val_loss: 0.3286 - val_accuracy: 0.8686 - lr: 0.0010\n",
      "Epoch 38/120\n",
      "85/85 - 1s - loss: 0.3995 - accuracy: 0.8403 - val_loss: 0.3241 - val_accuracy: 0.8685 - lr: 0.0010\n",
      "Epoch 39/120\n",
      "85/85 - 1s - loss: 0.3989 - accuracy: 0.8392 - val_loss: 0.3221 - val_accuracy: 0.8698 - lr: 0.0010\n",
      "Epoch 40/120\n",
      "85/85 - 1s - loss: 0.3947 - accuracy: 0.8424 - val_loss: 0.3192 - val_accuracy: 0.8715 - lr: 0.0010\n",
      "Epoch 41/120\n",
      "85/85 - 1s - loss: 0.3928 - accuracy: 0.8413 - val_loss: 0.3158 - val_accuracy: 0.8726 - lr: 0.0010\n",
      "Epoch 42/120\n",
      "85/85 - 1s - loss: 0.3893 - accuracy: 0.8418 - val_loss: 0.3686 - val_accuracy: 0.8485 - lr: 0.0010\n",
      "Epoch 43/120\n",
      "85/85 - 1s - loss: 0.3873 - accuracy: 0.8439 - val_loss: 0.3268 - val_accuracy: 0.8635 - lr: 0.0010\n",
      "Epoch 44/120\n",
      "85/85 - 1s - loss: 0.3849 - accuracy: 0.8456 - val_loss: 0.3080 - val_accuracy: 0.8720 - lr: 0.0010\n",
      "Epoch 45/120\n",
      "85/85 - 1s - loss: 0.3819 - accuracy: 0.8461 - val_loss: 0.3011 - val_accuracy: 0.8765 - lr: 0.0010\n",
      "Epoch 46/120\n",
      "85/85 - 1s - loss: 0.3804 - accuracy: 0.8476 - val_loss: 0.3064 - val_accuracy: 0.8724 - lr: 0.0010\n",
      "Epoch 47/120\n",
      "85/85 - 1s - loss: 0.3801 - accuracy: 0.8453 - val_loss: 0.3019 - val_accuracy: 0.8759 - lr: 0.0010\n",
      "Epoch 48/120\n",
      "85/85 - 1s - loss: 0.3784 - accuracy: 0.8466 - val_loss: 0.3056 - val_accuracy: 0.8735 - lr: 0.0010\n",
      "Epoch 49/120\n",
      "85/85 - 1s - loss: 0.3760 - accuracy: 0.8473 - val_loss: 0.3068 - val_accuracy: 0.8725 - lr: 0.0010\n",
      "Epoch 50/120\n",
      "85/85 - 1s - loss: 0.3676 - accuracy: 0.8512 - val_loss: 0.2934 - val_accuracy: 0.8778 - lr: 2.0000e-04\n",
      "Epoch 51/120\n",
      "85/85 - 1s - loss: 0.3647 - accuracy: 0.8519 - val_loss: 0.2902 - val_accuracy: 0.8790 - lr: 2.0000e-04\n",
      "Epoch 52/120\n",
      "85/85 - 1s - loss: 0.3613 - accuracy: 0.8538 - val_loss: 0.2874 - val_accuracy: 0.8815 - lr: 2.0000e-04\n",
      "Epoch 53/120\n",
      "85/85 - 1s - loss: 0.3610 - accuracy: 0.8527 - val_loss: 0.2864 - val_accuracy: 0.8808 - lr: 2.0000e-04\n",
      "Epoch 54/120\n",
      "85/85 - 1s - loss: 0.3587 - accuracy: 0.8548 - val_loss: 0.2829 - val_accuracy: 0.8825 - lr: 2.0000e-04\n",
      "Epoch 55/120\n",
      "85/85 - 1s - loss: 0.3571 - accuracy: 0.8554 - val_loss: 0.2816 - val_accuracy: 0.8826 - lr: 2.0000e-04\n",
      "Epoch 56/120\n",
      "85/85 - 1s - loss: 0.3579 - accuracy: 0.8546 - val_loss: 0.2815 - val_accuracy: 0.8840 - lr: 2.0000e-04\n",
      "Epoch 57/120\n",
      "85/85 - 1s - loss: 0.3561 - accuracy: 0.8565 - val_loss: 0.2834 - val_accuracy: 0.8795 - lr: 2.0000e-04\n",
      "Epoch 58/120\n",
      "85/85 - 1s - loss: 0.3551 - accuracy: 0.8558 - val_loss: 0.2801 - val_accuracy: 0.8847 - lr: 2.0000e-04\n",
      "Epoch 59/120\n",
      "85/85 - 1s - loss: 0.3544 - accuracy: 0.8557 - val_loss: 0.2791 - val_accuracy: 0.8850 - lr: 2.0000e-04\n",
      "Epoch 60/120\n",
      "85/85 - 1s - loss: 0.3544 - accuracy: 0.8568 - val_loss: 0.2794 - val_accuracy: 0.8833 - lr: 2.0000e-04\n",
      "Epoch 61/120\n",
      "85/85 - 1s - loss: 0.3519 - accuracy: 0.8568 - val_loss: 0.2781 - val_accuracy: 0.8858 - lr: 2.0000e-04\n",
      "Epoch 62/120\n",
      "85/85 - 1s - loss: 0.3521 - accuracy: 0.8569 - val_loss: 0.2795 - val_accuracy: 0.8805 - lr: 2.0000e-04\n",
      "Epoch 63/120\n",
      "85/85 - 1s - loss: 0.3521 - accuracy: 0.8560 - val_loss: 0.2774 - val_accuracy: 0.8845 - lr: 2.0000e-04\n",
      "Epoch 64/120\n",
      "85/85 - 1s - loss: 0.3523 - accuracy: 0.8567 - val_loss: 0.2786 - val_accuracy: 0.8843 - lr: 2.0000e-04\n",
      "Epoch 65/120\n",
      "85/85 - 1s - loss: 0.3521 - accuracy: 0.8563 - val_loss: 0.2774 - val_accuracy: 0.8851 - lr: 2.0000e-04\n",
      "Epoch 66/120\n",
      "85/85 - 1s - loss: 0.3493 - accuracy: 0.8576 - val_loss: 0.2760 - val_accuracy: 0.8848 - lr: 2.0000e-04\n",
      "Epoch 67/120\n",
      "85/85 - 1s - loss: 0.3513 - accuracy: 0.8577 - val_loss: 0.2738 - val_accuracy: 0.8857 - lr: 2.0000e-04\n",
      "Epoch 68/120\n",
      "85/85 - 1s - loss: 0.3501 - accuracy: 0.8556 - val_loss: 0.2770 - val_accuracy: 0.8827 - lr: 2.0000e-04\n",
      "Epoch 69/120\n",
      "85/85 - 1s - loss: 0.3509 - accuracy: 0.8573 - val_loss: 0.2761 - val_accuracy: 0.8847 - lr: 2.0000e-04\n",
      "Epoch 70/120\n",
      "85/85 - 1s - loss: 0.3495 - accuracy: 0.8577 - val_loss: 0.2767 - val_accuracy: 0.8847 - lr: 2.0000e-04\n",
      "Epoch 71/120\n",
      "85/85 - 1s - loss: 0.3467 - accuracy: 0.8591 - val_loss: 0.2729 - val_accuracy: 0.8877 - lr: 2.0000e-04\n",
      "Epoch 72/120\n",
      "85/85 - 1s - loss: 0.3465 - accuracy: 0.8583 - val_loss: 0.2729 - val_accuracy: 0.8865 - lr: 2.0000e-04\n",
      "Epoch 73/120\n",
      "85/85 - 1s - loss: 0.3457 - accuracy: 0.8595 - val_loss: 0.2727 - val_accuracy: 0.8847 - lr: 2.0000e-04\n",
      "Epoch 74/120\n",
      "85/85 - 1s - loss: 0.3444 - accuracy: 0.8594 - val_loss: 0.2724 - val_accuracy: 0.8873 - lr: 2.0000e-04\n",
      "Epoch 75/120\n",
      "85/85 - 1s - loss: 0.3478 - accuracy: 0.8584 - val_loss: 0.2721 - val_accuracy: 0.8860 - lr: 2.0000e-04\n",
      "Epoch 76/120\n",
      "85/85 - 1s - loss: 0.3443 - accuracy: 0.8590 - val_loss: 0.2723 - val_accuracy: 0.8860 - lr: 2.0000e-04\n",
      "Epoch 77/120\n",
      "85/85 - 1s - loss: 0.3450 - accuracy: 0.8601 - val_loss: 0.2718 - val_accuracy: 0.8882 - lr: 2.0000e-04\n",
      "Epoch 78/120\n",
      "85/85 - 1s - loss: 0.3448 - accuracy: 0.8584 - val_loss: 0.2713 - val_accuracy: 0.8868 - lr: 2.0000e-04\n",
      "Epoch 79/120\n",
      "85/85 - 1s - loss: 0.3455 - accuracy: 0.8577 - val_loss: 0.2716 - val_accuracy: 0.8880 - lr: 2.0000e-04\n",
      "Epoch 80/120\n",
      "85/85 - 1s - loss: 0.3460 - accuracy: 0.8591 - val_loss: 0.2708 - val_accuracy: 0.8867 - lr: 2.0000e-04\n",
      "Epoch 81/120\n",
      "85/85 - 1s - loss: 0.3442 - accuracy: 0.8591 - val_loss: 0.2678 - val_accuracy: 0.8906 - lr: 2.0000e-04\n",
      "Epoch 82/120\n",
      "85/85 - 1s - loss: 0.3431 - accuracy: 0.8592 - val_loss: 0.2686 - val_accuracy: 0.8880 - lr: 2.0000e-04\n",
      "Epoch 83/120\n",
      "85/85 - 1s - loss: 0.3437 - accuracy: 0.8604 - val_loss: 0.2752 - val_accuracy: 0.8863 - lr: 2.0000e-04\n",
      "Epoch 84/120\n",
      "85/85 - 1s - loss: 0.3438 - accuracy: 0.8599 - val_loss: 0.2707 - val_accuracy: 0.8864 - lr: 2.0000e-04\n",
      "Epoch 85/120\n",
      "85/85 - 1s - loss: 0.3420 - accuracy: 0.8604 - val_loss: 0.2683 - val_accuracy: 0.8889 - lr: 2.0000e-04\n",
      "Epoch 86/120\n",
      "85/85 - 1s - loss: 0.3422 - accuracy: 0.8611 - val_loss: 0.2659 - val_accuracy: 0.8894 - lr: 4.0000e-05\n",
      "Epoch 87/120\n",
      "85/85 - 1s - loss: 0.3369 - accuracy: 0.8617 - val_loss: 0.2657 - val_accuracy: 0.8894 - lr: 4.0000e-05\n",
      "Epoch 88/120\n",
      "85/85 - 1s - loss: 0.3375 - accuracy: 0.8626 - val_loss: 0.2654 - val_accuracy: 0.8896 - lr: 4.0000e-05\n",
      "Epoch 89/120\n",
      "85/85 - 1s - loss: 0.3385 - accuracy: 0.8616 - val_loss: 0.2652 - val_accuracy: 0.8901 - lr: 4.0000e-05\n",
      "Epoch 90/120\n",
      "85/85 - 1s - loss: 0.3404 - accuracy: 0.8614 - val_loss: 0.2654 - val_accuracy: 0.8896 - lr: 4.0000e-05\n",
      "Epoch 91/120\n",
      "85/85 - 1s - loss: 0.3385 - accuracy: 0.8625 - val_loss: 0.2656 - val_accuracy: 0.8891 - lr: 4.0000e-05\n",
      "Epoch 92/120\n",
      "85/85 - 1s - loss: 0.3368 - accuracy: 0.8630 - val_loss: 0.2651 - val_accuracy: 0.8894 - lr: 4.0000e-05\n",
      "Epoch 93/120\n",
      "85/85 - 1s - loss: 0.3389 - accuracy: 0.8616 - val_loss: 0.2643 - val_accuracy: 0.8897 - lr: 4.0000e-05\n",
      "Epoch 94/120\n",
      "85/85 - 1s - loss: 0.3377 - accuracy: 0.8633 - val_loss: 0.2667 - val_accuracy: 0.8878 - lr: 4.0000e-05\n",
      "Epoch 95/120\n",
      "85/85 - 1s - loss: 0.3381 - accuracy: 0.8625 - val_loss: 0.2646 - val_accuracy: 0.8897 - lr: 4.0000e-05\n",
      "Epoch 96/120\n",
      "85/85 - 1s - loss: 0.3382 - accuracy: 0.8620 - val_loss: 0.2645 - val_accuracy: 0.8895 - lr: 4.0000e-05\n",
      "Epoch 97/120\n",
      "85/85 - 1s - loss: 0.3387 - accuracy: 0.8615 - val_loss: 0.2646 - val_accuracy: 0.8901 - lr: 4.0000e-05\n",
      "Epoch 98/120\n",
      "85/85 - 1s - loss: 0.3383 - accuracy: 0.8610 - val_loss: 0.2644 - val_accuracy: 0.8899 - lr: 1.0000e-05\n",
      "Epoch 99/120\n",
      "85/85 - 1s - loss: 0.3383 - accuracy: 0.8625 - val_loss: 0.2643 - val_accuracy: 0.8899 - lr: 1.0000e-05\n",
      "Epoch 100/120\n",
      "85/85 - 1s - loss: 0.3378 - accuracy: 0.8627 - val_loss: 0.2641 - val_accuracy: 0.8902 - lr: 1.0000e-05\n",
      "Epoch 101/120\n",
      "85/85 - 1s - loss: 0.3376 - accuracy: 0.8620 - val_loss: 0.2643 - val_accuracy: 0.8900 - lr: 1.0000e-05\n",
      "Epoch 102/120\n",
      "85/85 - 1s - loss: 0.3373 - accuracy: 0.8633 - val_loss: 0.2642 - val_accuracy: 0.8903 - lr: 1.0000e-05\n",
      "Epoch 103/120\n",
      "85/85 - 1s - loss: 0.3372 - accuracy: 0.8616 - val_loss: 0.2643 - val_accuracy: 0.8900 - lr: 1.0000e-05\n",
      "Epoch 104/120\n",
      "85/85 - 1s - loss: 0.3375 - accuracy: 0.8630 - val_loss: 0.2646 - val_accuracy: 0.8896 - lr: 1.0000e-05\n",
      "Epoch 105/120\n",
      "85/85 - 1s - loss: 0.3372 - accuracy: 0.8614 - val_loss: 0.2644 - val_accuracy: 0.8897 - lr: 1.0000e-05\n",
      "Epoch 106/120\n",
      "85/85 - 1s - loss: 0.3391 - accuracy: 0.8622 - val_loss: 0.2642 - val_accuracy: 0.8899 - lr: 1.0000e-05\n",
      "Epoch 107/120\n",
      "85/85 - 1s - loss: 0.3373 - accuracy: 0.8627 - val_loss: 0.2641 - val_accuracy: 0.8896 - lr: 1.0000e-05\n",
      "Epoch 108/120\n",
      "85/85 - 1s - loss: 0.3381 - accuracy: 0.8624 - val_loss: 0.2640 - val_accuracy: 0.8901 - lr: 1.0000e-05\n",
      "Epoch 109/120\n",
      "85/85 - 1s - loss: 0.3384 - accuracy: 0.8615 - val_loss: 0.2641 - val_accuracy: 0.8898 - lr: 1.0000e-05\n",
      "Epoch 110/120\n",
      "85/85 - 1s - loss: 0.3361 - accuracy: 0.8629 - val_loss: 0.2643 - val_accuracy: 0.8897 - lr: 1.0000e-05\n",
      "Epoch 111/120\n",
      "85/85 - 1s - loss: 0.3399 - accuracy: 0.8618 - val_loss: 0.2640 - val_accuracy: 0.8900 - lr: 1.0000e-05\n",
      "Epoch 112/120\n",
      "85/85 - 1s - loss: 0.3370 - accuracy: 0.8623 - val_loss: 0.2641 - val_accuracy: 0.8897 - lr: 1.0000e-05\n",
      "Epoch 113/120\n",
      "85/85 - 1s - loss: 0.3363 - accuracy: 0.8627 - val_loss: 0.2643 - val_accuracy: 0.8898 - lr: 1.0000e-05\n",
      "Epoch 114/120\n",
      "85/85 - 1s - loss: 0.3353 - accuracy: 0.8629 - val_loss: 0.2639 - val_accuracy: 0.8900 - lr: 1.0000e-05\n",
      "Epoch 115/120\n",
      "85/85 - 1s - loss: 0.3377 - accuracy: 0.8621 - val_loss: 0.2643 - val_accuracy: 0.8900 - lr: 1.0000e-05\n",
      "Epoch 116/120\n",
      "85/85 - 1s - loss: 0.3371 - accuracy: 0.8619 - val_loss: 0.2642 - val_accuracy: 0.8901 - lr: 1.0000e-05\n",
      "Epoch 117/120\n",
      "85/85 - 1s - loss: 0.3367 - accuracy: 0.8617 - val_loss: 0.2638 - val_accuracy: 0.8901 - lr: 1.0000e-05\n",
      "Epoch 118/120\n",
      "85/85 - 1s - loss: 0.3361 - accuracy: 0.8626 - val_loss: 0.2639 - val_accuracy: 0.8901 - lr: 1.0000e-05\n",
      "Epoch 119/120\n",
      "85/85 - 1s - loss: 0.3372 - accuracy: 0.8636 - val_loss: 0.2641 - val_accuracy: 0.8900 - lr: 1.0000e-05\n",
      "Epoch 120/120\n",
      "85/85 - 1s - loss: 0.3374 - accuracy: 0.8623 - val_loss: 0.2640 - val_accuracy: 0.8901 - lr: 1.0000e-05\n"
     ]
    }
   ],
   "source": [
    "tf.keras.backend.clear_session()\n",
    "\n",
    "cfg = {\n",
    "    'lr': .001, #initial learning rate\n",
    "    'optimizer': 'Adam', #type of optimizer, 'Adam', 'SGD', 'RMSprop'\n",
    "    'batch_size': 1000,\n",
    "    'epochs': 120,\n",
    "    'input_size': X_train.shape[1],\n",
    "    'patience': 10,\n",
    "    'scheduler_patience': 4,\n",
    "    'scheduler_factor': 0.2\n",
    "    }\n",
    "\n",
    "\n",
    "model = tf.keras.Sequential([\n",
    "    #layers.Dense(18, activation='relu'),\n",
    "    #layers.BatchNormalization(),    \n",
    "#    layers.Conv1D(32, 3, activation='relu', input_shape=(cfg['input_size'], 1)),\n",
    "#    layers.MaxPooling1D((2)),\n",
    "#    layers.Conv1D(64, 3, activation='relu'),\n",
    "#    layers.MaxPooling1D(2),    \n",
    "    layers.Flatten(),\n",
    "    layers.Dense(64, activation='relu'),\n",
    "    layers.BatchNormalization(),\n",
    "    layers.Dropout(rate = 0.3),\n",
    "    layers.Dense(32, activation='relu'),\n",
    "    layers.BatchNormalization(),\n",
    "    layers.Dropout(rate = 0.3),    \n",
    "    layers.Dense(16, activation='relu'),\n",
    "    layers.BatchNormalization(),\n",
    "    layers.Dropout(rate = 0.3),    \n",
    "    #layers.Dense(8, activation='relu'),\n",
    "    #layers.BatchNormalization(),\n",
    "    #layers.Dropout(rate = 0.3),        \n",
    "    layers.Dense(3)\n",
    "    ])\n",
    "\n",
    "optimizer = tf.keras.optimizers.RMSprop(cfg['lr'])\n",
    "\n",
    "model.compile(optimizer='adam',\n",
    "              loss=tf.keras.losses.SparseCategoricalCrossentropy(from_logits=True),\n",
    "              metrics=['accuracy'])\n",
    "\n",
    "early_stop = tf.keras.callbacks.EarlyStopping(monitor='val_loss', patience=cfg['patience'])\n",
    "\n",
    "reduce_lr = keras.callbacks.ReduceLROnPlateau(monitor='val_loss', factor=cfg['scheduler_factor'],\n",
    "                              patience=4, min_lr=0.00001)\n",
    "\n",
    "early_history2 = model.fit(X_train, y_train, #[:, [0,1,2,9,17,12,7,8,10,11]]\n",
    "                    epochs=cfg['epochs'], validation_split = 0.0, validation_data = (X_test, y_test), verbose=2, \n",
    "                    callbacks=[early_stop, reduce_lr], batch_size = cfg['batch_size'])"
   ]
  },
  {
   "cell_type": "code",
   "execution_count": 45,
   "id": "bridal-culture",
   "metadata": {},
   "outputs": [
    {
     "data": {
      "text/plain": [
       "<matplotlib.legend.Legend at 0x7f2204179fd0>"
      ]
     },
     "execution_count": 45,
     "metadata": {},
     "output_type": "execute_result"
    },
    {
     "data": {
      "image/png": "[encoded data removed]",
      "text/plain": [
       "<Figure size 432x288 with 1 Axes>"
      ]
     },
     "metadata": {
      "needs_background": "light"
     },
     "output_type": "display_data"
    }
   ],
   "source": [
    "plt.plot(early_history2.history['accuracy'], label='accuracy')\n",
    "plt.plot(early_history2.history['val_accuracy'], label = 'val_accuracy')\n",
    "plt.plot(early_history2.history['val_loss'], label = 'val_loss')\n",
    "plt.plot(early_history2.history['loss'], label = 'train_loss')\n",
    "plt.xlabel('Epoch')\n",
    "plt.ylabel('Accuracy')\n",
    "plt.ylim([0.2, 1])\n",
    "plt.legend(loc='lower right')\n"
   ]
  },
  {
   "cell_type": "code",
   "execution_count": 46,
   "id": "recreational-actor",
   "metadata": {},
   "outputs": [
    {
     "data": {
      "text/plain": [
       "array([0, 2, 0, ..., 2, 0, 0])"
      ]
     },
     "execution_count": 46,
     "metadata": {},
     "output_type": "execute_result"
    }
   ],
   "source": [
    "y_pred2 = model.predict(X_test).argmax(axis =1)\n",
    "y_pred2"
   ]
  },
  {
   "cell_type": "code",
   "execution_count": 47,
   "id": "academic-testing",
   "metadata": {},
   "outputs": [
    {
     "data": {
      "text/plain": [
       "0.9008366025428935"
      ]
     },
     "execution_count": 47,
     "metadata": {},
     "output_type": "execute_result"
    }
   ],
   "source": [
    "accuracy_score(y_pred2, y_test)"
   ]
  },
  {
   "cell_type": "markdown",
   "id": "permanent-league",
   "metadata": {},
   "source": [
    "#### Confusion matrix:"
   ]
  },
  {
   "cell_type": "code",
   "execution_count": 41,
   "id": "crude-glossary",
   "metadata": {},
   "outputs": [
    {
     "data": {
      "text/plain": [
       "array([[9515,  334,  448],\n",
       "       [ 195, 4204,   71],\n",
       "       [1082,  129, 5179]])"
      ]
     },
     "execution_count": 41,
     "metadata": {},
     "output_type": "execute_result"
    }
   ],
   "source": [
    "cm = confusion_matrix(y_test, y_pred2)\n",
    "cm"
   ]
  },
  {
   "cell_type": "code",
   "execution_count": 42,
   "id": "derived-demographic",
   "metadata": {},
   "outputs": [
    {
     "data": {
      "text/plain": [
       "<AxesSubplot:>"
      ]
     },
     "execution_count": 42,
     "metadata": {},
     "output_type": "execute_result"
    },
    {
     "data": {
      "image/png": "[encoded data removed]",
      "text/plain": [
       "<Figure size 432x288 with 2 Axes>"
      ]
     },
     "metadata": {
      "needs_background": "light"
     },
     "output_type": "display_data"
    }
   ],
   "source": [
    "cm_matrix = pd.DataFrame(data=cm, columns=['Actual MIX:-1', 'Actual NON HTFT:0', 'Actual HTFT:1'], \n",
    "                                 index=['Predict MIX:-1', 'Predict NON HTFT:0', 'Predict HTFT:1'])\n",
    "\n",
    "sns.heatmap(cm_matrix, annot=True, fmt='d', cmap='YlGnBu')"
   ]
  },
  {
   "cell_type": "code",
   "execution_count": 43,
   "id": "general-hospital",
   "metadata": {},
   "outputs": [
    {
     "name": "stdout",
     "output_type": "stream",
     "text": [
      "              precision    recall  f1-score   support\n",
      "\n",
      "           0       0.88      0.92      0.90     10297\n",
      "           1       0.90      0.94      0.92      4470\n",
      "           2       0.91      0.81      0.86      6390\n",
      "\n",
      "    accuracy                           0.89     21157\n",
      "   macro avg       0.90      0.89      0.89     21157\n",
      "weighted avg       0.89      0.89      0.89     21157\n",
      "\n"
     ]
    }
   ],
   "source": [
    "print(classification_report(y_test, y_pred2))"
   ]
  },
  {
   "cell_type": "markdown",
   "id": "frequent-equation",
   "metadata": {},
   "source": [
    "## Saving model"
   ]
  },
  {
   "cell_type": "code",
   "execution_count": 18,
   "id": "static-russia",
   "metadata": {},
   "outputs": [
    {
     "name": "stdout",
     "output_type": "stream",
     "text": [
      "WARNING:tensorflow:From /Data/pls_do_not_delete/miniconda3/envs/inf554/lib/python3.8/site-packages/tensorflow/python/ops/resource_variable_ops.py:1813: calling BaseResourceVariable.__init__ (from tensorflow.python.ops.resource_variable_ops) with constraint is deprecated and will be removed in a future version.\n",
      "Instructions for updating:\n",
      "If using Keras pass *_constraint arguments to layers.\n",
      "INFO:tensorflow:Assets written to: models/MLP_Batchnorm_dropout_2Hidden/assets\n"
     ]
    }
   ],
   "source": [
    "model.save(\"models/MLP_Batchnorm_dropout_2Hidden\")"
   ]
  },
  {
   "cell_type": "markdown",
   "id": "crude-capture",
   "metadata": {},
   "source": [
    "## With Splitted traders:"
   ]
  },
  {
   "cell_type": "code",
   "execution_count": 11,
   "id": "sacred-yahoo",
   "metadata": {},
   "outputs": [],
   "source": [
    "X_train2, X_test2, y_train2, y_test2 = pd.read_pickle(\"Processed_data/X_train_evenly_splitted_traders.pkl\"), pd.read_pickle(\"Processed_data/X_test_evenly_splitted_traders.pkl\"), pd.read_pickle(\"Processed_data/y_train_evenly_splitted_traders.pkl\"), pd.read_pickle(\"Processed_data/y_test_evenly_splitted_traders.pkl\")"
   ]
  },
  {
   "cell_type": "code",
   "execution_count": 12,
   "id": "textile-smith",
   "metadata": {},
   "outputs": [],
   "source": [
    "y_train2 += 1\n",
    "y_test2  += 1"
   ]
  },
  {
   "cell_type": "code",
   "execution_count": 13,
   "id": "productive-feedback",
   "metadata": {},
   "outputs": [],
   "source": [
    "X_train2 = np.array(X_train2)\n",
    "X_train2 = X_train2.reshape(X_train2.shape[0], X_train2.shape[1], 1)\n",
    "\n",
    "X_test2 = np.array(X_test2)\n",
    "X_test2 = X_test2.reshape(X_test2.shape[0], X_test2.shape[1], 1)"
   ]
  },
  {
   "cell_type": "code",
   "execution_count": 24,
   "id": "entire-camping",
   "metadata": {},
   "outputs": [
    {
     "name": "stdout",
     "output_type": "stream",
     "text": [
      "Epoch 1/60\n",
      "84/84 - 1s - loss: 1.0549 - accuracy: 0.5342 - val_loss: 1.9998 - val_accuracy: 0.4158 - lr: 0.0010\n",
      "Epoch 2/60\n",
      "84/84 - 1s - loss: 0.8283 - accuracy: 0.6240 - val_loss: 1.5377 - val_accuracy: 0.4415 - lr: 0.0010\n",
      "Epoch 3/60\n",
      "84/84 - 1s - loss: 0.7465 - accuracy: 0.6632 - val_loss: 1.4040 - val_accuracy: 0.4478 - lr: 0.0010\n",
      "Epoch 4/60\n",
      "84/84 - 1s - loss: 0.6970 - accuracy: 0.6952 - val_loss: 1.3814 - val_accuracy: 0.4577 - lr: 0.0010\n",
      "Epoch 5/60\n",
      "84/84 - 1s - loss: 0.6591 - accuracy: 0.7202 - val_loss: 1.3232 - val_accuracy: 0.4767 - lr: 0.0010\n",
      "Epoch 6/60\n",
      "84/84 - 1s - loss: 0.6283 - accuracy: 0.7389 - val_loss: 1.2963 - val_accuracy: 0.4924 - lr: 0.0010\n",
      "Epoch 7/60\n",
      "84/84 - 1s - loss: 0.5895 - accuracy: 0.7624 - val_loss: 1.3087 - val_accuracy: 0.4815 - lr: 0.0010\n",
      "Epoch 8/60\n",
      "84/84 - 1s - loss: 0.5573 - accuracy: 0.7783 - val_loss: 1.4231 - val_accuracy: 0.4782 - lr: 0.0010\n",
      "Epoch 9/60\n",
      "84/84 - 1s - loss: 0.5313 - accuracy: 0.7930 - val_loss: 1.3985 - val_accuracy: 0.4724 - lr: 0.0010\n",
      "Epoch 10/60\n",
      "84/84 - 1s - loss: 0.5160 - accuracy: 0.7997 - val_loss: 1.2445 - val_accuracy: 0.5086 - lr: 0.0010\n",
      "Epoch 11/60\n",
      "84/84 - 1s - loss: 0.4965 - accuracy: 0.8111 - val_loss: 1.2565 - val_accuracy: 0.5128 - lr: 0.0010\n",
      "Epoch 12/60\n",
      "84/84 - 1s - loss: 0.4861 - accuracy: 0.8141 - val_loss: 1.1585 - val_accuracy: 0.5286 - lr: 0.0010\n",
      "Epoch 13/60\n",
      "84/84 - 1s - loss: 0.4722 - accuracy: 0.8229 - val_loss: 1.2664 - val_accuracy: 0.5299 - lr: 0.0010\n",
      "Epoch 14/60\n",
      "84/84 - 1s - loss: 0.4616 - accuracy: 0.8251 - val_loss: 1.2218 - val_accuracy: 0.5340 - lr: 0.0010\n",
      "Epoch 15/60\n",
      "84/84 - 1s - loss: 0.4543 - accuracy: 0.8271 - val_loss: 1.2112 - val_accuracy: 0.5476 - lr: 0.0010\n",
      "Epoch 16/60\n",
      "84/84 - 1s - loss: 0.4439 - accuracy: 0.8331 - val_loss: 1.2217 - val_accuracy: 0.5503 - lr: 0.0010\n",
      "Epoch 17/60\n",
      "84/84 - 1s - loss: 0.4324 - accuracy: 0.8380 - val_loss: 1.1929 - val_accuracy: 0.5571 - lr: 2.0000e-04\n",
      "Epoch 18/60\n",
      "84/84 - 1s - loss: 0.4291 - accuracy: 0.8381 - val_loss: 1.2038 - val_accuracy: 0.5554 - lr: 2.0000e-04\n",
      "Epoch 19/60\n",
      "84/84 - 1s - loss: 0.4257 - accuracy: 0.8402 - val_loss: 1.1729 - val_accuracy: 0.5584 - lr: 2.0000e-04\n",
      "Epoch 20/60\n",
      "84/84 - 1s - loss: 0.4204 - accuracy: 0.8426 - val_loss: 1.1783 - val_accuracy: 0.5608 - lr: 2.0000e-04\n",
      "Epoch 21/60\n",
      "84/84 - 1s - loss: 0.4213 - accuracy: 0.8431 - val_loss: 1.1674 - val_accuracy: 0.5634 - lr: 4.0000e-05\n",
      "Epoch 22/60\n",
      "84/84 - 1s - loss: 0.4185 - accuracy: 0.8431 - val_loss: 1.1857 - val_accuracy: 0.5613 - lr: 4.0000e-05\n"
     ]
    }
   ],
   "source": [
    "tf.keras.backend.clear_session()\n",
    "\n",
    "cfg = {\n",
    "    'lr': .001, #initial learning rate\n",
    "    'optimizer': 'Adam', #type of optimizer, 'Adam', 'SGD', 'RMSprop'\n",
    "    'batch_size': 500,\n",
    "    'epochs': 60,\n",
    "    'input_size': X_train.shape[1],\n",
    "    'patience': 10,\n",
    "    'scheduler_patience': 4,\n",
    "    'scheduler_factor': 0.2\n",
    "    }\n",
    "\n",
    "\n",
    "model = tf.keras.Sequential([\n",
    "    #layers.Dense(18, activation='relu'),\n",
    "    #layers.BatchNormalization(),    \n",
    "#    layers.Conv1D(32, 3, activation='relu', input_shape=(cfg['input_size'], 1)),\n",
    "#    layers.MaxPooling1D((2)),\n",
    "#    layers.Conv1D(64, 3, activation='relu'),\n",
    "#    layers.MaxPooling1D(2),    \n",
    "    layers.Flatten(),\n",
    "    layers.Dense(64, activation='relu'),\n",
    "    layers.BatchNormalization(),\n",
    "    layers.Dropout(rate = 0.3),\n",
    "    layers.Dense(32, activation='relu'),\n",
    "    layers.BatchNormalization(),\n",
    "    layers.Dropout(rate = 0.3),    \n",
    "    layers.Dense(16, activation='relu'),\n",
    "    layers.BatchNormalization(),\n",
    "    layers.Dropout(rate = 0.3),    \n",
    "    layers.Dense(3)\n",
    "    ])\n",
    "\n",
    "optimizer = tf.keras.optimizers.RMSprop(cfg['lr'])\n",
    "\n",
    "model.compile(optimizer='adam',\n",
    "              loss=tf.keras.losses.SparseCategoricalCrossentropy(from_logits=True),\n",
    "              metrics=['accuracy'])\n",
    "\n",
    "early_stop = tf.keras.callbacks.EarlyStopping(monitor='val_loss', patience=10)\n",
    "\n",
    "reduce_lr = keras.callbacks.ReduceLROnPlateau(monitor='val_loss', factor=0.2,\n",
    "                              patience=4, min_lr=0.00001)\n",
    "\n",
    "early_history2 = model.fit(X_train2, y_train2, \n",
    "                    epochs=cfg['epochs'], validation_split = 0.0, validation_data = (X_test2, y_test2), verbose=2, \n",
    "                    callbacks=[early_stop, reduce_lr], batch_size = 1000)"
   ]
  },
  {
   "cell_type": "code",
   "execution_count": 25,
   "id": "textile-library",
   "metadata": {},
   "outputs": [
    {
     "data": {
      "text/plain": [
       "<matplotlib.legend.Legend at 0x7f3a1c70e310>"
      ]
     },
     "execution_count": 25,
     "metadata": {},
     "output_type": "execute_result"
    },
    {
     "data": {
      "image/png": "[encoded data removed]",
      "text/plain": [
       "<Figure size 432x288 with 1 Axes>"
      ]
     },
     "metadata": {
      "needs_background": "light"
     },
     "output_type": "display_data"
    }
   ],
   "source": [
    "plt.plot(early_history2.history['accuracy'], label='accuracy')\n",
    "plt.plot(early_history2.history['val_accuracy'], label = 'val_accuracy')\n",
    "plt.plot(early_history2.history['val_loss'], label = 'val_loss')\n",
    "plt.plot(early_history2.history['loss'], label = 'val_loss')\n",
    "plt.xlabel('Epoch')\n",
    "plt.ylabel('Accuracy')\n",
    "plt.ylim([0.2, 1])\n",
    "plt.legend(loc='lower right')\n"
   ]
  },
  {
   "cell_type": "code",
   "execution_count": 19,
   "id": "figured-extra",
   "metadata": {},
   "outputs": [
    {
     "data": {
      "text/plain": [
       "array([0, 0, 2, ..., 0, 0, 0])"
      ]
     },
     "execution_count": 19,
     "metadata": {},
     "output_type": "execute_result"
    }
   ],
   "source": [
    "y_pred2 = model.predict(X_test2).argmax(axis =1)\n",
    "y_pred2"
   ]
  },
  {
   "cell_type": "code",
   "execution_count": 20,
   "id": "interior-spencer",
   "metadata": {},
   "outputs": [
    {
     "data": {
      "text/plain": [
       "0.4931543149898419"
      ]
     },
     "execution_count": 20,
     "metadata": {},
     "output_type": "execute_result"
    }
   ],
   "source": [
    "accuracy_score(y_pred2, y_test2)"
   ]
  },
  {
   "cell_type": "markdown",
   "id": "simple-parking",
   "metadata": {},
   "source": [
    "#### Confusion matrix:"
   ]
  },
  {
   "cell_type": "code",
   "execution_count": 21,
   "id": "electric-madagascar",
   "metadata": {},
   "outputs": [
    {
     "data": {
      "text/plain": [
       "array([[4768, 5653,  449],\n",
       "       [ 433, 4864,  339],\n",
       "       [4556,   46, 1534]])"
      ]
     },
     "execution_count": 21,
     "metadata": {},
     "output_type": "execute_result"
    }
   ],
   "source": [
    "cm = confusion_matrix(y_test2, y_pred2)\n",
    "cm"
   ]
  },
  {
   "cell_type": "code",
   "execution_count": 22,
   "id": "fixed-symphony",
   "metadata": {},
   "outputs": [
    {
     "data": {
      "text/plain": [
       "<AxesSubplot:>"
      ]
     },
     "execution_count": 22,
     "metadata": {},
     "output_type": "execute_result"
    },
    {
     "data": {
      "image/png": "[encoded data removed]",
      "text/plain": [
       "<Figure size 432x288 with 2 Axes>"
      ]
     },
     "metadata": {
      "needs_background": "light"
     },
     "output_type": "display_data"
    }
   ],
   "source": [
    "cm_matrix = pd.DataFrame(data=cm, columns=['Actual MIX:-1', 'Actual NON HTFT:0', 'Actual HTFT:1'], \n",
    "                                 index=['Predict MIX:-1', 'Predict NON HTFT:0', 'Predict HTFT:1'])\n",
    "\n",
    "sns.heatmap(cm_matrix, annot=True, fmt='d', cmap='YlGnBu')"
   ]
  },
  {
   "cell_type": "code",
   "execution_count": 23,
   "id": "finnish-senegal",
   "metadata": {},
   "outputs": [
    {
     "name": "stdout",
     "output_type": "stream",
     "text": [
      "              precision    recall  f1-score   support\n",
      "\n",
      "           0       0.49      0.44      0.46     10870\n",
      "           1       0.46      0.86      0.60      5636\n",
      "           2       0.66      0.25      0.36      6136\n",
      "\n",
      "    accuracy                           0.49     22642\n",
      "   macro avg       0.54      0.52      0.48     22642\n",
      "weighted avg       0.53      0.49      0.47     22642\n",
      "\n"
     ]
    }
   ],
   "source": [
    "print(classification_report(y_test2, y_pred2))"
   ]
  }
 ],
 "metadata": {
  "kernelspec": {
   "display_name": "Python 3",
   "language": "python",
   "name": "python3"
  },
  "language_info": {
   "codemirror_mode": {
    "name": "ipython",
    "version": 3
   },
   "file_extension": ".py",
   "mimetype": "text/x-python",
   "name": "python",
   "nbconvert_exporter": "python",
   "pygments_lexer": "ipython3",
   "version": "3.8.8"
  }
 },
 "nbformat": 4,
 "nbformat_minor": 5
}
