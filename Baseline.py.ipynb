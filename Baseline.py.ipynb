{
 "cells": [
  {
   "cell_type": "markdown",
   "metadata": {},
   "source": [
    "# Training the Best Random Forest Classifier:"
   ]
  },
  {
   "cell_type": "code",
   "execution_count": 1,
   "metadata": {},
   "outputs": [],
   "source": [
    "import pandas as pd\n",
    "import numpy as np\n",
    "\n",
    "import missingno as msno\n",
    "import pickle\n",
    "import os\n",
    "\n",
    "import seaborn as sns\n",
    "import matplotlib.pyplot as plt\n",
    "%matplotlib inline\n",
    "\n",
    "from verstack.stratified_continuous_split import scsplit\n",
    "from sklearn.ensemble import RandomForestClassifier\n",
    "from sklearn.model_selection import cross_val_score\n",
    "from sklearn.model_selection import RandomizedSearchCV\n",
    "from scipy.stats import randint\n",
    "from sklearn.metrics import f1_score\n",
    "from sklearn.metrics import classification_report\n",
    "from sklearn.metrics import plot_confusion_matrix"
   ]
  },
  {
   "cell_type": "markdown",
   "metadata": {},
   "source": [
    "## Load the Data:"
   ]
  },
  {
   "cell_type": "code",
   "execution_count": 2,
   "metadata": {},
   "outputs": [],
   "source": [
    "very_light_data            = pd.read_csv(\"Data/inverted_OCR.csv\")\n",
    "very_light_data            = very_light_data.drop(columns = ['Index'])\n",
    "\n",
    "very_light_data_withoutMIX = pd.read_csv(\"Data/inverted_OCR_without_MIX.csv\")\n",
    "very_light_data_withoutMIX = very_light_data_withoutMIX.drop(columns = ['Index'])"
   ]
  },
  {
   "cell_type": "markdown",
   "metadata": {},
   "source": [
    "## Train a baseline model"
   ]
  },
  {
   "cell_type": "code",
   "execution_count": 3,
   "metadata": {},
   "outputs": [],
   "source": [
    "X_train, X_test, y_train, y_test = scsplit(very_light_data_withoutMIX.drop(columns=\"type\"), very_light_data_withoutMIX['type'],\n",
    "                                           stratify=very_light_data_withoutMIX['type'],\n",
    "                                           train_size=0.8, test_size=0.2,\n",
    "                                            continuous = False) # tested"
   ]
  },
  {
   "cell_type": "code",
   "execution_count": 57,
   "metadata": {},
   "outputs": [
    {
     "data": {
      "text/plain": [
       "RandomizedSearchCV(cv=5,\n",
       "                   estimator=RandomForestClassifier(class_weight='balanced',\n",
       "                                                    random_state=42),\n",
       "                   n_iter=5,\n",
       "                   param_distributions={'bootstrap': [True],\n",
       "                                        'max_depth': [50, 100],\n",
       "                                        'max_features': [3, 8],\n",
       "                                        'min_samples_leaf': [3, 5],\n",
       "                                        'min_samples_split': [2, 5],\n",
       "                                        'n_estimators': [300, 500]},\n",
       "                   random_state=42, scoring='f1_weighted')"
      ]
     },
     "execution_count": 57,
     "metadata": {},
     "output_type": "execute_result"
    }
   ],
   "source": [
    "\n",
    "\n",
    "param_grid = {\n",
    "    'bootstrap': [True],\n",
    "    'max_depth': [50, 100],\n",
    "    'max_features': [3, 8],\n",
    "    'min_samples_leaf': [3, 5],\n",
    "    'min_samples_split': [2, 5],\n",
    "    'n_estimators': [300, 500]\n",
    "}\n",
    "\n",
    "forest_reg = RandomForestClassifier(random_state=42, class_weight=\"balanced\")\n",
    "rnd_search = RandomizedSearchCV(forest_reg, param_distributions=param_grid,\n",
    "                                n_iter=5, cv=5, scoring='f1_weighted', random_state=42)\n",
    "rnd_search.fit(X_train, y_train)"
   ]
  },
  {
   "cell_type": "markdown",
   "metadata": {},
   "source": [
    "Runs in around 10 min"
   ]
  },
  {
   "cell_type": "code",
   "execution_count": 58,
   "metadata": {},
   "outputs": [
    {
     "name": "stdout",
     "output_type": "stream",
     "text": [
      "0.9952143349587228 {'n_estimators': 500, 'min_samples_split': 2, 'min_samples_leaf': 5, 'max_features': 8, 'max_depth': 100, 'bootstrap': True}\n",
      "0.9952143349587228 {'n_estimators': 500, 'min_samples_split': 5, 'min_samples_leaf': 5, 'max_features': 8, 'max_depth': 50, 'bootstrap': True}\n",
      "0.9957661752405151 {'n_estimators': 300, 'min_samples_split': 2, 'min_samples_leaf': 3, 'max_features': 8, 'max_depth': 100, 'bootstrap': True}\n",
      "0.9939955888129829 {'n_estimators': 500, 'min_samples_split': 2, 'min_samples_leaf': 3, 'max_features': 3, 'max_depth': 100, 'bootstrap': True}\n",
      "0.9957661752405151 {'n_estimators': 300, 'min_samples_split': 2, 'min_samples_leaf': 3, 'max_features': 8, 'max_depth': 50, 'bootstrap': True}\n"
     ]
    }
   ],
   "source": [
    "\n",
    "cvres = rnd_search.cv_results_\n",
    "for f1_score, params in zip(cvres[\"mean_test_score\"], cvres[\"params\"]):\n",
    "    print(f1_score, params)"
   ]
  },
  {
   "cell_type": "code",
   "execution_count": 59,
   "metadata": {},
   "outputs": [],
   "source": [
    "final_model = rnd_search.best_estimator_"
   ]
  },
  {
   "cell_type": "markdown",
   "metadata": {},
   "source": [
    "#### We save the best model:"
   ]
  },
  {
   "cell_type": "code",
   "execution_count": 69,
   "metadata": {},
   "outputs": [],
   "source": [
    "pickle.dump(final_model, open(\"models/best_2class_estimator.pkl\", \"wb\"))"
   ]
  },
  {
   "cell_type": "markdown",
   "metadata": {},
   "source": [
    "#### We can load the previously trained model:"
   ]
  },
  {
   "cell_type": "code",
   "execution_count": 64,
   "metadata": {},
   "outputs": [
    {
     "data": {
      "text/plain": [
       "RandomForestClassifier(class_weight='balanced', max_depth=100, max_features=8,\n",
       "                       min_samples_leaf=3, n_estimators=300, random_state=42)"
      ]
     },
     "execution_count": 64,
     "metadata": {},
     "output_type": "execute_result"
    }
   ],
   "source": [
    "load_model   = True\n",
    "loaded_model = None\n",
    "if(load_model):\n",
    "    loaded_model = pickle.load(open(\"models/best_2class_estimator.pkl\", \"rb\"))\n",
    "    loaded_model"
   ]
  },
  {
   "cell_type": "markdown",
   "metadata": {},
   "source": [
    "#### We then evaluate the best model:"
   ]
  },
  {
   "cell_type": "code",
   "execution_count": 68,
   "metadata": {},
   "outputs": [],
   "source": [
    "if(loaded_model):final_model=loaded_model\n",
    "\n",
    "scores = cross_val_score(final_model, X_train, y_train,\n",
    "                         scoring=\"f1_weighted\", cv=5)"
   ]
  },
  {
   "cell_type": "code",
   "execution_count": 69,
   "metadata": {},
   "outputs": [
    {
     "name": "stdout",
     "output_type": "stream",
     "text": [
      "Validation Dataset\n",
      "Scores: [0.99516873 0.99401915 0.99631858 0.99608786 0.99689288]\n",
      "Mean: 0.9956974389412491\n",
      "Standard Deviation: 0.001006332108869886\n"
     ]
    }
   ],
   "source": [
    "def display_scores(scores):\n",
    "    print(\"Scores:\", scores)\n",
    "    print(\"Mean:\", scores.mean())\n",
    "    print(\"Standard Deviation:\", scores.std())\n",
    "\n",
    "print(\"Validation Dataset\")\n",
    "display_scores(scores)"
   ]
  },
  {
   "cell_type": "code",
   "execution_count": 72,
   "metadata": {
    "scrolled": true
   },
   "outputs": [
    {
     "name": "stdout",
     "output_type": "stream",
     "text": [
      "Test Dataset\n",
      "              precision    recall  f1-score   support\n",
      "\n",
      "           0       1.00      1.00      1.00      4470\n",
      "           1       1.00      1.00      1.00      6390\n",
      "\n",
      "    accuracy                           1.00     10860\n",
      "   macro avg       1.00      1.00      1.00     10860\n",
      "weighted avg       1.00      1.00      1.00     10860\n",
      "\n"
     ]
    }
   ],
   "source": [
    "predictions = final_model.predict(X_test)\n",
    "print(\"Test Dataset\")\n",
    "print(classification_report(y_test, predictions))"
   ]
  },
  {
   "cell_type": "code",
   "execution_count": 63,
   "metadata": {},
   "outputs": [
    {
     "name": "stdout",
     "output_type": "stream",
     "text": [
      "Normalized confusion matrix\n",
      "[[0.998434   0.001566  ]\n",
      " [0.00594679 0.99405321]]\n"
     ]
    },
    {
     "data": {
      "text/plain": [
       "<Figure size 432x432 with 0 Axes>"
      ]
     },
     "metadata": {},
     "output_type": "display_data"
    },
    {
     "data": {
      "image/png": "[encoded data removed]",
      "text/plain": [
       "<Figure size 360x360 with 2 Axes>"
      ]
     },
     "metadata": {},
     "output_type": "display_data"
    }
   ],
   "source": [
    "# Plot normalized confusion matrix\n",
    "class_names = [0,1]\n",
    "plt.figure(figsize=(6,6))\n",
    "disp = plot_confusion_matrix(final_model, X_test, y_test,\n",
    "                             display_labels=class_names,\n",
    "                             cmap=plt.cm.Blues,\n",
    "                             normalize=\"true\")\n",
    "disp.ax_.set_title(\"Normalized confusion matrix\")\n",
    "\n",
    "print(\"Normalized confusion matrix\")\n",
    "print(disp.confusion_matrix)\n",
    "plt.grid(b=None)\n",
    "fig = plt.gcf()\n",
    "fig.set_size_inches(5,5)\n",
    "plt.show()"
   ]
  },
  {
   "cell_type": "markdown",
   "metadata": {},
   "source": [
    "## Feature importance"
   ]
  },
  {
   "cell_type": "code",
   "execution_count": 64,
   "metadata": {},
   "outputs": [
    {
     "name": "stdout",
     "output_type": "stream",
     "text": [
      "Feature ranking:\n",
      "1. feature 1 (0.294852)\n",
      "2. feature 9 (0.193837)\n",
      "3. feature 17 (0.184682)\n",
      "4. feature 12 (0.117805)\n",
      "5. feature 7 (0.060597)\n",
      "6. feature 8 (0.044017)\n",
      "7. feature 10 (0.025914)\n",
      "8. feature 11 (0.022778)\n",
      "9. feature 3 (0.011007)\n",
      "10. feature 2 (0.008791)\n",
      "11. feature 6 (0.008699)\n",
      "12. feature 5 (0.007866)\n",
      "13. feature 0 (0.005630)\n",
      "14. feature 4 (0.003941)\n",
      "15. feature 16 (0.003932)\n",
      "16. feature 14 (0.002562)\n",
      "17. feature 15 (0.002424)\n",
      "18. feature 13 (0.000666)\n"
     ]
    },
    {
     "data": {
      "image/png": "[encoded data removed]",
      "text/plain": [
       "<Figure size 1080x576 with 1 Axes>"
      ]
     },
     "metadata": {},
     "output_type": "display_data"
    }
   ],
   "source": [
    "importances = final_model.feature_importances_\n",
    "std = np.std([tree.feature_importances_ for tree in final_model.estimators_],\n",
    "             axis=0)\n",
    "indices = np.argsort(importances)[::-1]\n",
    "\n",
    "# Print the feature ranking\n",
    "print(\"Feature ranking:\")\n",
    "\n",
    "for f in range(X_train.shape[1]):\n",
    "    print(\"%d. feature %d (%f)\" % (f + 1, indices[f], importances[indices[f]]))\n",
    "\n",
    "# Plot the impurity-based feature importances of the forest\n",
    "plt.figure()\n",
    "plt.title(\"Feature importances\")\n",
    "plt.bar(range(X_train.shape[1]), importances[indices],\n",
    "        color=\"r\", yerr=std[indices], align=\"center\")\n",
    "plt.xticks(range(X_train.shape[1]), indices)\n",
    "plt.xlim([-1, X_train.shape[1]])\n",
    "plt.show()\n"
   ]
  },
  {
   "cell_type": "markdown",
   "metadata": {},
   "source": [
    "### With MIX:"
   ]
  },
  {
   "cell_type": "code",
   "execution_count": 4,
   "metadata": {},
   "outputs": [],
   "source": [
    "X_train2, X_test2, y_train2, y_test2 = scsplit(very_light_data.drop(columns=\"type\"), very_light_data['type'],\n",
    "                                           stratify=very_light_data['type'],\n",
    "                                           train_size=0.8, test_size=0.2,\n",
    "                                            continuous = False) # tested"
   ]
  },
  {
   "cell_type": "code",
   "execution_count": 8,
   "metadata": {},
   "outputs": [
    {
     "data": {
      "text/plain": [
       "RandomizedSearchCV(cv=5,\n",
       "                   estimator=RandomForestClassifier(class_weight='balanced',\n",
       "                                                    random_state=42),\n",
       "                   n_iter=5,\n",
       "                   param_distributions={'bootstrap': [True],\n",
       "                                        'max_depth': [50, 100],\n",
       "                                        'max_features': [3, 8],\n",
       "                                        'min_samples_leaf': [3, 5],\n",
       "                                        'min_samples_split': [2, 5],\n",
       "                                        'n_estimators': [300, 500]},\n",
       "                   random_state=42, scoring='f1_weighted')"
      ]
     },
     "execution_count": 8,
     "metadata": {},
     "output_type": "execute_result"
    }
   ],
   "source": [
    "param_grid = {\n",
    "    'bootstrap': [True],\n",
    "    'max_depth': [50, 100],\n",
    "    'max_features': [3, 8],\n",
    "    'min_samples_leaf': [3, 5],\n",
    "    'min_samples_split': [2, 5],\n",
    "    'n_estimators': [300, 500]\n",
    "}\n",
    "\n",
    "forest_reg = RandomForestClassifier(random_state=42, class_weight=\"balanced\")\n",
    "rnd_search = RandomizedSearchCV(forest_reg, param_distributions=param_grid,\n",
    "                                n_iter=5, cv=5, scoring='f1_weighted', random_state=42)\n",
    "rnd_search.fit(X_train2, y_train2)"
   ]
  },
  {
   "cell_type": "code",
   "execution_count": 9,
   "metadata": {},
   "outputs": [
    {
     "name": "stdout",
     "output_type": "stream",
     "text": [
      "0.9868622605740116 {'n_estimators': 500, 'min_samples_split': 2, 'min_samples_leaf': 5, 'max_features': 8, 'max_depth': 100, 'bootstrap': True}\n",
      "0.9868622605740116 {'n_estimators': 500, 'min_samples_split': 5, 'min_samples_leaf': 5, 'max_features': 8, 'max_depth': 50, 'bootstrap': True}\n",
      "0.9879999543022786 {'n_estimators': 300, 'min_samples_split': 2, 'min_samples_leaf': 3, 'max_features': 8, 'max_depth': 100, 'bootstrap': True}\n",
      "0.9852139107217107 {'n_estimators': 500, 'min_samples_split': 2, 'min_samples_leaf': 3, 'max_features': 3, 'max_depth': 100, 'bootstrap': True}\n",
      "0.9879999543022786 {'n_estimators': 300, 'min_samples_split': 2, 'min_samples_leaf': 3, 'max_features': 8, 'max_depth': 50, 'bootstrap': True}\n"
     ]
    }
   ],
   "source": [
    "\n",
    "cvres = rnd_search.cv_results_\n",
    "for f1_score, params in zip(cvres[\"mean_test_score\"], cvres[\"params\"]):\n",
    "    print(f1_score, params)"
   ]
  },
  {
   "cell_type": "code",
   "execution_count": 10,
   "metadata": {},
   "outputs": [],
   "source": [
    "final_model2 = rnd_search.best_estimator_"
   ]
  },
  {
   "cell_type": "code",
   "execution_count": 11,
   "metadata": {},
   "outputs": [],
   "source": [
    "pickle.dump(final_model2, open(\"models/best_3class_estimator.pkl\", \"wb\"))"
   ]
  },
  {
   "cell_type": "markdown",
   "metadata": {},
   "source": [
    "### Load the model and test its performance:"
   ]
  },
  {
   "cell_type": "code",
   "execution_count": 5,
   "metadata": {},
   "outputs": [],
   "source": [
    "final_model2 = pickle.load(open(\"models/best_3class_estimator.pkl\", \"rb\"))"
   ]
  },
  {
   "cell_type": "code",
   "execution_count": 13,
   "metadata": {},
   "outputs": [
    {
     "name": "stdout",
     "output_type": "stream",
     "text": [
      "Test Dataset\n",
      "              precision    recall  f1-score   support\n",
      "\n",
      "          -1       0.99      0.99      0.99     10297\n",
      "           0       0.97      0.99      0.98      4470\n",
      "           1       1.00      0.98      0.99      6390\n",
      "\n",
      "    accuracy                           0.99     21157\n",
      "   macro avg       0.99      0.99      0.99     21157\n",
      "weighted avg       0.99      0.99      0.99     21157\n",
      "\n"
     ]
    }
   ],
   "source": [
    "predictions2 = final_model2.predict(X_test2)\n",
    "print(\"Test Dataset\")\n",
    "print(classification_report(y_test2, predictions2))"
   ]
  },
  {
   "cell_type": "code",
   "execution_count": 14,
   "metadata": {},
   "outputs": [
    {
     "name": "stdout",
     "output_type": "stream",
     "text": [
      "Normalized confusion matrix\n",
      "[[0.98805477 0.00980868 0.00213654]\n",
      " [0.00425056 0.99440716 0.00134228]\n",
      " [0.01048513 0.00453834 0.98497653]]\n"
     ]
    },
    {
     "data": {
      "text/plain": [
       "<Figure size 720x720 with 0 Axes>"
      ]
     },
     "metadata": {},
     "output_type": "display_data"
    },
    {
     "data": {
      "image/png": "[encoded data removed]",
      "text/plain": [
       "<Figure size 648x648 with 2 Axes>"
      ]
     },
     "metadata": {
      "needs_background": "light"
     },
     "output_type": "display_data"
    }
   ],
   "source": [
    "# Plot normalized confusion matrix\n",
    "class_names = [-1, 0,1]\n",
    "plt.figure(figsize=(10,10))\n",
    "disp = plot_confusion_matrix(final_model2, X_test2, y_test2,\n",
    "                             display_labels=class_names,\n",
    "                             cmap=plt.cm.Blues,\n",
    "                             normalize=\"true\")\n",
    "disp.ax_.set_title(\"Normalized confusion matrix\")\n",
    "\n",
    "print(\"Normalized confusion matrix\")\n",
    "print(disp.confusion_matrix)\n",
    "plt.grid(b=None)\n",
    "fig = plt.gcf()\n",
    "fig.set_size_inches(9,9)\n",
    "plt.show()"
   ]
  },
  {
   "cell_type": "markdown",
   "metadata": {},
   "source": [
    "## Feature importance"
   ]
  },
  {
   "cell_type": "code",
   "execution_count": 15,
   "metadata": {},
   "outputs": [
    {
     "name": "stdout",
     "output_type": "stream",
     "text": [
      "Feature ranking:\n",
      "1. feature 9 (0.248376)\n",
      "2. feature 17 (0.195895)\n",
      "3. feature 12 (0.093240)\n",
      "4. feature 2 (0.086339)\n",
      "5. feature 1 (0.072154)\n",
      "6. feature 7 (0.056727)\n",
      "7. feature 8 (0.056608)\n",
      "8. feature 10 (0.040398)\n",
      "9. feature 11 (0.030092)\n",
      "10. feature 0 (0.029303)\n",
      "11. feature 3 (0.015012)\n",
      "12. feature 6 (0.014658)\n",
      "13. feature 14 (0.013739)\n",
      "14. feature 4 (0.013181)\n",
      "15. feature 5 (0.012537)\n",
      "16. feature 16 (0.010445)\n",
      "17. feature 15 (0.005714)\n",
      "18. feature 13 (0.005582)\n"
     ]
    },
    {
     "data": {
      "image/png": "[encoded data removed]",
      "text/plain": [
       "<Figure size 432x288 with 1 Axes>"
      ]
     },
     "metadata": {
      "needs_background": "light"
     },
     "output_type": "display_data"
    }
   ],
   "source": [
    "importances = final_model2.feature_importances_\n",
    "std = np.std([tree.feature_importances_ for tree in final_model2.estimators_],\n",
    "             axis=0)\n",
    "indices = np.argsort(importances)[::-1]\n",
    "\n",
    "# Print the feature ranking\n",
    "print(\"Feature ranking:\")\n",
    "\n",
    "for f in range(X_train2.shape[1]):\n",
    "    print(\"%d. feature %d (%f)\" % (f + 1, indices[f], importances[indices[f]]))\n",
    "\n",
    "# Plot the impurity-based feature importances of the forest\n",
    "plt.figure()\n",
    "plt.title(\"Feature importances\")\n",
    "plt.bar(range(X_train2.shape[1]), importances[indices],\n",
    "        color=\"r\", yerr=std[indices], align=\"center\")\n",
    "plt.xticks(range(X_train2.shape[1]), indices)\n",
    "plt.xlim([-1, X_train2.shape[1]])\n",
    "plt.show()\n"
   ]
  },
  {
   "cell_type": "markdown",
   "metadata": {},
   "source": [
    "### With seperated traders:"
   ]
  },
  {
   "cell_type": "code",
   "execution_count": 6,
   "metadata": {},
   "outputs": [],
   "source": [
    "X_train3, X_test3, y_train3, y_test3 = pd.read_pickle(\"Processed_data/X_train_evenly_splitted_traders.pkl\"), pd.read_pickle(\"Processed_data/X_test_evenly_splitted_traders.pkl\"), pd.read_pickle(\"Processed_data/y_train_evenly_splitted_traders.pkl\"), pd.read_pickle(\"Processed_data/y_test_evenly_splitted_traders.pkl\")"
   ]
  },
  {
   "cell_type": "code",
   "execution_count": 7,
   "metadata": {},
   "outputs": [
    {
     "data": {
      "text/plain": [
       "RandomizedSearchCV(cv=5,\n",
       "                   estimator=RandomForestClassifier(class_weight='balanced',\n",
       "                                                    random_state=42),\n",
       "                   n_iter=5,\n",
       "                   param_distributions={'bootstrap': [True],\n",
       "                                        'max_depth': [50, 100],\n",
       "                                        'max_features': [3, 8],\n",
       "                                        'min_samples_leaf': [3, 5],\n",
       "                                        'min_samples_split': [2, 5],\n",
       "                                        'n_estimators': [300, 500]},\n",
       "                   random_state=42, scoring='f1_weighted')"
      ]
     },
     "execution_count": 7,
     "metadata": {},
     "output_type": "execute_result"
    }
   ],
   "source": [
    "param_grid = {\n",
    "    'bootstrap': [True],\n",
    "    'max_depth': [50, 100],\n",
    "    'max_features': [3, 8],\n",
    "    'min_samples_leaf': [3, 5],\n",
    "    'min_samples_split': [2, 5],\n",
    "    'n_estimators': [300, 500]\n",
    "}\n",
    "\n",
    "forest_reg = RandomForestClassifier(random_state=42, class_weight=\"balanced\")\n",
    "rnd_search = RandomizedSearchCV(forest_reg, param_distributions=param_grid,\n",
    "                                n_iter=5, cv=5, scoring='f1_weighted', random_state=42)\n",
    "rnd_search.fit(X_train3, y_train3)"
   ]
  },
  {
   "cell_type": "code",
   "execution_count": 8,
   "metadata": {},
   "outputs": [
    {
     "name": "stdout",
     "output_type": "stream",
     "text": [
      "0.8492911875026972 {'n_estimators': 500, 'min_samples_split': 2, 'min_samples_leaf': 5, 'max_features': 8, 'max_depth': 100, 'bootstrap': True}\n",
      "0.8492911875026972 {'n_estimators': 500, 'min_samples_split': 5, 'min_samples_leaf': 5, 'max_features': 8, 'max_depth': 50, 'bootstrap': True}\n",
      "0.85046490632888 {'n_estimators': 300, 'min_samples_split': 2, 'min_samples_leaf': 3, 'max_features': 8, 'max_depth': 100, 'bootstrap': True}\n",
      "0.8465482170352207 {'n_estimators': 500, 'min_samples_split': 2, 'min_samples_leaf': 3, 'max_features': 3, 'max_depth': 100, 'bootstrap': True}\n",
      "0.85046490632888 {'n_estimators': 300, 'min_samples_split': 2, 'min_samples_leaf': 3, 'max_features': 8, 'max_depth': 50, 'bootstrap': True}\n"
     ]
    }
   ],
   "source": [
    "\n",
    "cvres = rnd_search.cv_results_\n",
    "for f1_score, params in zip(cvres[\"mean_test_score\"], cvres[\"params\"]):\n",
    "    print(f1_score, params)"
   ]
  },
  {
   "cell_type": "code",
   "execution_count": 9,
   "metadata": {},
   "outputs": [],
   "source": [
    "final_model3 = rnd_search.best_estimator_"
   ]
  },
  {
   "cell_type": "code",
   "execution_count": 10,
   "metadata": {},
   "outputs": [],
   "source": [
    "pickle.dump(final_model3, open(\"models/best_3class_estimator_seperated_traders.pkl\", \"wb\"))"
   ]
  },
  {
   "cell_type": "markdown",
   "metadata": {},
   "source": [
    "### Load the model and test its performance:"
   ]
  },
  {
   "cell_type": "code",
   "execution_count": 5,
   "metadata": {},
   "outputs": [],
   "source": [
    "final_model3 = pickle.load(open(\"models/best_3class_estimator_seperated_traders.pkl\", \"rb\"))"
   ]
  },
  {
   "cell_type": "code",
   "execution_count": 11,
   "metadata": {},
   "outputs": [
    {
     "name": "stdout",
     "output_type": "stream",
     "text": [
      "Test Dataset\n",
      "              precision    recall  f1-score   support\n",
      "\n",
      "          -1       0.67      0.68      0.67     10870\n",
      "           0       0.82      0.96      0.88      5636\n",
      "           1       0.54      0.43      0.48      6136\n",
      "\n",
      "    accuracy                           0.68     22642\n",
      "   macro avg       0.67      0.69      0.68     22642\n",
      "weighted avg       0.67      0.68      0.67     22642\n",
      "\n"
     ]
    }
   ],
   "source": [
    "predictions3 = final_model3.predict(X_test3)\n",
    "print(\"Test Dataset\")\n",
    "print(classification_report(y_test3, predictions3))"
   ]
  },
  {
   "cell_type": "code",
   "execution_count": 12,
   "metadata": {},
   "outputs": [
    {
     "name": "stdout",
     "output_type": "stream",
     "text": [
      "Normalized confusion matrix\n",
      "[[6.80864765e-01 1.08003680e-01 2.11131555e-01]\n",
      " [4.32931157e-02 9.55464869e-01 1.24201561e-03]\n",
      " [5.64863103e-01 1.62972621e-04 4.34973924e-01]]\n"
     ]
    },
    {
     "data": {
      "text/plain": [
       "<Figure size 720x720 with 0 Axes>"
      ]
     },
     "metadata": {},
     "output_type": "display_data"
    },
    {
     "data": {
      "image/png": "[encoded data removed]",
      "text/plain": [
       "<Figure size 648x648 with 2 Axes>"
      ]
     },
     "metadata": {
      "needs_background": "light"
     },
     "output_type": "display_data"
    }
   ],
   "source": [
    "# Plot normalized confusion matrix\n",
    "class_names = [-1, 0,1]\n",
    "plt.figure(figsize=(10,10))\n",
    "disp = plot_confusion_matrix(final_model3, X_test3, y_test3,\n",
    "                             display_labels=class_names,\n",
    "                             cmap=plt.cm.Blues,\n",
    "                             normalize=\"true\")\n",
    "disp.ax_.set_title(\"Normalized confusion matrix\")\n",
    "\n",
    "print(\"Normalized confusion matrix\")\n",
    "print(disp.confusion_matrix)\n",
    "plt.grid(b=None)\n",
    "fig = plt.gcf()\n",
    "fig.set_size_inches(9,9)\n",
    "plt.show()"
   ]
  },
  {
   "cell_type": "markdown",
   "metadata": {},
   "source": [
    "## Feature importance"
   ]
  },
  {
   "cell_type": "code",
   "execution_count": 13,
   "metadata": {},
   "outputs": [
    {
     "name": "stdout",
     "output_type": "stream",
     "text": [
      "Feature ranking:\n",
      "1. feature 9 (0.230911)\n",
      "2. feature 17 (0.187995)\n",
      "3. feature 12 (0.109001)\n",
      "4. feature 2 (0.106987)\n",
      "5. feature 7 (0.059549)\n",
      "6. feature 10 (0.056457)\n",
      "7. feature 1 (0.055629)\n",
      "8. feature 8 (0.038051)\n",
      "9. feature 11 (0.035148)\n",
      "10. feature 6 (0.029722)\n",
      "11. feature 0 (0.019759)\n",
      "12. feature 3 (0.017371)\n",
      "13. feature 5 (0.014852)\n",
      "14. feature 4 (0.013395)\n",
      "15. feature 16 (0.011654)\n",
      "16. feature 14 (0.006183)\n",
      "17. feature 15 (0.004494)\n",
      "18. feature 13 (0.002844)\n"
     ]
    },
    {
     "data": {
      "image/png": "[encoded data removed]",
      "text/plain": [
       "<Figure size 432x288 with 1 Axes>"
      ]
     },
     "metadata": {
      "needs_background": "light"
     },
     "output_type": "display_data"
    }
   ],
   "source": [
    "importances = final_model3.feature_importances_\n",
    "std = np.std([tree.feature_importances_ for tree in final_model3.estimators_],\n",
    "             axis=0)\n",
    "indices = np.argsort(importances)[::-1]\n",
    "\n",
    "# Print the feature ranking\n",
    "print(\"Feature ranking:\")\n",
    "\n",
    "for f in range(X_train3.shape[1]):\n",
    "    print(\"%d. feature %d (%f)\" % (f + 1, indices[f], importances[indices[f]]))\n",
    "\n",
    "# Plot the impurity-based feature importances of the forest\n",
    "plt.figure()\n",
    "plt.title(\"Feature importances\")\n",
    "plt.bar(range(X_train3.shape[1]), importances[indices],\n",
    "        color=\"r\", yerr=std[indices], align=\"center\")\n",
    "plt.xticks(range(X_train3.shape[1]), indices)\n",
    "plt.xlim([-1, X_train3.shape[1]])\n",
    "plt.show()\n"
   ]
  }
 ],
 "metadata": {
  "kernelspec": {
   "display_name": "Python 3",
   "language": "python",
   "name": "python3"
  },
  "language_info": {
   "codemirror_mode": {
    "name": "ipython",
    "version": 3
   },
   "file_extension": ".py",
   "mimetype": "text/x-python",
   "name": "python",
   "nbconvert_exporter": "python",
   "pygments_lexer": "ipython3",
   "version": "3.8.8"
  }
 },
 "nbformat": 4,
 "nbformat_minor": 4
}
