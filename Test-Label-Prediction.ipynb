{
 "cells": [
  {
   "cell_type": "markdown",
   "id": "relative-interstate",
   "metadata": {},
   "source": [
    "# In this notebook we try to predict the labels of the test set with our models:"
   ]
  },
  {
   "cell_type": "code",
   "execution_count": 1,
   "id": "robust-turkish",
   "metadata": {},
   "outputs": [],
   "source": [
    "import pandas as pd\n",
    "import numpy as np\n",
    "import lightgbm as lgb\n",
    "import seaborn as sns\n",
    "import pickle\n",
    "import tensorflow as tf\n",
    "from tensorflow import keras\n",
    "\n",
    "# Importing Testing class:\n",
    "from TestingPipeline.TestModel import *"
   ]
  },
  {
   "cell_type": "markdown",
   "id": "cloudy-collector",
   "metadata": {},
   "source": [
    "## Loading Data:"
   ]
  },
  {
   "cell_type": "code",
   "execution_count": 2,
   "id": "pointed-visibility",
   "metadata": {},
   "outputs": [],
   "source": [
    "test_data = pd.read_csv('Processed_data/X_test_preprocessed.csv')"
   ]
  },
  {
   "cell_type": "code",
   "execution_count": 3,
   "id": "digital-detection",
   "metadata": {},
   "outputs": [],
   "source": [
    "test_traders = test_data['Trader']\n",
    "X_test       = test_data.drop(columns = 'Trader')"
   ]
  },
  {
   "cell_type": "code",
   "execution_count": 4,
   "id": "aquatic-actress",
   "metadata": {},
   "outputs": [
    {
     "data": {
      "text/html": [
       "<div>\n",
       "<style scoped>\n",
       "    .dataframe tbody tr th:only-of-type {\n",
       "        vertical-align: middle;\n",
       "    }\n",
       "\n",
       "    .dataframe tbody tr th {\n",
       "        vertical-align: top;\n",
       "    }\n",
       "\n",
       "    .dataframe thead th {\n",
       "        text-align: right;\n",
       "    }\n",
       "</style>\n",
       "<table border=\"1\" class=\"dataframe\">\n",
       "  <thead>\n",
       "    <tr style=\"text-align: right;\">\n",
       "      <th></th>\n",
       "      <th>OTR</th>\n",
       "      <th>OCR</th>\n",
       "      <th>OMR</th>\n",
       "      <th>10_p_time_two_events</th>\n",
       "      <th>med_time_two_events</th>\n",
       "      <th>25_p_time_two_events</th>\n",
       "      <th>75_p_time_two_events</th>\n",
       "      <th>90_p_time_two_events</th>\n",
       "      <th>max_time_two_events</th>\n",
       "      <th>min_lifetime_cancel</th>\n",
       "      <th>med_lifetime_cancel</th>\n",
       "      <th>90_p_lifetime_cancel</th>\n",
       "      <th>NbTradeVenueMic</th>\n",
       "      <th>MaxNbTradesBySecond</th>\n",
       "      <th>MeanNbTradesBySecond</th>\n",
       "      <th>mean_dt_TV1</th>\n",
       "      <th>NbSecondWithAtLeatOneTrade</th>\n",
       "      <th>Nber_shares_same_day</th>\n",
       "    </tr>\n",
       "  </thead>\n",
       "  <tbody>\n",
       "    <tr>\n",
       "      <th>0</th>\n",
       "      <td>0.897059</td>\n",
       "      <td>0.014706</td>\n",
       "      <td>0.0</td>\n",
       "      <td>0.000061</td>\n",
       "      <td>0.003870</td>\n",
       "      <td>0.000196</td>\n",
       "      <td>0.340629</td>\n",
       "      <td>4.720414</td>\n",
       "      <td>751.59094</td>\n",
       "      <td>283.95500</td>\n",
       "      <td>283.95500</td>\n",
       "      <td>283.95500</td>\n",
       "      <td>1</td>\n",
       "      <td>19</td>\n",
       "      <td>3.812500</td>\n",
       "      <td>514.483186</td>\n",
       "      <td>16</td>\n",
       "      <td>1</td>\n",
       "    </tr>\n",
       "    <tr>\n",
       "      <th>1</th>\n",
       "      <td>0.600000</td>\n",
       "      <td>0.200000</td>\n",
       "      <td>0.0</td>\n",
       "      <td>0.001970</td>\n",
       "      <td>0.005786</td>\n",
       "      <td>0.001970</td>\n",
       "      <td>0.008854</td>\n",
       "      <td>270.505680</td>\n",
       "      <td>270.50568</td>\n",
       "      <td>270.52230</td>\n",
       "      <td>270.52230</td>\n",
       "      <td>270.52230</td>\n",
       "      <td>1</td>\n",
       "      <td>3</td>\n",
       "      <td>3.000000</td>\n",
       "      <td>0.004000</td>\n",
       "      <td>1</td>\n",
       "      <td>1</td>\n",
       "    </tr>\n",
       "    <tr>\n",
       "      <th>2</th>\n",
       "      <td>0.918919</td>\n",
       "      <td>0.027027</td>\n",
       "      <td>0.0</td>\n",
       "      <td>0.000000</td>\n",
       "      <td>0.000485</td>\n",
       "      <td>0.000070</td>\n",
       "      <td>2.182102</td>\n",
       "      <td>250.331450</td>\n",
       "      <td>272.06940</td>\n",
       "      <td>272.06940</td>\n",
       "      <td>272.06940</td>\n",
       "      <td>272.06940</td>\n",
       "      <td>1</td>\n",
       "      <td>13</td>\n",
       "      <td>5.666667</td>\n",
       "      <td>124.194500</td>\n",
       "      <td>6</td>\n",
       "      <td>1</td>\n",
       "    </tr>\n",
       "    <tr>\n",
       "      <th>3</th>\n",
       "      <td>0.444444</td>\n",
       "      <td>0.222222</td>\n",
       "      <td>0.0</td>\n",
       "      <td>0.000000</td>\n",
       "      <td>0.004708</td>\n",
       "      <td>0.001081</td>\n",
       "      <td>230.002690</td>\n",
       "      <td>389.484830</td>\n",
       "      <td>389.48483</td>\n",
       "      <td>230.00269</td>\n",
       "      <td>230.00269</td>\n",
       "      <td>389.48483</td>\n",
       "      <td>1</td>\n",
       "      <td>3</td>\n",
       "      <td>2.000000</td>\n",
       "      <td>0.261333</td>\n",
       "      <td>2</td>\n",
       "      <td>1</td>\n",
       "    </tr>\n",
       "    <tr>\n",
       "      <th>4</th>\n",
       "      <td>0.789474</td>\n",
       "      <td>0.052632</td>\n",
       "      <td>0.0</td>\n",
       "      <td>0.000063</td>\n",
       "      <td>0.000152</td>\n",
       "      <td>0.000065</td>\n",
       "      <td>0.339079</td>\n",
       "      <td>129.889250</td>\n",
       "      <td>549.25635</td>\n",
       "      <td>237.76761</td>\n",
       "      <td>237.76761</td>\n",
       "      <td>237.76761</td>\n",
       "      <td>1</td>\n",
       "      <td>6</td>\n",
       "      <td>3.000000</td>\n",
       "      <td>4621.266333</td>\n",
       "      <td>5</td>\n",
       "      <td>1</td>\n",
       "    </tr>\n",
       "  </tbody>\n",
       "</table>\n",
       "</div>"
      ],
      "text/plain": [
       "        OTR       OCR  OMR  10_p_time_two_events  med_time_two_events  \\\n",
       "0  0.897059  0.014706  0.0              0.000061             0.003870   \n",
       "1  0.600000  0.200000  0.0              0.001970             0.005786   \n",
       "2  0.918919  0.027027  0.0              0.000000             0.000485   \n",
       "3  0.444444  0.222222  0.0              0.000000             0.004708   \n",
       "4  0.789474  0.052632  0.0              0.000063             0.000152   \n",
       "\n",
       "   25_p_time_two_events  75_p_time_two_events  90_p_time_two_events  \\\n",
       "0              0.000196              0.340629              4.720414   \n",
       "1              0.001970              0.008854            270.505680   \n",
       "2              0.000070              2.182102            250.331450   \n",
       "3              0.001081            230.002690            389.484830   \n",
       "4              0.000065              0.339079            129.889250   \n",
       "\n",
       "   max_time_two_events  min_lifetime_cancel  med_lifetime_cancel  \\\n",
       "0            751.59094            283.95500            283.95500   \n",
       "1            270.50568            270.52230            270.52230   \n",
       "2            272.06940            272.06940            272.06940   \n",
       "3            389.48483            230.00269            230.00269   \n",
       "4            549.25635            237.76761            237.76761   \n",
       "\n",
       "   90_p_lifetime_cancel  NbTradeVenueMic  MaxNbTradesBySecond  \\\n",
       "0             283.95500                1                   19   \n",
       "1             270.52230                1                    3   \n",
       "2             272.06940                1                   13   \n",
       "3             389.48483                1                    3   \n",
       "4             237.76761                1                    6   \n",
       "\n",
       "   MeanNbTradesBySecond  mean_dt_TV1  NbSecondWithAtLeatOneTrade  \\\n",
       "0              3.812500   514.483186                          16   \n",
       "1              3.000000     0.004000                           1   \n",
       "2              5.666667   124.194500                           6   \n",
       "3              2.000000     0.261333                           2   \n",
       "4              3.000000  4621.266333                           5   \n",
       "\n",
       "   Nber_shares_same_day  \n",
       "0                     1  \n",
       "1                     1  \n",
       "2                     1  \n",
       "3                     1  \n",
       "4                     1  "
      ]
     },
     "execution_count": 4,
     "metadata": {},
     "output_type": "execute_result"
    }
   ],
   "source": [
    "X_test.head()"
   ]
  },
  {
   "cell_type": "markdown",
   "id": "major-charles",
   "metadata": {},
   "source": [
    "## Testing on best gbm model:"
   ]
  },
  {
   "cell_type": "code",
   "execution_count": 5,
   "id": "loose-luxembourg",
   "metadata": {},
   "outputs": [],
   "source": [
    "clf = pickle.load(open(\"models/18_features_gridsearch.pkl\", \"rb\"))"
   ]
  },
  {
   "cell_type": "code",
   "execution_count": 6,
   "id": "anticipated-postage",
   "metadata": {},
   "outputs": [],
   "source": [
    "y_pred_test = clf.predict(X_test)"
   ]
  },
  {
   "cell_type": "markdown",
   "id": "inappropriate-stranger",
   "metadata": {},
   "source": [
    "### Saving predictions in a csv:"
   ]
  },
  {
   "cell_type": "code",
   "execution_count": 7,
   "id": "prospective-tolerance",
   "metadata": {},
   "outputs": [
    {
     "name": "stdout",
     "output_type": "stream",
     "text": [
      "Creating the Dataframe of predictions:\n",
      "                 Trader  type\n",
      "85299  The Magic Mirror    -1\n",
      "85300  The Magic Mirror    -1\n",
      "85301  The Magic Mirror    -1\n",
      "85302  The Magic Mirror    -1\n",
      "85303  The Magic Mirror    -1\n",
      "\n",
      "\n",
      "Predicting value for each trader based on a majority vote:\n",
      "              Trader  type\n",
      "80           Monstro    -1\n",
      "81           Morgana    -1\n",
      "82      The Doorknob     1\n",
      "83       The Doorman     1\n",
      "84  The Magic Mirror    -1\n",
      "\n",
      "\n",
      "Converting the predictions to string value:\n",
      "              Trader type\n",
      "80           Monstro  MIX\n",
      "81           Morgana  MIX\n",
      "82      The Doorknob  HFT\n",
      "83       The Doorman  HFT\n",
      "84  The Magic Mirror  MIX\n",
      "\n",
      "\n",
      "Saving them to Predictions/Predictions_18_features_gridsearch2.csv\n"
     ]
    }
   ],
   "source": [
    "testclf = TestModel(traders=test_traders, preds=y_pred_test, threshold=0, foldername=\"Predictions/Predictions_18_features_gridsearch2.csv\")\n",
    "testclf.CreatePredCSV()"
   ]
  },
  {
   "cell_type": "markdown",
   "id": "eleven-incidence",
   "metadata": {},
   "source": [
    "#### Shocasing the new labels of the flipped traders:"
   ]
  },
  {
   "cell_type": "code",
   "execution_count": 8,
   "id": "intense-station",
   "metadata": {},
   "outputs": [
    {
     "data": {
      "text/html": [
       "<div>\n",
       "<style scoped>\n",
       "    .dataframe tbody tr th:only-of-type {\n",
       "        vertical-align: middle;\n",
       "    }\n",
       "\n",
       "    .dataframe tbody tr th {\n",
       "        vertical-align: top;\n",
       "    }\n",
       "\n",
       "    .dataframe thead th {\n",
       "        text-align: right;\n",
       "    }\n",
       "</style>\n",
       "<table border=\"1\" class=\"dataframe\">\n",
       "  <thead>\n",
       "    <tr style=\"text-align: right;\">\n",
       "      <th></th>\n",
       "      <th>Trader</th>\n",
       "      <th>type</th>\n",
       "    </tr>\n",
       "  </thead>\n",
       "  <tbody>\n",
       "    <tr>\n",
       "      <th>7</th>\n",
       "      <td>Armoire</td>\n",
       "      <td>MIX</td>\n",
       "    </tr>\n",
       "    <tr>\n",
       "      <th>9</th>\n",
       "      <td>Axe</td>\n",
       "      <td>MIX</td>\n",
       "    </tr>\n",
       "    <tr>\n",
       "      <th>23</th>\n",
       "      <td>Bookseller</td>\n",
       "      <td>HFT</td>\n",
       "    </tr>\n",
       "    <tr>\n",
       "      <th>80</th>\n",
       "      <td>Monstro</td>\n",
       "      <td>MIX</td>\n",
       "    </tr>\n",
       "    <tr>\n",
       "      <th>82</th>\n",
       "      <td>The Doorknob</td>\n",
       "      <td>HFT</td>\n",
       "    </tr>\n",
       "  </tbody>\n",
       "</table>\n",
       "</div>"
      ],
      "text/plain": [
       "          Trader type\n",
       "7        Armoire  MIX\n",
       "9            Axe  MIX\n",
       "23    Bookseller  HFT\n",
       "80       Monstro  MIX\n",
       "82  The Doorknob  HFT"
      ]
     },
     "execution_count": 8,
     "metadata": {},
     "output_type": "execute_result"
    }
   ],
   "source": [
    "testclf.Fpreds[testclf.Fpreds['Trader'].str.contains(\"Armoire|Axe|Bookseller|Monstro|The Doorknob\", na=False)]"
   ]
  },
  {
   "cell_type": "code",
   "execution_count": 9,
   "id": "incident-fluid",
   "metadata": {},
   "outputs": [],
   "source": [
    "#testclf.Ipreds.groupby('Trader').type.apply(lambda x: (x == 0).mean())"
   ]
  },
  {
   "cell_type": "markdown",
   "id": "empty-washington",
   "metadata": {},
   "source": [
    "## Testing our gbm model on reduced features test data:"
   ]
  },
  {
   "cell_type": "markdown",
   "id": "communist-seven",
   "metadata": {},
   "source": [
    "### Loading model:"
   ]
  },
  {
   "cell_type": "code",
   "execution_count": 9,
   "id": "anonymous-canyon",
   "metadata": {},
   "outputs": [],
   "source": [
    "clf2 = pickle.load(open(\"models/10_features_gridsearch.pkl\", \"rb\"))"
   ]
  },
  {
   "cell_type": "code",
   "execution_count": 10,
   "id": "small-progress",
   "metadata": {},
   "outputs": [],
   "source": [
    "X_test_reduced = X_test.iloc[:, [0,1,2,9,17,12,7,8,10,11]]"
   ]
  },
  {
   "cell_type": "code",
   "execution_count": 11,
   "id": "increasing-joint",
   "metadata": {},
   "outputs": [
    {
     "data": {
      "text/plain": [
       "array([ 0,  0,  0, ..., -1, -1, -1])"
      ]
     },
     "execution_count": 11,
     "metadata": {},
     "output_type": "execute_result"
    }
   ],
   "source": [
    "y_pred_test2 = clf2.predict(X_test_reduced)\n",
    "y_pred_test2"
   ]
  },
  {
   "cell_type": "markdown",
   "id": "fiscal-template",
   "metadata": {},
   "source": [
    "### Saving predictions in a csv:"
   ]
  },
  {
   "cell_type": "code",
   "execution_count": 13,
   "id": "broadband-baltimore",
   "metadata": {},
   "outputs": [
    {
     "name": "stdout",
     "output_type": "stream",
     "text": [
      "Creating the Dataframe of predictions:\n",
      "                 Trader  type\n",
      "85299  The Magic Mirror    -1\n",
      "85300  The Magic Mirror    -1\n",
      "85301  The Magic Mirror    -1\n",
      "85302  The Magic Mirror    -1\n",
      "85303  The Magic Mirror    -1\n",
      "\n",
      "\n",
      "Predicting value for each trader based on a majority vote:\n",
      "              Trader  type\n",
      "80           Monstro     0\n",
      "81           Morgana    -1\n",
      "82      The Doorknob     1\n",
      "83       The Doorman     1\n",
      "84  The Magic Mirror    -1\n",
      "\n",
      "\n",
      "Converting the predictions to string value:\n",
      "              Trader     type\n",
      "80           Monstro  NON HFT\n",
      "81           Morgana      MIX\n",
      "82      The Doorknob      HFT\n",
      "83       The Doorman      HFT\n",
      "84  The Magic Mirror      MIX\n",
      "\n",
      "\n",
      "Saving them to Predictions/Predictions_10_features_gridsearch.csv\n"
     ]
    }
   ],
   "source": [
    "testclf = TestModel(traders=test_traders, preds=y_pred_test2, threshold=0, foldername=\"Predictions/Predictions_10_features_gridsearch.csv\")\n",
    "testclf.CreatePredCSV()"
   ]
  },
  {
   "cell_type": "markdown",
   "id": "illegal-hunter",
   "metadata": {},
   "source": [
    "### Predictions of the best random forest model:"
   ]
  },
  {
   "cell_type": "code",
   "execution_count": 14,
   "id": "needed-madrid",
   "metadata": {},
   "outputs": [
    {
     "name": "stderr",
     "output_type": "stream",
     "text": [
      "/Data/pls_do_not_delete/miniconda3/envs/inf554/lib/python3.8/site-packages/sklearn/base.py:310: UserWarning: Trying to unpickle estimator DecisionTreeClassifier from version 0.23.2 when using version 0.24.1. This might lead to breaking code or invalid results. Use at your own risk.\n",
      "  warnings.warn(\n",
      "/Data/pls_do_not_delete/miniconda3/envs/inf554/lib/python3.8/site-packages/sklearn/base.py:310: UserWarning: Trying to unpickle estimator RandomForestClassifier from version 0.23.2 when using version 0.24.1. This might lead to breaking code or invalid results. Use at your own risk.\n",
      "  warnings.warn(\n"
     ]
    }
   ],
   "source": [
    "bestRF = pickle.load(open(\"models/best_3class_estimator.pkl\", \"rb\"))"
   ]
  },
  {
   "cell_type": "code",
   "execution_count": 15,
   "id": "capital-garden",
   "metadata": {},
   "outputs": [],
   "source": [
    "y_pred_test3 = bestRF.predict(X_test)"
   ]
  },
  {
   "cell_type": "markdown",
   "id": "bacterial-elite",
   "metadata": {},
   "source": [
    "### Saving predictions in a csv:"
   ]
  },
  {
   "cell_type": "code",
   "execution_count": 16,
   "id": "ideal-wilderness",
   "metadata": {},
   "outputs": [
    {
     "name": "stdout",
     "output_type": "stream",
     "text": [
      "Creating the Dataframe of predictions:\n",
      "                 Trader  type\n",
      "85299  The Magic Mirror    -1\n",
      "85300  The Magic Mirror    -1\n",
      "85301  The Magic Mirror    -1\n",
      "85302  The Magic Mirror    -1\n",
      "85303  The Magic Mirror    -1\n",
      "\n",
      "\n",
      "Predicting value for each trader based on a majority vote:\n",
      "Flipped Armoire\n",
      "Flipped Axe\n",
      "Flipped Bookseller\n",
      "Flipped Dijon the Thief\n",
      "Flipped Monstro\n",
      "Flipped The Doorknob\n",
      "              Trader  type\n",
      "80           Monstro     1\n",
      "81           Morgana    -1\n",
      "82      The Doorknob    -1\n",
      "83       The Doorman     1\n",
      "84  The Magic Mirror    -1\n",
      "\n",
      "\n",
      "Converting the predictions to string value:\n",
      "              Trader type\n",
      "80           Monstro  HFT\n",
      "81           Morgana  MIX\n",
      "82      The Doorknob  MIX\n",
      "83       The Doorman  HFT\n",
      "84  The Magic Mirror  MIX\n",
      "\n",
      "\n",
      "Saving them to Predictions/Predictions_randomforest_doubleflipped.csv\n"
     ]
    }
   ],
   "source": [
    "testclf = TestModel(traders=test_traders, preds=y_pred_test3, threshold=0.85, foldername=\"Predictions/Predictions_randomforest_doubleflipped.csv\")\n",
    "testclf.CreatePredCSV()"
   ]
  },
  {
   "cell_type": "markdown",
   "id": "behind-theorem",
   "metadata": {},
   "source": [
    "#### Shocasing the new labels of the flipped traders:"
   ]
  },
  {
   "cell_type": "code",
   "execution_count": 17,
   "id": "fresh-conversion",
   "metadata": {},
   "outputs": [
    {
     "data": {
      "text/html": [
       "<div>\n",
       "<style scoped>\n",
       "    .dataframe tbody tr th:only-of-type {\n",
       "        vertical-align: middle;\n",
       "    }\n",
       "\n",
       "    .dataframe tbody tr th {\n",
       "        vertical-align: top;\n",
       "    }\n",
       "\n",
       "    .dataframe thead th {\n",
       "        text-align: right;\n",
       "    }\n",
       "</style>\n",
       "<table border=\"1\" class=\"dataframe\">\n",
       "  <thead>\n",
       "    <tr style=\"text-align: right;\">\n",
       "      <th></th>\n",
       "      <th>Trader</th>\n",
       "      <th>type</th>\n",
       "    </tr>\n",
       "  </thead>\n",
       "  <tbody>\n",
       "    <tr>\n",
       "      <th>7</th>\n",
       "      <td>Armoire</td>\n",
       "      <td>HFT</td>\n",
       "    </tr>\n",
       "    <tr>\n",
       "      <th>9</th>\n",
       "      <td>Axe</td>\n",
       "      <td>HFT</td>\n",
       "    </tr>\n",
       "    <tr>\n",
       "      <th>23</th>\n",
       "      <td>Bookseller</td>\n",
       "      <td>MIX</td>\n",
       "    </tr>\n",
       "    <tr>\n",
       "      <th>38</th>\n",
       "      <td>Dijon the Thief</td>\n",
       "      <td>HFT</td>\n",
       "    </tr>\n",
       "    <tr>\n",
       "      <th>80</th>\n",
       "      <td>Monstro</td>\n",
       "      <td>HFT</td>\n",
       "    </tr>\n",
       "    <tr>\n",
       "      <th>82</th>\n",
       "      <td>The Doorknob</td>\n",
       "      <td>MIX</td>\n",
       "    </tr>\n",
       "  </tbody>\n",
       "</table>\n",
       "</div>"
      ],
      "text/plain": [
       "             Trader type\n",
       "7           Armoire  HFT\n",
       "9               Axe  HFT\n",
       "23       Bookseller  MIX\n",
       "38  Dijon the Thief  HFT\n",
       "80          Monstro  HFT\n",
       "82     The Doorknob  MIX"
      ]
     },
     "execution_count": 17,
     "metadata": {},
     "output_type": "execute_result"
    }
   ],
   "source": [
    "testclf.Fpreds[testclf.Fpreds['Trader'].str.contains(\"Armoire|Axe|Bookseller|Dijon the Thief|Monstro|The Doorknob\", na=False)]"
   ]
  },
  {
   "cell_type": "markdown",
   "id": "interracial-appeal",
   "metadata": {},
   "source": [
    "## Testing the MLP"
   ]
  },
  {
   "cell_type": "code",
   "execution_count": 18,
   "id": "substantial-stanley",
   "metadata": {},
   "outputs": [],
   "source": [
    "loaded_model = keras.models.load_model(\"models/MLP_Batchnorm_2Hidden\")"
   ]
  },
  {
   "cell_type": "code",
   "execution_count": 19,
   "id": "boxed-bangkok",
   "metadata": {},
   "outputs": [
    {
     "data": {
      "text/plain": [
       "array([[ 0.3257315 ,  1.1209224 ,  0.18258204],\n",
       "       [ 0.16294184,  0.85154235,  0.7588287 ],\n",
       "       [ 0.41316128,  0.9337405 ,  0.4397935 ],\n",
       "       ...,\n",
       "       [ 6.3699093 , -1.6792765 ,  0.60651857],\n",
       "       [ 3.789208  , -5.281334  ,  1.0269186 ],\n",
       "       [ 5.331189  , -5.0209804 , -0.17655973]], dtype=float32)"
      ]
     },
     "execution_count": 19,
     "metadata": {},
     "output_type": "execute_result"
    }
   ],
   "source": [
    "y_pred_test3 = loaded_model.predict(X_test)\n",
    "y_pred_test3"
   ]
  },
  {
   "cell_type": "code",
   "execution_count": 20,
   "id": "friendly-establishment",
   "metadata": {},
   "outputs": [
    {
     "name": "stdout",
     "output_type": "stream",
     "text": [
      "Creating the Dataframe of predictions:\n",
      "                 Trader  type\n",
      "85299  The Magic Mirror    -1\n",
      "85300  The Magic Mirror    -1\n",
      "85301  The Magic Mirror    -1\n",
      "85302  The Magic Mirror    -1\n",
      "85303  The Magic Mirror    -1\n",
      "\n",
      "\n",
      "Predicting value for each trader based on a majority vote:\n",
      "              Trader  type\n",
      "80           Monstro     0\n",
      "81           Morgana    -1\n",
      "82      The Doorknob     1\n",
      "83       The Doorman     1\n",
      "84  The Magic Mirror    -1\n",
      "\n",
      "\n",
      "Converting the predictions to string value:\n",
      "              Trader     type\n",
      "80           Monstro  NON HFT\n",
      "81           Morgana      MIX\n",
      "82      The Doorknob      HFT\n",
      "83       The Doorman      HFT\n",
      "84  The Magic Mirror      MIX\n",
      "\n",
      "\n",
      "Saving them to Predictions/Predictions_MLP_drop_batchnorm.csv\n"
     ]
    }
   ],
   "source": [
    "testmod = TestModel(traders=test_traders, preds=y_pred_test2, threshold=None, foldername=\"Predictions/Predictions_MLP_drop_batchnorm.csv\")\n",
    "testmod.CreatePredCSV()"
   ]
  }
 ],
 "metadata": {
  "kernelspec": {
   "display_name": "Python 3",
   "language": "python",
   "name": "python3"
  },
  "language_info": {
   "codemirror_mode": {
    "name": "ipython",
    "version": 3
   },
   "file_extension": ".py",
   "mimetype": "text/x-python",
   "name": "python",
   "nbconvert_exporter": "python",
   "pygments_lexer": "ipython3",
   "version": "3.8.8"
  }
 },
 "nbformat": 4,
 "nbformat_minor": 5
}
